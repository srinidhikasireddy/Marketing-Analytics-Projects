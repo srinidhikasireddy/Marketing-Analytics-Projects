{
  "nbformat": 4,
  "nbformat_minor": 0,
  "metadata": {
    "colab": {
      "provenance": [],
      "collapsed_sections": [
        "LFfUof6AVyRL",
        "FfOgVyHbXexG",
        "c_rmeXIEYCM9"
      ]
    },
    "kernelspec": {
      "name": "python3",
      "display_name": "Python 3"
    },
    "language_info": {
      "name": "python"
    }
  },
  "cells": [
    {
      "cell_type": "markdown",
      "source": [
        "# **Part 1**"
      ],
      "metadata": {
        "id": "VSpxALQmd9_5"
      }
    },
    {
      "cell_type": "code",
      "execution_count": null,
      "metadata": {
        "id": "rHutQMNrUCdr"
      },
      "outputs": [],
      "source": [
        "# Import the libraries\n",
        "import numpy as np\n",
        "import matplotlib.pyplot as plt\n",
        "import pandas as pd\n",
        "import csv\n"
      ]
    },
    {
      "cell_type": "code",
      "source": [
        "# Read the data\n",
        "df = pd.read_csv('Restaurant_Reviews.tsv', delimiter ='\\t')"
      ],
      "metadata": {
        "id": "pS1ngFdgUNGU"
      },
      "execution_count": 12,
      "outputs": []
    },
    {
      "cell_type": "code",
      "source": [
        "df.head()\n"
      ],
      "metadata": {
        "colab": {
          "base_uri": "https://localhost:8080/",
          "height": 206
        },
        "id": "eK1AAOGeUTf3",
        "outputId": "f80ca0ac-e948-4823-f3fa-73b696b37d08"
      },
      "execution_count": 13,
      "outputs": [
        {
          "output_type": "execute_result",
          "data": {
            "text/plain": [
              "                                              Review  Liked\n",
              "0                  Wow... Loved this place. 25 times      1\n",
              "1                                 Crust is not good.      0\n",
              "2          Not tasty and the texture was just nasty.      0\n",
              "3  Stopped by during the late May bank holiday of...      1\n",
              "4  The selection on the menu was great and so wer...      1"
            ],
            "text/html": [
              "\n",
              "  <div id=\"df-9ae16b11-70eb-4d2c-ab37-101b68f805b6\">\n",
              "    <div class=\"colab-df-container\">\n",
              "      <div>\n",
              "<style scoped>\n",
              "    .dataframe tbody tr th:only-of-type {\n",
              "        vertical-align: middle;\n",
              "    }\n",
              "\n",
              "    .dataframe tbody tr th {\n",
              "        vertical-align: top;\n",
              "    }\n",
              "\n",
              "    .dataframe thead th {\n",
              "        text-align: right;\n",
              "    }\n",
              "</style>\n",
              "<table border=\"1\" class=\"dataframe\">\n",
              "  <thead>\n",
              "    <tr style=\"text-align: right;\">\n",
              "      <th></th>\n",
              "      <th>Review</th>\n",
              "      <th>Liked</th>\n",
              "    </tr>\n",
              "  </thead>\n",
              "  <tbody>\n",
              "    <tr>\n",
              "      <th>0</th>\n",
              "      <td>Wow... Loved this place. 25 times</td>\n",
              "      <td>1</td>\n",
              "    </tr>\n",
              "    <tr>\n",
              "      <th>1</th>\n",
              "      <td>Crust is not good.</td>\n",
              "      <td>0</td>\n",
              "    </tr>\n",
              "    <tr>\n",
              "      <th>2</th>\n",
              "      <td>Not tasty and the texture was just nasty.</td>\n",
              "      <td>0</td>\n",
              "    </tr>\n",
              "    <tr>\n",
              "      <th>3</th>\n",
              "      <td>Stopped by during the late May bank holiday of...</td>\n",
              "      <td>1</td>\n",
              "    </tr>\n",
              "    <tr>\n",
              "      <th>4</th>\n",
              "      <td>The selection on the menu was great and so wer...</td>\n",
              "      <td>1</td>\n",
              "    </tr>\n",
              "  </tbody>\n",
              "</table>\n",
              "</div>\n",
              "      <button class=\"colab-df-convert\" onclick=\"convertToInteractive('df-9ae16b11-70eb-4d2c-ab37-101b68f805b6')\"\n",
              "              title=\"Convert this dataframe to an interactive table.\"\n",
              "              style=\"display:none;\">\n",
              "        \n",
              "  <svg xmlns=\"http://www.w3.org/2000/svg\" height=\"24px\"viewBox=\"0 0 24 24\"\n",
              "       width=\"24px\">\n",
              "    <path d=\"M0 0h24v24H0V0z\" fill=\"none\"/>\n",
              "    <path d=\"M18.56 5.44l.94 2.06.94-2.06 2.06-.94-2.06-.94-.94-2.06-.94 2.06-2.06.94zm-11 1L8.5 8.5l.94-2.06 2.06-.94-2.06-.94L8.5 2.5l-.94 2.06-2.06.94zm10 10l.94 2.06.94-2.06 2.06-.94-2.06-.94-.94-2.06-.94 2.06-2.06.94z\"/><path d=\"M17.41 7.96l-1.37-1.37c-.4-.4-.92-.59-1.43-.59-.52 0-1.04.2-1.43.59L10.3 9.45l-7.72 7.72c-.78.78-.78 2.05 0 2.83L4 21.41c.39.39.9.59 1.41.59.51 0 1.02-.2 1.41-.59l7.78-7.78 2.81-2.81c.8-.78.8-2.07 0-2.86zM5.41 20L4 18.59l7.72-7.72 1.47 1.35L5.41 20z\"/>\n",
              "  </svg>\n",
              "      </button>\n",
              "      \n",
              "  <style>\n",
              "    .colab-df-container {\n",
              "      display:flex;\n",
              "      flex-wrap:wrap;\n",
              "      gap: 12px;\n",
              "    }\n",
              "\n",
              "    .colab-df-convert {\n",
              "      background-color: #E8F0FE;\n",
              "      border: none;\n",
              "      border-radius: 50%;\n",
              "      cursor: pointer;\n",
              "      display: none;\n",
              "      fill: #1967D2;\n",
              "      height: 32px;\n",
              "      padding: 0 0 0 0;\n",
              "      width: 32px;\n",
              "    }\n",
              "\n",
              "    .colab-df-convert:hover {\n",
              "      background-color: #E2EBFA;\n",
              "      box-shadow: 0px 1px 2px rgba(60, 64, 67, 0.3), 0px 1px 3px 1px rgba(60, 64, 67, 0.15);\n",
              "      fill: #174EA6;\n",
              "    }\n",
              "\n",
              "    [theme=dark] .colab-df-convert {\n",
              "      background-color: #3B4455;\n",
              "      fill: #D2E3FC;\n",
              "    }\n",
              "\n",
              "    [theme=dark] .colab-df-convert:hover {\n",
              "      background-color: #434B5C;\n",
              "      box-shadow: 0px 1px 3px 1px rgba(0, 0, 0, 0.15);\n",
              "      filter: drop-shadow(0px 1px 2px rgba(0, 0, 0, 0.3));\n",
              "      fill: #FFFFFF;\n",
              "    }\n",
              "  </style>\n",
              "\n",
              "      <script>\n",
              "        const buttonEl =\n",
              "          document.querySelector('#df-9ae16b11-70eb-4d2c-ab37-101b68f805b6 button.colab-df-convert');\n",
              "        buttonEl.style.display =\n",
              "          google.colab.kernel.accessAllowed ? 'block' : 'none';\n",
              "\n",
              "        async function convertToInteractive(key) {\n",
              "          const element = document.querySelector('#df-9ae16b11-70eb-4d2c-ab37-101b68f805b6');\n",
              "          const dataTable =\n",
              "            await google.colab.kernel.invokeFunction('convertToInteractive',\n",
              "                                                     [key], {});\n",
              "          if (!dataTable) return;\n",
              "\n",
              "          const docLinkHtml = 'Like what you see? Visit the ' +\n",
              "            '<a target=\"_blank\" href=https://colab.research.google.com/notebooks/data_table.ipynb>data table notebook</a>'\n",
              "            + ' to learn more about interactive tables.';\n",
              "          element.innerHTML = '';\n",
              "          dataTable['output_type'] = 'display_data';\n",
              "          await google.colab.output.renderOutput(dataTable, element);\n",
              "          const docLink = document.createElement('div');\n",
              "          docLink.innerHTML = docLinkHtml;\n",
              "          element.appendChild(docLink);\n",
              "        }\n",
              "      </script>\n",
              "    </div>\n",
              "  </div>\n",
              "  "
            ]
          },
          "metadata": {},
          "execution_count": 13
        }
      ]
    },
    {
      "cell_type": "markdown",
      "source": [
        "# **Text Processing**"
      ],
      "metadata": {
        "id": "TEWR2JbvUsrL"
      }
    },
    {
      "cell_type": "code",
      "source": [
        "# Clean the text by removing any extra characters \n",
        "import re # tools for cleaning text\n",
        "import nltk # library to perform NLP\n",
        "nltk.download('stopwords') # tool to remove the non-essential words. It is a list of words\n",
        "from nltk.corpus import stopwords\n",
        "# Stemming means taking the root of the word such as love from loved or loving\n",
        "from nltk.stem.porter import PorterStemmer"
      ],
      "metadata": {
        "colab": {
          "base_uri": "https://localhost:8080/"
        },
        "id": "xLIvsxNLUpN-",
        "outputId": "0c3903da-3c1b-479e-a172-bfdc644d8a33"
      },
      "execution_count": 14,
      "outputs": [
        {
          "output_type": "stream",
          "name": "stderr",
          "text": [
            "[nltk_data] Downloading package stopwords to /root/nltk_data...\n",
            "[nltk_data]   Unzipping corpora/stopwords.zip.\n"
          ]
        }
      ]
    },
    {
      "cell_type": "code",
      "source": [
        "# Steps for cleaning the first review and apply for loop on all the reviews\n",
        "df['Review'][0]\n",
        "review = re.sub('[^a-zA-Z]', ' ', df['Review'][0]) # only keep the letters so what we dont want to remove\n",
        "review = review.lower() # make all letters as lowercase \n",
        "review = review.split()  # split the review into separate words to create a list of words\n",
        "ps =PorterStemmer()\n",
        "review = [ps.stem(word) for word in review if not  word in set(stopwords.words('english'))] # use set for larger text\n",
        "review = ' '.join(review) # take the list of words back into the string"
      ],
      "metadata": {
        "id": "L8HptRQ3U45o"
      },
      "execution_count": 15,
      "outputs": []
    },
    {
      "cell_type": "code",
      "source": [
        "review"
      ],
      "metadata": {
        "colab": {
          "base_uri": "https://localhost:8080/",
          "height": 36
        },
        "id": "M3HhHm4AU8nS",
        "outputId": "84e22832-6966-4b40-9a34-51eb827bd78a"
      },
      "execution_count": 16,
      "outputs": [
        {
          "output_type": "execute_result",
          "data": {
            "text/plain": [
              "'wow love place time'"
            ],
            "application/vnd.google.colaboratory.intrinsic+json": {
              "type": "string"
            }
          },
          "metadata": {},
          "execution_count": 16
        }
      ]
    },
    {
      "cell_type": "code",
      "source": [
        "# Do the same steps for all the reviews in the dataset using the for loop\n",
        "corpus = [] # Build a new list for all the words from all the reviews\n",
        "# corpus is a collection of text and a common term used in NLP\n",
        "for i in range (0, 1000):\n",
        "    review = re.sub('[^a-zA-Z]', ' ', df['Review'][i] )\n",
        "    review = review.lower()\n",
        "    review = review.split()\n",
        "    ps =PorterStemmer()\n",
        "    review = [ps.stem(word) for word in review if not  word in set(stopwords.words('english'))]\n",
        "    review = ' '.join(review)\n",
        "    corpus.append(review)"
      ],
      "metadata": {
        "id": "dJRyvjUtU_v9"
      },
      "execution_count": 17,
      "outputs": []
    },
    {
      "cell_type": "code",
      "source": [
        "corpus"
      ],
      "metadata": {
        "colab": {
          "base_uri": "https://localhost:8080/"
        },
        "id": "Xoesl1PZVIUn",
        "outputId": "96353e81-62d7-4823-ca47-33bfdfaafc89"
      },
      "execution_count": 18,
      "outputs": [
        {
          "output_type": "execute_result",
          "data": {
            "text/plain": [
              "['wow love place time',\n",
              " 'crust good',\n",
              " 'tasti textur nasti',\n",
              " 'stop late may bank holiday rick steve recommend love',\n",
              " 'select menu great price',\n",
              " 'get angri want damn pho',\n",
              " 'honeslti tast fresh',\n",
              " 'potato like rubber could tell made ahead time kept warmer',\n",
              " 'fri great',\n",
              " 'great touch',\n",
              " 'servic prompt',\n",
              " 'would go back',\n",
              " 'cashier care ever say still end wayyy overpr',\n",
              " 'tri cape cod ravoli chicken cranberri mmmm',\n",
              " 'disgust pretti sure human hair',\n",
              " 'shock sign indic cash',\n",
              " 'highli recommend',\n",
              " 'waitress littl slow servic',\n",
              " 'place worth time let alon vega',\n",
              " 'like',\n",
              " 'burritto blah',\n",
              " 'food amaz',\n",
              " 'servic also cute',\n",
              " 'could care less interior beauti',\n",
              " 'perform',\n",
              " 'right red velvet cake ohhh stuff good',\n",
              " 'name',\n",
              " 'hole wall great mexican street taco friendli staff',\n",
              " 'took hour get food tabl restaur food luke warm sever run around like total overwhelm',\n",
              " 'worst salmon sashimi',\n",
              " 'also combo like burger fri beer decent deal',\n",
              " 'like final blow',\n",
              " 'found place accid could happier',\n",
              " 'seem like good quick place grab bite familiar pub food favor look elsewher',\n",
              " 'overal like place lot',\n",
              " 'redeem qualiti restaur inexpens',\n",
              " 'ampl portion good price',\n",
              " 'poor servic waiter made feel like stupid everi time came tabl',\n",
              " 'first visit hiro delight',\n",
              " 'servic suck',\n",
              " 'shrimp tender moist',\n",
              " 'deal good enough would drag establish',\n",
              " 'hard judg whether side good gross melt styrofoam want eat fear get sick',\n",
              " 'posit note server attent provid great servic',\n",
              " 'frozen puck disgust worst peopl behind regist',\n",
              " 'thing like prime rib dessert section',\n",
              " 'bad food damn gener',\n",
              " 'burger good beef cook right',\n",
              " 'want sandwich go firehous',\n",
              " 'side greek salad greek dress tasti pita hummu refresh',\n",
              " 'order duck rare pink tender insid nice char outsid',\n",
              " 'came run us realiz husband left sunglass tabl',\n",
              " 'chow mein good',\n",
              " 'horribl attitud toward custom talk one custom enjoy food',\n",
              " 'portion huge',\n",
              " 'love friendli server great food wonder imagin menu',\n",
              " 'heart attack grill downtown vega absolut flat line excus restaur',\n",
              " 'much seafood like string pasta bottom',\n",
              " 'salad right amount sauc power scallop perfectli cook',\n",
              " 'rip banana rip petrifi tasteless',\n",
              " 'least think refil water struggl wave minut',\n",
              " 'place receiv star appet',\n",
              " 'cocktail handmad delici',\n",
              " 'definit go back',\n",
              " 'glad found place',\n",
              " 'great food servic huge portion give militari discount',\n",
              " 'alway great time do gringo',\n",
              " 'updat went back second time still amaz',\n",
              " 'got food appar never heard salt batter fish chewi',\n",
              " 'great way finish great',\n",
              " 'deal includ tast drink jeff went beyond expect',\n",
              " 'name',\n",
              " 'servic meh',\n",
              " 'took min get milkshak noth chocol milk',\n",
              " 'guess known place would suck insid excalibur use common sens',\n",
              " 'scallop dish quit appal valu well',\n",
              " 'time bad custom servic',\n",
              " 'sweet potato fri good season well',\n",
              " 'today second time lunch buffet pretti good',\n",
              " 'much good food vega feel cheat wast eat opportun go rice compani',\n",
              " 'come like experienc underwhelm relationship parti wait person ask break',\n",
              " 'walk place smell like old greas trap other eat',\n",
              " 'turkey roast beef bland',\n",
              " 'place',\n",
              " 'pan cake everyon rave tast like sugari disast tailor palat six year old',\n",
              " 'love pho spring roll oh yummi tri',\n",
              " 'poor batter meat ratio made chicken tender unsatisfi',\n",
              " 'say food amaz',\n",
              " 'omelet die',\n",
              " 'everyth fresh delici',\n",
              " 'summari larg disappoint dine experi',\n",
              " 'like realli sexi parti mouth outrag flirt hottest person parti',\n",
              " 'never hard rock casino never ever step forward',\n",
              " 'best breakfast buffet',\n",
              " 'say bye bye tip ladi',\n",
              " 'never go',\n",
              " 'back',\n",
              " 'food arriv quickli',\n",
              " 'good',\n",
              " 'side cafe serv realli good food',\n",
              " 'server fantast found wife love roast garlic bone marrow ad extra meal anoth marrow go',\n",
              " 'good thing waiter help kept bloddi mari come',\n",
              " 'best buffet town price cannot beat',\n",
              " 'love mussel cook wine reduct duck tender potato dish delici',\n",
              " 'one better buffet',\n",
              " 'went tigerlilli fantast afternoon',\n",
              " 'food delici bartend attent person got great deal',\n",
              " 'ambienc wonder music play',\n",
              " 'go back next trip',\n",
              " 'sooooo good',\n",
              " 'real sushi lover let honest yama good',\n",
              " 'least min pass us order food arriv busi',\n",
              " 'realli fantast thai restaur definit worth visit',\n",
              " 'nice spici tender',\n",
              " 'good price',\n",
              " 'check',\n",
              " 'pretti gross',\n",
              " 'better atmospher',\n",
              " 'kind hard mess steak',\n",
              " 'although much like look sound place actual experi bit disappoint',\n",
              " 'know place manag serv blandest food ever eaten prepar indian cuisin',\n",
              " 'worst servic boot least worri',\n",
              " 'servic fine waitress friendli',\n",
              " 'guy steak steak love son steak best worst place said best steak ever eaten',\n",
              " 'thought ventur away get good sushi place realli hit spot night',\n",
              " 'host staff lack better word bitch',\n",
              " 'bland like place number reason want wast time bad review leav',\n",
              " 'phenomen food servic ambianc',\n",
              " 'return',\n",
              " 'definit worth ventur strip pork belli return next time vega',\n",
              " 'place way overpr mediocr food',\n",
              " 'penn vodka excel',\n",
              " 'good select food includ massiv meatloaf sandwich crispi chicken wrap delish tuna melt tasti burger',\n",
              " 'manag rude',\n",
              " 'delici nyc bagel good select cream chees real lox caper even',\n",
              " 'great subway fact good come everi subway meet expect',\n",
              " 'serious solid breakfast',\n",
              " 'one best bar food vega',\n",
              " 'extrem rude realli mani restaur would love dine weekend vega',\n",
              " 'drink never empti made realli great menu suggest',\n",
              " '',\n",
              " 'waiter help friendli rare check us',\n",
              " 'husband ate lunch disappoint food servic',\n",
              " 'red curri much bamboo shoot tasti',\n",
              " 'nice blanket moz top feel like done cover subpar food',\n",
              " 'bathroom clean place well decor',\n",
              " 'menu alway chang food qualiti go servic extrem slow',\n",
              " 'servic littl slow consid serv peopl server food come slow pace',\n",
              " 'give thumb',\n",
              " 'watch waiter pay lot attent tabl ignor us',\n",
              " 'fianc came middl day greet seat right away',\n",
              " 'great restaur mandalay bay',\n",
              " 'wait forti five minut vain',\n",
              " 'crostini came salad stale',\n",
              " 'highlight great qualiti nigiri',\n",
              " 'staff friendli joint alway clean',\n",
              " 'differ cut piec day still wonder tender well well flavor',\n",
              " 'order voodoo pasta first time realli excel pasta sinc go gluten free sever year ago',\n",
              " 'place good',\n",
              " 'unfortun must hit bakeri leftov day everyth order stale',\n",
              " 'came back today sinc reloc still impress',\n",
              " 'seat immedi',\n",
              " 'menu divers reason price',\n",
              " 'avoid cost',\n",
              " 'restaur alway full never wait',\n",
              " 'delici',\n",
              " 'place hand one best place eat phoenix metro area',\n",
              " 'go look good food',\n",
              " 'never treat bad',\n",
              " 'bacon hella salti',\n",
              " 'also order spinach avocado salad ingredi sad dress liter zero tast',\n",
              " 'realli vega fine dine use right menu hand ladi price list',\n",
              " 'waitress friendli',\n",
              " 'lordi khao soi dish miss curri lover',\n",
              " 'everyth menu terrif also thrill made amaz accommod vegetarian daughter',\n",
              " 'perhap caught night judg review inspir go back',\n",
              " 'servic leav lot desir',\n",
              " 'atmospher modern hip maintain touch cozi',\n",
              " 'weekli haunt definit place come back everi',\n",
              " 'liter sat minut one ask take order',\n",
              " 'burger absolut flavor meat total bland burger overcook charcoal flavor',\n",
              " 'also decid send back waitress look like verg heart attack',\n",
              " 'dress treat rude',\n",
              " 'probabl dirt',\n",
              " 'love place hit spot want someth healthi lack quantiti flavor',\n",
              " 'order lemon raspberri ice cocktail also incred',\n",
              " 'food suck expect suck could imagin',\n",
              " 'interest decor',\n",
              " 'realli like crepe station',\n",
              " 'also serv hot bread butter home made potato chip bacon bit top origin good',\n",
              " 'watch prepar delici food',\n",
              " 'egg roll fantast',\n",
              " 'order arriv one gyro miss',\n",
              " 'salad wing ice cream dessert left feel quit satisfi',\n",
              " 'realli sure joey vote best hot dog valley reader phoenix magazin',\n",
              " 'best place go tasti bowl pho',\n",
              " 'live music friday total blow',\n",
              " 'never insult felt disrespect',\n",
              " 'friendli staff',\n",
              " 'worth drive',\n",
              " 'heard good thing place exceed everi hope could dream',\n",
              " 'food great serivc',\n",
              " 'warm beer help',\n",
              " 'great brunch spot',\n",
              " 'servic friendli invit',\n",
              " 'good lunch spot',\n",
              " 'live sinc first last time step foot place',\n",
              " 'worst experi ever',\n",
              " 'must night place',\n",
              " 'side delish mix mushroom yukon gold pure white corn beateou',\n",
              " 'bug never show would given sure side wall bug climb kitchen',\n",
              " 'minut wait salad realiz come time soon',\n",
              " 'friend love salmon tartar',\n",
              " 'go back',\n",
              " 'extrem tasti',\n",
              " 'waitress good though',\n",
              " 'soggi good',\n",
              " 'jamaican mojito delici',\n",
              " 'small worth price',\n",
              " 'name',\n",
              " 'shower area outsid rins take full shower unless mind nude everyon see',\n",
              " 'servic bit lack',\n",
              " 'lobster bisqu bussel sprout risotto filet need salt pepper cours none tabl',\n",
              " 'hope bode go busi someon cook come',\n",
              " 'either cold enough flavor bad',\n",
              " 'love bacon wrap date',\n",
              " 'unbeliev bargain',\n",
              " 'folk otto alway make us feel welcom special',\n",
              " 'main also uninspir',\n",
              " 'place first pho amaz',\n",
              " 'wonder experi made place must stop whenev town',\n",
              " 'food bad enough enjoy deal world worst annoy drunk peopl',\n",
              " 'fun chef',\n",
              " 'order doubl cheeseburg got singl patti fall apart pictur upload yeah still suck',\n",
              " 'great place coupl drink watch sport event wall cover tv',\n",
              " 'possibl give zero star',\n",
              " 'descript said yum yum sauc anoth said eel sauc yet anoth said spici mayo well none roll sauc',\n",
              " 'say would hardest decis honestli dish tast suppos tast amaz',\n",
              " 'roll eye may stay sure go back tri',\n",
              " 'everyon attent provid excel custom servic',\n",
              " 'horribl wast time money',\n",
              " 'dish quit flavour',\n",
              " 'time side restaur almost empti excus',\n",
              " 'busi either also build freez cold',\n",
              " 'like review said pay eat place',\n",
              " 'drink took close minut come one point',\n",
              " 'serious flavor delight folk',\n",
              " 'much better ayc sushi place went vega',\n",
              " 'light dark enough set mood',\n",
              " 'base sub par servic receiv effort show gratitud busi go back',\n",
              " 'owner realli great peopl',\n",
              " 'noth privileg work eat',\n",
              " 'greek dress creami flavor',\n",
              " 'overal think would take parent place made similar complaint silent felt',\n",
              " 'pizza good peanut sauc tasti',\n",
              " 'tabl servic pretti fast',\n",
              " 'fantast servic',\n",
              " 'well would given godfath zero star possibl',\n",
              " 'know make',\n",
              " 'tough short flavor',\n",
              " 'hope place stick around',\n",
              " 'bar vega ever recal charg tap water',\n",
              " 'restaur atmospher exquisit',\n",
              " 'good servic clean inexpens boot',\n",
              " 'seafood fresh gener portion',\n",
              " 'plu buck',\n",
              " 'servic par either',\n",
              " 'thu far visit twice food absolut delici time',\n",
              " 'good year ago',\n",
              " 'self proclaim coffe cafe wildli disappoint',\n",
              " 'veggitarian platter world',\n",
              " 'cant go wrong food',\n",
              " 'beat',\n",
              " 'stop place madison ironman friendli kind staff',\n",
              " 'chef friendli good job',\n",
              " 'better dedic boba tea spot even jenni pho',\n",
              " 'like patio servic outstand',\n",
              " 'goat taco skimp meat wow flavor',\n",
              " 'think',\n",
              " 'mac salad pretti bland get',\n",
              " 'went bachi burger friend recommend disappoint',\n",
              " 'servic stink',\n",
              " 'wait wait',\n",
              " 'place qualiti sushi qualiti restaur',\n",
              " 'would definit recommend wing well pizza',\n",
              " 'great pizza salad',\n",
              " 'thing went wrong burn saganaki',\n",
              " 'wait hour breakfast could done time better home',\n",
              " 'place amaz',\n",
              " 'hate disagre fellow yelper husband disappoint place',\n",
              " 'wait hour never got either pizza mani around us came later',\n",
              " 'know slow',\n",
              " 'staff great food delish incred beer select',\n",
              " 'live neighborhood disappoint back conveni locat',\n",
              " 'know pull pork could soooo delici',\n",
              " 'get incred fresh fish prepar care',\n",
              " 'go gave star rate pleas know third time eat bachi burger write review',\n",
              " 'love fact everyth menu worth',\n",
              " 'never dine place',\n",
              " 'food excel servic good',\n",
              " 'good beer drink select good food select',\n",
              " 'pleas stay away shrimp stir fri noodl',\n",
              " 'potato chip order sad could probabl count mani chip box probabl around',\n",
              " 'food realli bore',\n",
              " 'good servic check',\n",
              " 'greedi corpor never see anoth dime',\n",
              " 'never ever go back',\n",
              " 'much like go back get pass atroci servic never return',\n",
              " 'summer dine charm outdoor patio delight',\n",
              " 'expect good',\n",
              " 'fantast food',\n",
              " 'order toast english muffin came untoast',\n",
              " 'food good',\n",
              " 'never go back',\n",
              " 'great food price high qualiti hous made',\n",
              " 'bu boy hand rude',\n",
              " 'point friend basic figur place joke mind make publicli loudli known',\n",
              " 'back good bbq lighter fare reason price tell public back old way',\n",
              " 'consid two us left full happi go wrong',\n",
              " 'bread made hous',\n",
              " 'downsid servic',\n",
              " 'also fri without doubt worst fri ever',\n",
              " 'servic except food good review',\n",
              " 'coupl month later return amaz meal',\n",
              " 'favorit place town shawarrrrrrma',\n",
              " 'black eye pea sweet potato unreal',\n",
              " 'disappoint',\n",
              " 'could serv vinaigrett may make better overal dish still good',\n",
              " 'go far mani place never seen restaur serv egg breakfast especi',\n",
              " 'mom got home immedi got sick bite salad',\n",
              " 'server pleasant deal alway honor pizza hut coupon',\n",
              " 'truli unbeliev good glad went back',\n",
              " 'fantast servic pleas atmospher',\n",
              " 'everyth gross',\n",
              " 'love place',\n",
              " 'great servic food',\n",
              " 'first bathroom locat dirti seat cover replenish plain yucki',\n",
              " 'burger got gold standard burger kind disappoint',\n",
              " 'omg food delicioso',\n",
              " 'noth authent place',\n",
              " 'spaghetti noth special whatsoev',\n",
              " 'dish salmon best great',\n",
              " 'veget fresh sauc feel like authent thai',\n",
              " 'worth drive tucson',\n",
              " 'select probabl worst seen vega none',\n",
              " 'pretti good beer select',\n",
              " 'place like chipotl better',\n",
              " 'classi warm atmospher fun fresh appet succul steak basebal steak',\n",
              " 'star brick oven bread app',\n",
              " 'eaten multipl time time food delici',\n",
              " 'sat anoth ten minut final gave left',\n",
              " 'terribl',\n",
              " 'everyon treat equal special',\n",
              " 'take min pancak egg',\n",
              " 'delici',\n",
              " 'good side staff genuin pleasant enthusiast real treat',\n",
              " 'sadli gordon ramsey steak place shall sharpli avoid next trip vega',\n",
              " 'alway even wonder food delici',\n",
              " 'best fish ever life',\n",
              " 'bathroom next door nice',\n",
              " 'buffet small food offer bland',\n",
              " 'outstand littl restaur best food ever tast',\n",
              " 'pretti cool would say',\n",
              " 'definit turn doubt back unless someon els buy',\n",
              " 'server great job handl larg rowdi tabl',\n",
              " 'find wast food despic food',\n",
              " 'wife lobster bisqu soup lukewarm',\n",
              " 'would come back sushi crave vega',\n",
              " 'staff great ambianc great',\n",
              " 'deserv star',\n",
              " 'left stomach ach felt sick rest day',\n",
              " 'drop ball',\n",
              " 'dine space tini elegantli decor comfort',\n",
              " 'custom order way like usual eggplant green bean stir fri love',\n",
              " 'bean rice mediocr best',\n",
              " 'best taco town far',\n",
              " 'took back money got outta',\n",
              " 'interest part town place amaz',\n",
              " 'rude inconsider manag',\n",
              " 'staff friendli wait time serv horribl one even say hi first minut',\n",
              " 'back',\n",
              " 'great dinner',\n",
              " 'servic outshin definit recommend halibut',\n",
              " 'food terribl',\n",
              " 'never ever go back told mani peopl happen',\n",
              " 'recommend unless car break front starv',\n",
              " 'come back everi time vega',\n",
              " 'place deserv one star food',\n",
              " 'disgrac',\n",
              " 'def come back bowl next time',\n",
              " 'want healthi authent ethic food tri place',\n",
              " 'continu come ladi night andddd date night highli recommend place anyon area',\n",
              " 'sever time past experi alway great',\n",
              " 'walk away stuf happi first vega buffet experi',\n",
              " 'servic excel price pretti reason consid vega locat insid crystal shop mall aria',\n",
              " 'summar food incred nay transcend noth bring joy quit like memori pneumat condiment dispens',\n",
              " 'probabl one peopl ever go ian like',\n",
              " 'kid pizza alway hit lot great side dish option kiddo',\n",
              " 'servic perfect famili atmospher nice see',\n",
              " 'cook perfect servic impecc',\n",
              " 'one simpli disappoint',\n",
              " 'overal disappoint qualiti food bouchon',\n",
              " 'account know get screw',\n",
              " 'great place eat remind littl mom pop shop san francisco bay area',\n",
              " 'today first tast buldogi gourmet hot dog tell ever thought possibl',\n",
              " 'left frustrat',\n",
              " 'definit soon',\n",
              " 'food realli good got full petti fast',\n",
              " 'servic fantast',\n",
              " 'total wast time',\n",
              " 'know kind best ice tea',\n",
              " 'come hungri leav happi stuf',\n",
              " 'servic give star',\n",
              " 'assur disappoint',\n",
              " 'take littl bad servic food suck',\n",
              " 'gave tri eat crust teeth still sore',\n",
              " 'complet gross',\n",
              " 'realli enjoy eat',\n",
              " 'first time go think quickli becom regular',\n",
              " 'server nice even though look littl overwhelm need stay profession friendli end',\n",
              " 'dinner companion told everyth fresh nice textur tast',\n",
              " 'ground right next tabl larg smear step track everywher pile green bird poop',\n",
              " 'furthermor even find hour oper websit',\n",
              " 'tri like place time think done',\n",
              " 'mistak',\n",
              " 'complaint',\n",
              " 'serious good pizza expert connisseur topic',\n",
              " 'waiter jerk',\n",
              " 'strike want rush',\n",
              " 'nicest restaur owner ever come across',\n",
              " 'never come',\n",
              " 'love biscuit',\n",
              " 'servic quick friendli',\n",
              " 'order appet took minut pizza anoth minut',\n",
              " 'absolutley fantast',\n",
              " 'huge awkward lb piec cow th gristl fat',\n",
              " 'definit come back',\n",
              " 'like steiner dark feel like bar',\n",
              " 'wow spici delici',\n",
              " 'familiar check',\n",
              " 'take busi dinner dollar elsewher',\n",
              " 'love go back',\n",
              " 'anyway fs restaur wonder breakfast lunch',\n",
              " 'noth special',\n",
              " 'day week differ deal delici',\n",
              " 'mention combin pear almond bacon big winner',\n",
              " 'back',\n",
              " 'sauc tasteless',\n",
              " 'food delici spici enough sure ask spicier prefer way',\n",
              " 'ribey steak cook perfectli great mesquit flavor',\n",
              " 'think go back anytim soon',\n",
              " 'food gooodd',\n",
              " 'far sushi connoisseur definit tell differ good food bad food certainli bad food',\n",
              " 'insult',\n",
              " 'last time lunch bad',\n",
              " 'chicken wing contain driest chicken meat ever eaten',\n",
              " 'food good enjoy everi mouth enjoy relax venu coupl small famili group etc',\n",
              " 'nargil think great',\n",
              " 'best tater tot southwest',\n",
              " 'love place',\n",
              " 'definit worth paid',\n",
              " 'vanilla ice cream creami smooth profiterol choux pastri fresh enough',\n",
              " 'im az time new spot',\n",
              " 'manag worst',\n",
              " 'insid realli quit nice clean',\n",
              " 'food outstand price reason',\n",
              " 'think run back carli anytim soon food',\n",
              " 'due fact took minut acknowledg anoth minut get food kept forget thing',\n",
              " 'love margarita',\n",
              " 'first vega buffet disappoint',\n",
              " 'good though',\n",
              " 'one note ventil could use upgrad',\n",
              " 'great pork sandwich',\n",
              " 'wast time',\n",
              " 'total letdown would much rather go camelback flower shop cartel coffe',\n",
              " 'third chees friend burger cold',\n",
              " 'enjoy pizza brunch',\n",
              " 'steak well trim also perfectli cook',\n",
              " 'group claim would handl us beauti',\n",
              " 'love',\n",
              " 'ask bill leav without eat bring either',\n",
              " 'place jewel la vega exactli hope find nearli ten year live',\n",
              " 'seafood limit boil shrimp crab leg crab leg definit tast fresh',\n",
              " 'select food best',\n",
              " 'delici absolut back',\n",
              " 'small famili restaur fine dine establish',\n",
              " 'toro tartar cavier extraordinari like thinli slice wagyu white truffl',\n",
              " 'dont think back long time',\n",
              " 'attach ga station rare good sign',\n",
              " 'awesom',\n",
              " 'back mani time soon',\n",
              " 'menu much good stuff could decid',\n",
              " 'wors humili worker right front bunch horribl name call',\n",
              " 'conclus fill meal',\n",
              " 'daili special alway hit group',\n",
              " 'tragedi struck',\n",
              " 'pancak also realli good pretti larg',\n",
              " 'first crawfish experi delici',\n",
              " 'monster chicken fri steak egg time favorit',\n",
              " 'waitress sweet funni',\n",
              " 'also tast mom multi grain pumpkin pancak pecan butter amaz fluffi delici',\n",
              " 'rather eat airlin food serious',\n",
              " 'cant say enough good thing place',\n",
              " 'ambianc incred',\n",
              " 'waitress manag friendli',\n",
              " 'would recommend place',\n",
              " 'overal impress noca',\n",
              " 'gyro basic lettuc',\n",
              " 'terribl servic',\n",
              " 'thoroughli disappoint',\n",
              " 'much pasta love homemad hand made pasta thin pizza',\n",
              " 'give tri happi',\n",
              " 'far best cheesecurd ever',\n",
              " 'reason price also',\n",
              " 'everyth perfect night',\n",
              " 'food good typic bar food',\n",
              " 'drive get',\n",
              " 'first glanc love bakeri cafe nice ambianc clean friendli staff',\n",
              " 'anyway think go back',\n",
              " 'point finger item menu order disappoint',\n",
              " 'oh thing beauti restaur',\n",
              " 'gone go',\n",
              " 'greasi unhealthi meal',\n",
              " 'first time might last',\n",
              " 'burger amaz',\n",
              " 'similarli deliveri man say word apolog food minut late',\n",
              " 'way expens',\n",
              " 'sure order dessert even need pack go tiramisu cannoli die',\n",
              " 'first time wait next',\n",
              " 'bartend also nice',\n",
              " 'everyth good tasti',\n",
              " 'place two thumb way',\n",
              " 'best place vega breakfast check sat sun',\n",
              " 'love authent mexican food want whole bunch interest yet delici meat choos need tri place',\n",
              " 'terribl manag',\n",
              " 'excel new restaur experienc frenchman',\n",
              " 'zero star would give zero star',\n",
              " 'great steak great side great wine amaz dessert',\n",
              " 'worst martini ever',\n",
              " 'steak shrimp opinion best entre gc',\n",
              " 'opportun today sampl amaz pizza',\n",
              " 'wait thirti minut seat although vacant tabl folk wait',\n",
              " 'yellowtail carpaccio melt mouth fresh',\n",
              " 'tri go back even empti',\n",
              " 'go eat potato found stranger hair',\n",
              " 'spici enough perfect actual',\n",
              " 'last night second time dine happi decid go back',\n",
              " 'even hello right',\n",
              " 'dessert bit strang',\n",
              " 'boyfriend came first time recent trip vega could pleas qualiti food servic',\n",
              " 'realli recommend place go wrong donut place',\n",
              " 'nice ambianc',\n",
              " 'would recommend save room',\n",
              " 'guess mayb went night disgrac',\n",
              " 'howev recent experi particular locat good',\n",
              " 'know like restaur someth',\n",
              " 'avoid establish',\n",
              " 'think restaur suffer tri hard enough',\n",
              " 'tapa dish delici',\n",
              " 'heart place',\n",
              " 'salad bland vinegrett babi green heart palm',\n",
              " 'two felt disgust',\n",
              " 'good time',\n",
              " 'believ place great stop huge belli hanker sushi',\n",
              " 'gener portion great tast',\n",
              " 'never go back place never ever recommend place anyon',\n",
              " 'server went back forth sever time even much help',\n",
              " 'food delici',\n",
              " 'hour serious',\n",
              " 'consid theft',\n",
              " 'eew locat need complet overhaul',\n",
              " 'recent wit poor qualiti manag toward guest well',\n",
              " 'wait wait wait',\n",
              " 'also came back check us regularli excel servic',\n",
              " 'server super nice check us mani time',\n",
              " 'pizza tast old super chewi good way',\n",
              " 'swung give tri deepli disappoint',\n",
              " 'servic good compani better',\n",
              " 'staff also friendli effici',\n",
              " 'servic fan quick serv nice folk',\n",
              " 'boy sucker dri',\n",
              " 'rate',\n",
              " 'look authent thai food go els',\n",
              " 'steak recommend',\n",
              " 'pull car wait anoth minut acknowledg',\n",
              " 'great food great servic clean friendli set',\n",
              " 'assur back',\n",
              " 'hate thing much cheap qualiti black oliv',\n",
              " 'breakfast perpar great beauti present giant slice toast lightli dust powder sugar',\n",
              " 'kid play area nasti',\n",
              " 'great place fo take eat',\n",
              " 'waitress friendli happi accomod vegan veggi option',\n",
              " 'omg felt like never eaten thai food dish',\n",
              " 'extrem crumbi pretti tasteless',\n",
              " 'pale color instead nice char flavor',\n",
              " 'crouton also tast homemad extra plu',\n",
              " 'got home see driest damn wing ever',\n",
              " 'regular stop trip phoenix',\n",
              " 'realli enjoy crema caf expand even told friend best breakfast',\n",
              " 'good money',\n",
              " 'miss wish one philadelphia',\n",
              " 'got sit fairli fast end wait minut place order anoth minut food arriv',\n",
              " 'also best chees crisp town',\n",
              " 'good valu great food great servic',\n",
              " 'ask satisfi meal',\n",
              " 'food good',\n",
              " 'awesom',\n",
              " 'want leav',\n",
              " 'made drive way north scottsdal one bit disappoint',\n",
              " 'eat',\n",
              " 'owner realli realli need quit soooooo cheap let wrap freak sandwich two paper one',\n",
              " 'check place coupl year ago impress',\n",
              " 'chicken got definit reheat ok wedg cold soggi',\n",
              " 'sorri get food anytim soon',\n",
              " 'absolut must visit',\n",
              " 'cow tongu cheek taco amaz',\n",
              " 'friend like bloodi mari',\n",
              " 'despit hard rate busi actual rare give star',\n",
              " 'realli want make experi good one',\n",
              " 'return',\n",
              " 'chicken pho tast bland',\n",
              " 'disappoint',\n",
              " 'grill chicken tender yellow saffron season',\n",
              " 'drive thru mean want wait around half hour food somehow end go make us wait wait',\n",
              " 'pretti awesom place',\n",
              " 'ambienc perfect',\n",
              " 'best luck rude non custom servic focus new manag',\n",
              " 'grandmoth make roast chicken better one',\n",
              " 'ask multipl time wine list time ignor went hostess got one',\n",
              " 'staff alway super friendli help especi cool bring two small boy babi',\n",
              " 'four star food guy blue shirt great vibe still let us eat',\n",
              " 'roast beef sandwich tast realli good',\n",
              " 'even drastic sick',\n",
              " 'high qualiti chicken chicken caesar salad',\n",
              " 'order burger rare came done',\n",
              " 'promptli greet seat',\n",
              " 'tri go lunch madhous',\n",
              " 'proven dead wrong sushi bar qualiti great servic fast food impecc',\n",
              " 'wait hour seat greatest mood',\n",
              " 'good joint',\n",
              " 'macaron insan good',\n",
              " 'eat',\n",
              " 'waiter attent friendli inform',\n",
              " 'mayb cold would somewhat edibl',\n",
              " 'place lot promis fail deliv',\n",
              " 'bad experi',\n",
              " 'mistak',\n",
              " 'food averag best',\n",
              " 'great food',\n",
              " 'go back anytim soon',\n",
              " 'disappoint order big bay plater',\n",
              " 'great place relax awesom burger beer',\n",
              " 'perfect sit famili meal get togeth friend',\n",
              " 'much flavor poorli construct',\n",
              " 'patio seat comfort',\n",
              " 'fri rice dri well',\n",
              " 'hand favorit italian restaur',\n",
              " 'scream legit book somethat also pretti rare vega',\n",
              " 'fun experi',\n",
              " 'atmospher great love duo violinist play song request',\n",
              " 'person love hummu pita baklava falafel baba ganoush amaz eggplant',\n",
              " 'conveni sinc stay mgm',\n",
              " 'owner super friendli staff courteou',\n",
              " 'great',\n",
              " 'eclect select',\n",
              " 'sweet potato tot good onion ring perfect close',\n",
              " 'staff attent',\n",
              " 'chef gener time even came around twice take pictur',\n",
              " 'owner use work nobu place realli similar half price',\n",
              " 'googl mediocr imagin smashburg pop',\n",
              " 'dont go',\n",
              " 'promis disappoint',\n",
              " 'sushi lover avoid place mean',\n",
              " 'great doubl cheeseburg',\n",
              " 'awesom servic food',\n",
              " 'fantast neighborhood gem',\n",
              " 'wait go back',\n",
              " 'plantain worst ever tast',\n",
              " 'great place highli recommend',\n",
              " 'servic slow attent',\n",
              " 'gave star give star',\n",
              " 'staff spend time talk',\n",
              " 'dessert panna cotta amaz',\n",
              " 'good food great atmospher',\n",
              " 'damn good steak',\n",
              " 'total brunch fail',\n",
              " 'price reason flavor spot sauc home made slaw drench mayo',\n",
              " 'decor nice piano music soundtrack pleasant',\n",
              " 'steak amaz rge fillet relleno best seafood plate ever',\n",
              " 'good food good servic',\n",
              " 'absolut amaz',\n",
              " 'probabl back honest',\n",
              " 'definit back',\n",
              " 'sergeant pepper beef sandwich auju sauc excel sandwich well',\n",
              " 'hawaiian breez mango magic pineappl delight smoothi tri far good',\n",
              " 'went lunch servic slow',\n",
              " 'much say place walk expect amaz quickli disappoint',\n",
              " 'mortifi',\n",
              " 'needless say never back',\n",
              " 'anyway food definit fill price pay expect',\n",
              " 'chip came drip greas mostli edibl',\n",
              " 'realli impress strip steak',\n",
              " 'go sinc everi meal awesom',\n",
              " 'server nice attent serv staff',\n",
              " 'cashier friendli even brought food',\n",
              " 'work hospit industri paradis valley refrain recommend cibo longer',\n",
              " 'atmospher fun',\n",
              " 'would recommend other',\n",
              " 'servic quick even go order like like',\n",
              " 'mean realli get famou fish chip terribl',\n",
              " 'said mouth belli still quit pleas',\n",
              " 'thing',\n",
              " 'thumb',\n",
              " 'read pleas go',\n",
              " 'love grill pizza remind legit italian pizza',\n",
              " 'pro larg seat area nice bar area great simpl drink menu best brick oven pizza homemad dough',\n",
              " 'realli nice atmospher',\n",
              " 'tonight elk filet special suck',\n",
              " 'one bite hook',\n",
              " 'order old classic new dish go time sore disappoint everyth',\n",
              " 'cute quaint simpl honest',\n",
              " 'chicken delici season perfect fri outsid moist chicken insid',\n",
              " 'food great alway compliment chef',\n",
              " 'special thank dylan recommend order yummi tummi',\n",
              " 'awesom select beer',\n",
              " 'great food awesom servic',\n",
              " 'one nice thing ad gratuiti bill sinc parti larger expect tip',\n",
              " 'fli appl juic fli',\n",
              " 'han nan chicken also tasti',\n",
              " 'servic thought good',\n",
              " 'food bare lukewarm must sit wait server bring us',\n",
              " 'ryan bar definit one edinburgh establish revisit',\n",
              " 'nicest chines restaur',\n",
              " 'overal like food servic',\n",
              " 'also serv indian naan bread hummu spici pine nut sauc world',\n",
              " 'probabl never come back recommend',\n",
              " 'friend pasta also bad bare touch',\n",
              " 'tri airport experi tasti food speedi friendli servic',\n",
              " 'love decor chines calligraphi wall paper',\n",
              " 'never anyth complain',\n",
              " 'restaur clean famili restaur feel',\n",
              " 'way fri',\n",
              " 'sure long stood long enough begin feel awkwardli place',\n",
              " 'open sandwich impress good way',\n",
              " 'back',\n",
              " 'warm feel servic felt like guest special treat',\n",
              " 'extens menu provid lot option breakfast',\n",
              " 'alway order vegetarian menu dinner wide array option choos',\n",
              " 'watch price inflat portion get smaller manag attitud grow rapidli',\n",
              " 'wonder lil tapa ambienc made feel warm fuzzi insid',\n",
              " 'got enjoy seafood salad fabul vinegrett',\n",
              " 'wonton thin thick chewi almost melt mouth',\n",
              " 'level spici perfect spice whelm soup',\n",
              " 'sat right time server get go fantast',\n",
              " 'main thing enjoy crowd older crowd around mid',\n",
              " 'side town definit spot hit',\n",
              " 'wait minut get drink longer get arepa',\n",
              " 'great place eat',\n",
              " 'jalapeno bacon soooo good',\n",
              " 'servic poor that nice',\n",
              " 'food good servic good price good',\n",
              " 'place clean food oh stale',\n",
              " 'chicken dish ok beef like shoe leather',\n",
              " 'servic beyond bad',\n",
              " 'happi',\n",
              " 'tast like dirt',\n",
              " 'one place phoenix would defin go back',\n",
              " 'block amaz',\n",
              " 'close hous low key non fanci afford price good food',\n",
              " 'hot sour egg flower soup absolut star',\n",
              " 'sashimi poor qualiti soggi tasteless',\n",
              " 'great time famili dinner sunday night',\n",
              " 'food tasti say real tradit hunan style',\n",
              " 'bother slow servic',\n",
              " 'flair bartend absolut amaz',\n",
              " 'frozen margarita way sugari tast',\n",
              " 'good order twice',\n",
              " 'nutshel restaraunt smell like combin dirti fish market sewer',\n",
              " 'girlfriend veal bad',\n",
              " 'unfortun good',\n",
              " 'pretti satifi experi',\n",
              " 'join club get awesom offer via email',\n",
              " 'perfect someon like beer ice cold case even colder',\n",
              " 'bland flavorless good way describ bare tepid meat',\n",
              " 'chain fan beat place easili',\n",
              " 'nacho must',\n",
              " 'come back',\n",
              " 'mani word say place everyth pretti well',\n",
              " 'staff super nice quick even crazi crowd downtown juri lawyer court staff',\n",
              " 'great atmospher friendli fast servic',\n",
              " 'receiv pita huge lot meat thumb',\n",
              " 'food arriv meh',\n",
              " 'pay hot dog fri look like came kid meal wienerschnitzel idea good meal',\n",
              " 'classic main lobster roll fantast',\n",
              " 'brother law work mall ate day guess sick night',\n",
              " 'good go review place twice herea tribut place tribut event held last night',\n",
              " 'chip salsa realli good salsa fresh',\n",
              " 'place great',\n",
              " 'mediocr food',\n",
              " 'get insid impress place',\n",
              " 'super pissd',\n",
              " 'servic super friendli',\n",
              " 'sad littl veget overcook',\n",
              " 'place nice surpris',\n",
              " 'golden crispi delici',\n",
              " 'high hope place sinc burger cook charcoal grill unfortun tast fell flat way flat',\n",
              " 'could eat bruschetta day devin',\n",
              " 'singl employe came see ok even need water refil final serv us food',\n",
              " 'lastli mozzarella stick best thing order',\n",
              " 'first time ever came amaz experi still tell peopl awesom duck',\n",
              " 'server neglig need made us feel unwelcom would suggest place',\n",
              " 'servic terribl though',\n",
              " 'place overpr consist boba realli overpr',\n",
              " 'pack',\n",
              " 'love place',\n",
              " 'say dessert yummi',\n",
              " 'food terribl',\n",
              " 'season fruit fresh white peach pure',\n",
              " 'kept get wors wors offici done',\n",
              " 'place honestli blown',\n",
              " 'definit would eat',\n",
              " 'wast money',\n",
              " 'love put food nice plastic contain oppos cram littl paper takeout box',\n",
              " 'cr pe delic thin moist',\n",
              " 'aw servic',\n",
              " 'ever go',\n",
              " 'food qualiti horribl',\n",
              " 'price think place would much rather gone',\n",
              " 'servic fair best',\n",
              " 'love sushi found kabuki price hip servic',\n",
              " 'favor stay away dish',\n",
              " 'poor servic',\n",
              " 'one tabl thought food averag worth wait',\n",
              " 'best servic food ever maria server good friendli made day',\n",
              " 'excel',\n",
              " 'paid bill tip felt server terribl job',\n",
              " 'lunch great experi',\n",
              " 'never bland food surpris consid articl read focus much spice flavor',\n",
              " 'food way overpr portion fuck small',\n",
              " 'recent tri caballero back everi week sinc',\n",
              " 'buck head realli expect better food',\n",
              " 'food came good pace',\n",
              " 'ate twice last visit especi enjoy salmon salad',\n",
              " 'back',\n",
              " 'could believ dirti oyster',\n",
              " 'place deserv star',\n",
              " 'would recommend place',\n",
              " 'fact go round star awesom',\n",
              " 'disbelief dish qualifi worst version food ever tast',\n",
              " 'bad day low toler rude custom servic peopl job nice polit wash dish otherwis',\n",
              " 'potato great biscuit',\n",
              " 'probabl would go',\n",
              " 'flavor perfect amount heat',\n",
              " 'price reason servic great',\n",
              " 'wife hate meal coconut shrimp friend realli enjoy meal either',\n",
              " 'fella got huevo ranchero look appeal',\n",
              " 'went happi hour great list wine',\n",
              " 'may say buffet pricey think get pay place get quit lot',\n",
              " 'probabl come back',\n",
              " 'worst food servic',\n",
              " 'place pretti good nice littl vibe restaur',\n",
              " 'talk great custom servic cours back',\n",
              " 'hot dish hot cold dish close room temp watch staff prepar food bare hand glove everyth deep fri oil',\n",
              " 'love fri bean',\n",
              " 'alway pleasur deal',\n",
              " 'plethora salad sandwich everyth tri get seal approv',\n",
              " 'place awesom want someth light healthi summer',\n",
              " 'sushi strip place go',\n",
              " 'servic great even manag came help tabl',\n",
              " 'feel dine room colleg cook cours high class dine servic slow best',\n",
              " 'start review two star edit give one',\n",
              " 'worst sushi ever eat besid costco',\n",
              " 'excel restaur highlight great servic uniqu menu beauti set',\n",
              " 'boyfriend sat bar complet delight experi',\n",
              " 'weird vibe owner',\n",
              " 'hardli meat',\n",
              " 'better bagel groceri store',\n",
              " 'go place gyro',\n",
              " 'love owner chef one authent japanes cool dude',\n",
              " 'burger good pizza use amaz doughi flavorless',\n",
              " 'found six inch long piec wire salsa',\n",
              " 'servic terribl food mediocr',\n",
              " 'defin enjoy',\n",
              " 'order albondiga soup warm tast like tomato soup frozen meatbal',\n",
              " 'three differ occas ask well done medium well three time got bloodiest piec meat plate',\n",
              " 'two bite refus eat anymor',\n",
              " 'servic extrem slow',\n",
              " 'minut wait got tabl',\n",
              " 'serious killer hot chai latt',\n",
              " 'allergi warn menu waitress absolut clue meal contain peanut',\n",
              " 'boyfriend tri mediterranean chicken salad fell love',\n",
              " 'rotat beer tap also highlight place',\n",
              " 'price bit concern mellow mushroom',\n",
              " 'worst thai ever',\n",
              " 'stay vega must get breakfast least',\n",
              " 'want first say server great perfect servic',\n",
              " 'pizza select good',\n",
              " 'strawberri tea good',\n",
              " 'highli unprofession rude loyal patron',\n",
              " 'overal great experi',\n",
              " 'spend money elsewher',\n",
              " 'regular toast bread equal satisfi occasion pat butter mmmm',\n",
              " 'buffet bellagio far anticip',\n",
              " 'drink weak peopl',\n",
              " 'name',\n",
              " 'also feel like chip bought made hous',\n",
              " 'disappoint dinner went elsewher dessert',\n",
              " 'chip sal amaz',\n",
              " 'return',\n",
              " 'new fav vega buffet spot',\n",
              " 'serious cannot believ owner mani unexperienc employe run around like chicken head cut',\n",
              " 'sad',\n",
              " 'felt insult disrespect could talk judg anoth human like',\n",
              " 'call steakhous properli cook steak understand',\n",
              " 'impress concept food',\n",
              " 'thing crazi guacamol like pur ed',\n",
              " 'realli noth postino hope experi better',\n",
              " 'got food poison buffet',\n",
              " 'brought fresh batch fri think yay someth warm',\n",
              " 'hilari yummi christma eve dinner rememb biggest fail entir trip us',\n",
              " 'needless say go back anytim soon',\n",
              " 'place disgust',\n",
              " 'everi time eat see care teamwork profession degre',\n",
              " 'ri style calamari joke',\n",
              " 'howev much garlic fondu bare edibl',\n",
              " 'could bare stomach meal complain busi lunch',\n",
              " 'bad lost heart finish',\n",
              " 'also took forev bring us check ask',\n",
              " 'one make scene restaur get definit lost love one',\n",
              " 'disappoint experi',\n",
              " 'food par denni say good',\n",
              " 'want wait mediocr food downright terribl servic place',\n",
              " 'waaaaaayyyyyyyyyi rate say',\n",
              " 'go back',\n",
              " 'place fairli clean food simpli worth',\n",
              " 'place lack style',\n",
              " 'sangria half glass wine full ridicul',\n",
              " 'bother come',\n",
              " 'meat pretti dri slice brisket pull pork',\n",
              " 'build seem pretti neat bathroom pretti trippi eat',\n",
              " 'equal aw',\n",
              " 'probabl hurri go back',\n",
              " 'slow seat even reserv',\n",
              " 'good stretch imagin',\n",
              " 'cashew cream sauc bland veget undercook',\n",
              " 'chipolt ranch dip saus tasteless seem thin water heat',\n",
              " 'bit sweet realli spici enough lack flavor',\n",
              " 'disappoint',\n",
              " 'place horribl way overpr',\n",
              " 'mayb vegetarian fare twice thought averag best',\n",
              " 'busi know',\n",
              " 'tabl outsid also dirti lot time worker alway friendli help menu',\n",
              " 'ambianc feel like buffet set douchey indoor garden tea biscuit',\n",
              " 'con spotti servic',\n",
              " 'fri hot neither burger',\n",
              " 'came back cold',\n",
              " 'food came disappoint ensu',\n",
              " 'real disappoint waiter',\n",
              " 'husband said rude even apolog bad food anyth',\n",
              " 'reason eat would fill night bing drink get carb stomach',\n",
              " 'insult profound deuchebaggeri go outsid smoke break serv solidifi',\n",
              " 'someon order two taco think may part custom servic ask combo ala cart',\n",
              " 'quit disappoint although blame need place door',\n",
              " 'rave review wait eat disappoint',\n",
              " 'del taco pretti nasti avoid possibl',\n",
              " 'hard make decent hamburg',\n",
              " 'like',\n",
              " 'hell go back',\n",
              " 'gotten much better servic pizza place next door servic receiv restaur',\n",
              " 'know big deal place back ya',\n",
              " 'immedi said want talk manag want talk guy shot firebal behind bar',\n",
              " 'ambianc much better',\n",
              " 'unfortun set us disapppoint entre',\n",
              " 'food good',\n",
              " 'server suck wait correct server heimer suck',\n",
              " 'happen next pretti put',\n",
              " 'bad caus know famili own realli want like place',\n",
              " 'overpr get',\n",
              " 'vomit bathroom mid lunch',\n",
              " 'kept look time soon becom minut yet still food',\n",
              " 'place eat circumst would ever return top list',\n",
              " 'start tuna sashimi brownish color obvious fresh',\n",
              " 'food averag',\n",
              " 'sure beat nacho movi would expect littl bit come restaur',\n",
              " 'ha long bay bit flop',\n",
              " 'problem charg sandwich bigger subway sub offer better amount veget',\n",
              " 'shrimp unwrap live mile brushfir liter ice cold',\n",
              " 'lack flavor seem undercook dri',\n",
              " 'realli impress place close',\n",
              " 'would avoid place stay mirag',\n",
              " 'refri bean came meal dri crusti food bland',\n",
              " 'spend money time place els',\n",
              " 'ladi tabl next us found live green caterpillar salad',\n",
              " 'present food aw',\n",
              " 'tell disappoint',\n",
              " 'think food flavor textur lack',\n",
              " 'appetit instantli gone',\n",
              " 'overal impress would go back',\n",
              " 'whole experi underwhelm think go ninja sushi next time',\n",
              " 'wast enough life pour salt wound draw time took bring check']"
            ]
          },
          "metadata": {},
          "execution_count": 18
        }
      ]
    },
    {
      "cell_type": "markdown",
      "source": [
        "# **Feature Extraction**"
      ],
      "metadata": {
        "id": "TMMwCpjEVL4v"
      }
    },
    {
      "cell_type": "markdown",
      "source": [
        "**Bag of Words Model**"
      ],
      "metadata": {
        "id": "rgoSeEUzVPKV"
      }
    },
    {
      "cell_type": "code",
      "source": [
        "# Create the bag of words model\n",
        "from sklearn.feature_extraction.text import CountVectorizer\n",
        "cv = CountVectorizer(max_features= 1500)# We restrict the words to 1500 which keeps the most frequent words"
      ],
      "metadata": {
        "id": "5kv17BabVN7o"
      },
      "execution_count": 19,
      "outputs": []
    },
    {
      "cell_type": "code",
      "source": [
        "X = cv.fit_transform(corpus).toarray()# independent variables\n",
        "# X = cv.fit_transform(corpus)"
      ],
      "metadata": {
        "id": "LUUykDhaVcpF"
      },
      "execution_count": 20,
      "outputs": []
    },
    {
      "cell_type": "code",
      "source": [
        "X = cv.fit_transform(corpus).toarray()# independent variables"
      ],
      "metadata": {
        "id": "teftsFPoVf0p"
      },
      "execution_count": 21,
      "outputs": []
    },
    {
      "cell_type": "code",
      "source": [
        "X"
      ],
      "metadata": {
        "colab": {
          "base_uri": "https://localhost:8080/"
        },
        "id": "JBVHrjOiViu6",
        "outputId": "4e3669c9-7eb6-4bbb-e37d-2378f4103b24"
      },
      "execution_count": 22,
      "outputs": [
        {
          "output_type": "execute_result",
          "data": {
            "text/plain": [
              "array([[0, 0, 0, ..., 0, 0, 0],\n",
              "       [0, 0, 0, ..., 0, 0, 0],\n",
              "       [0, 0, 0, ..., 0, 0, 0],\n",
              "       ...,\n",
              "       [0, 0, 0, ..., 0, 0, 0],\n",
              "       [0, 0, 0, ..., 0, 0, 0],\n",
              "       [0, 0, 0, ..., 0, 0, 0]])"
            ]
          },
          "metadata": {},
          "execution_count": 22
        }
      ]
    },
    {
      "cell_type": "code",
      "source": [
        "print(cv.get_feature_names())"
      ],
      "metadata": {
        "colab": {
          "base_uri": "https://localhost:8080/"
        },
        "id": "ZDW-VqfpVl5B",
        "outputId": "152b3f39-e32e-45fb-e41a-5e2c7fcefe4f"
      },
      "execution_count": 23,
      "outputs": [
        {
          "output_type": "stream",
          "name": "stdout",
          "text": [
            "['absolut', 'absolutley', 'accid', 'accommod', 'accomod', 'account', 'ach', 'acknowledg', 'across', 'actual', 'ad', 'afford', 'afternoon', 'ago', 'ahead', 'airlin', 'airport', 'ala', 'albondiga', 'allergi', 'almond', 'almost', 'alon', 'also', 'although', 'alway', 'amaz', 'ambianc', 'ambienc', 'amount', 'ampl', 'andddd', 'angri', 'annoy', 'anoth', 'anticip', 'anymor', 'anyon', 'anyth', 'anytim', 'anyway', 'apart', 'apolog', 'app', 'appal', 'appar', 'appeal', 'appet', 'appetit', 'appl', 'approv', 'area', 'arepa', 'aria', 'around', 'array', 'arriv', 'articl', 'ask', 'assur', 'ate', 'atmospher', 'atroci', 'attach', 'attack', 'attent', 'attitud', 'auju', 'authent', 'averag', 'avocado', 'avoid', 'aw', 'away', 'awesom', 'awkward', 'awkwardli', 'ayc', 'az', 'baba', 'babi', 'bachi', 'back', 'bacon', 'bad', 'bagel', 'bakeri', 'baklava', 'ball', 'bamboo', 'banana', 'bank', 'bar', 'bare', 'bargain', 'bartend', 'base', 'basebal', 'basic', 'batch', 'bathroom', 'batter', 'bay', 'bbq', 'bean', 'beat', 'beateou', 'beauti', 'becom', 'beef', 'beer', 'begin', 'behind', 'believ', 'bellagio', 'belli', 'besid', 'best', 'better', 'beyond', 'big', 'bigger', 'biggest', 'bill', 'bing', 'bird', 'biscuit', 'bisqu', 'bit', 'bitch', 'bite', 'black', 'bland', 'bloodi', 'bloodiest', 'blow', 'blown', 'blue', 'boba', 'bode', 'boot', 'bore', 'bother', 'bottom', 'bouchon', 'bought', 'bowl', 'box', 'boy', 'boyfriend', 'bread', 'break', 'breakfast', 'breez', 'brick', 'bring', 'brisket', 'brother', 'brought', 'brownish', 'brunch', 'bruschetta', 'brushfir', 'bu', 'buck', 'buffet', 'bug', 'build', 'buldogi', 'bunch', 'burger', 'burn', 'burritto', 'busi', 'bussel', 'butter', 'buy', 'bye', 'caballero', 'caesar', 'caf', 'cafe', 'cake', 'calamari', 'call', 'calligraphi', 'came', 'camelback', 'cannoli', 'cannot', 'cant', 'cape', 'caper', 'car', 'carb', 'care', 'carli', 'carpaccio', 'cart', 'cartel', 'case', 'cash', 'cashew', 'cashier', 'casino', 'caterpillar', 'caught', 'char', 'charcoal', 'charg', 'charm', 'cheap', 'cheat', 'check', 'cheek', 'chees', 'cheeseburg', 'cheesecurd', 'chef', 'chewi', 'chicken', 'chines', 'chip', 'chipolt', 'chipotl', 'chocol', 'choos', 'choux', 'chow', 'christma', 'cibo', 'circumst', 'claim', 'class', 'classi', 'classic', 'clean', 'climb', 'close', 'club', 'clue', 'cocktail', 'coconut', 'cod', 'coffe', 'cold', 'colleg', 'color', 'combin', 'combo', 'come', 'comfort', 'common', 'compani', 'companion', 'complain', 'complaint', 'complet', 'compliment', 'con', 'concept', 'concern', 'conclus', 'condiment', 'connisseur', 'connoisseur', 'consid', 'consist', 'construct', 'contain', 'continu', 'conveni', 'cook', 'cool', 'corn', 'corpor', 'correct', 'cost', 'costco', 'cotta', 'could', 'count', 'coupl', 'coupon', 'cours', 'court', 'courteou', 'cover', 'cow', 'cozi', 'cr', 'crab', 'cram', 'cranberri', 'crave', 'crawfish', 'crazi', 'cream', 'creami', 'crema', 'crepe', 'crisp', 'crispi', 'crostini', 'crouton', 'crowd', 'crumbi', 'crust', 'crusti', 'crystal', 'cuisin', 'curri', 'custom', 'cut', 'cute', 'daili', 'damn', 'dark', 'date', 'daughter', 'day', 'dead', 'deal', 'decent', 'decid', 'decis', 'decor', 'dedic', 'deep', 'deepli', 'def', 'defin', 'definit', 'degre', 'del', 'delic', 'delici', 'delicioso', 'delight', 'delish', 'deliv', 'deliveri', 'denni', 'describ', 'descript', 'deserv', 'desir', 'despic', 'despit', 'dessert', 'deuchebaggeri', 'devin', 'die', 'differ', 'dime', 'dine', 'dinner', 'dip', 'dirt', 'dirti', 'disagre', 'disappoint', 'disapppoint', 'disast', 'disbelief', 'discount', 'disgrac', 'disgust', 'dish', 'dispens', 'disrespect', 'divers', 'do', 'dog', 'dollar', 'done', 'dont', 'donut', 'door', 'doubl', 'doubt', 'douchey', 'dough', 'doughi', 'downright', 'downsid', 'downtown', 'drag', 'drastic', 'draw', 'dream', 'drench', 'dress', 'dri', 'driest', 'drink', 'drip', 'drive', 'drop', 'drunk', 'duck', 'dude', 'due', 'duo', 'dust', 'dylan', 'easili', 'eat', 'eaten', 'eclect', 'ed', 'edibl', 'edinburgh', 'edit', 'eel', 'eew', 'effici', 'effort', 'egg', 'eggplant', 'either', 'elegantli', 'elk', 'els', 'elsewher', 'email', 'employe', 'empti', 'end', 'english', 'enjoy', 'enough', 'ensu', 'enthusiast', 'entir', 'entre', 'equal', 'especi', 'establish', 'etc', 'ethic', 'eve', 'even', 'event', 'ever', 'everi', 'everyon', 'everyth', 'everywher', 'exactli', 'excalibur', 'exceed', 'excel', 'except', 'excus', 'expand', 'expect', 'expens', 'experi', 'experienc', 'expert', 'exquisit', 'extens', 'extra', 'extraordinari', 'extrem', 'eye', 'fact', 'fail', 'fairli', 'famili', 'familiar', 'fan', 'fantast', 'far', 'fare', 'fast', 'favor', 'favorit', 'feel', 'fell', 'fella', 'fellow', 'felt', 'fianc', 'figur', 'filet', 'fill', 'fillet', 'final', 'find', 'fine', 'finger', 'finish', 'firehous', 'first', 'fish', 'five', 'flair', 'flat', 'flavor', 'flavorless', 'flavour', 'fli', 'flirt', 'flop', 'flower', 'fluffi', 'fo', 'focus', 'folk', 'fondu', 'food', 'foot', 'forev', 'forget', 'forth', 'forti', 'forward', 'found', 'four', 'francisco', 'freak', 'free', 'freez', 'frenchman', 'fresh', 'fri', 'friday', 'friend', 'friendli', 'front', 'frozen', 'fruit', 'frustrat', 'fs', 'fuck', 'full', 'fun', 'funni', 'furthermor', 'fuzzi', 'ga', 'ganoush', 'garden', 'garlic', 'gave', 'gc', 'gem', 'gener', 'genuin', 'get', 'giant', 'girlfriend', 'give', 'given', 'glad', 'glanc', 'glass', 'glove', 'gluten', 'go', 'goat', 'godfath', 'gold', 'golden', 'gone', 'good', 'googl', 'gooodd', 'gordon', 'got', 'gotten', 'gourmet', 'grab', 'grain', 'grandmoth', 'gratitud', 'gratuiti', 'greas', 'greasi', 'great', 'greatest', 'greedi', 'greek', 'green', 'greet', 'grill', 'gringo', 'gristl', 'groceri', 'gross', 'ground', 'group', 'grow', 'guacamol', 'guess', 'guest', 'guy', 'gyro', 'ha', 'hair', 'half', 'halibut', 'hamburg', 'han', 'hand', 'handl', 'handmad', 'hanker', 'happen', 'happi', 'happier', 'hard', 'hardest', 'hardli', 'hate', 'haunt', 'hawaiian', 'head', 'healthi', 'heard', 'heart', 'heat', 'heimer', 'held', 'hell', 'hella', 'hello', 'help', 'herea', 'hi', 'high', 'highli', 'highlight', 'hilari', 'hip', 'hiro', 'hit', 'hole', 'holiday', 'home', 'homemad', 'honeslti', 'honest', 'honestli', 'honor', 'hook', 'hope', 'horribl', 'hospit', 'host', 'hostess', 'hot', 'hottest', 'hour', 'hous', 'howev', 'huevo', 'huge', 'human', 'humili', 'hummu', 'hunan', 'hungri', 'hurri', 'husband', 'hut', 'ian', 'ice', 'idea', 'ignor', 'im', 'imagin', 'immedi', 'impecc', 'impress', 'inch', 'includ', 'inconsider', 'incred', 'indian', 'indic', 'indoor', 'industri', 'inexpens', 'inflat', 'inform', 'ingredi', 'insan', 'insid', 'inspir', 'instantli', 'instead', 'insult', 'interest', 'interior', 'invit', 'ironman', 'italian', 'item', 'jalapeno', 'jamaican', 'japanes', 'jeff', 'jenni', 'jerk', 'jewel', 'job', 'joey', 'join', 'joint', 'joke', 'joy', 'judg', 'juic', 'juri', 'kabuki', 'kept', 'key', 'khao', 'kid', 'kiddo', 'killer', 'kind', 'kitchen', 'know', 'known', 'la', 'lack', 'ladi', 'larg', 'larger', 'last', 'lastli', 'late', 'later', 'latt', 'law', 'lawyer', 'lb', 'least', 'leather', 'leav', 'left', 'leftov', 'leg', 'legit', 'lemon', 'less', 'let', 'letdown', 'lettuc', 'level', 'life', 'light', 'lighter', 'lightli', 'like', 'lil', 'limit', 'line', 'list', 'liter', 'littl', 'live', 'lobster', 'locat', 'long', 'longer', 'look', 'lordi', 'lost', 'lot', 'loudli', 'love', 'lover', 'low', 'lox', 'loyal', 'luck', 'luke', 'lukewarm', 'lunch', 'mac', 'macaron', 'made', 'madhous', 'madison', 'magazin', 'magic', 'main', 'maintain', 'make', 'mall', 'man', 'manag', 'mandalay', 'mango', 'mani', 'margarita', 'mari', 'maria', 'market', 'marrow', 'martini', 'massiv', 'may', 'mayb', 'mayo', 'meal', 'mean', 'meat', 'meatbal', 'meatloaf', 'mediocr', 'mediterranean', 'medium', 'meet', 'meh', 'mein', 'mellow', 'melt', 'memori', 'mention', 'menu', 'mesquit', 'mess', 'metro', 'mexican', 'mgm', 'mid', 'middl', 'might', 'mile', 'militari', 'milk', 'milkshak', 'min', 'mind', 'minut', 'mirag', 'miss', 'mistak', 'mmmm', 'modern', 'moist', 'mojito', 'mom', 'money', 'monster', 'month', 'mood', 'mortifi', 'mostli', 'mouth', 'movi', 'moz', 'mozzarella', 'much', 'muffin', 'multi', 'multipl', 'mushroom', 'music', 'mussel', 'must', 'nacho', 'name', 'nargil', 'nasti', 'nay', 'nearli', 'neat', 'need', 'needless', 'neglig', 'neighborhood', 'neither', 'never', 'new', 'next', 'nice', 'nicest', 'night', 'nigiri', 'ninja', 'nobu', 'noca', 'non', 'none', 'noodl', 'north', 'note', 'noth', 'nude', 'number', 'nut', 'nutshel', 'nyc', 'offer', 'oh', 'ok', 'old', 'omg', 'one', 'opportun', 'option', 'order', 'other', 'outsid', 'outstand', 'oven', 'overal', 'overcook', 'overpr', 'overwhelm', 'owner', 'pace', 'pack', 'paid', 'pancak', 'paper', 'par', 'part', 'parti', 'pass', 'pasta', 'pat', 'patio', 'patron', 'patti', 'pay', 'pe', 'pea', 'peach', 'peanut', 'pear', 'pecan', 'penn', 'peopl', 'pepper', 'perfect', 'perfectli', 'perform', 'perhap', 'perpar', 'person', 'petrifi', 'petti', 'phenomen', 'philadelphia', 'pho', 'phoenix', 'piano', 'pictur', 'piec', 'pile', 'pine', 'pineappl', 'pink', 'pissd', 'pita', 'pizza', 'place', 'plain', 'plantain', 'plastic', 'plate', 'plater', 'platter', 'play', 'pleas', 'pleasant', 'pleasur', 'plethora', 'plu', 'pneumat', 'point', 'poison', 'polit', 'poop', 'poor', 'poorli', 'pop', 'pork', 'portion', 'posit', 'possibl', 'postino', 'potato', 'pour', 'powder', 'power', 'prefer', 'prepar', 'present', 'pretti', 'price', 'pricey', 'prime', 'privileg', 'pro', 'probabl', 'problem', 'proclaim', 'profession', 'profiterol', 'profound', 'promis', 'prompt', 'promptli', 'properli', 'proven', 'provid', 'pub', 'public', 'publicli', 'puck', 'pull', 'pumpkin', 'pur', 'pure', 'put', 'quaint', 'qualifi', 'qualiti', 'quantiti', 'quick', 'quickli', 'quit', 'ramsey', 'ranch', 'ranchero', 'rapidli', 'rare', 'raspberri', 'rate', 'rather', 'ratio', 'rave', 'ravoli', 'read', 'reader', 'real', 'realiz', 'realli', 'reason', 'recal', 'receiv', 'recent', 'recommend', 'red', 'redeem', 'reduct', 'refil', 'refrain', 'refresh', 'refri', 'refus', 'regist', 'regular', 'regularli', 'reheat', 'relationship', 'relax', 'relleno', 'reloc', 'rememb', 'remind', 'replenish', 'request', 'reserv', 'rest', 'restaraunt', 'restaur', 'return', 'review', 'revisit', 'rge', 'ri', 'rib', 'ribey', 'rice', 'rick', 'ridicul', 'right', 'ring', 'rins', 'rip', 'risotto', 'roast', 'rock', 'roll', 'room', 'rotat', 'round', 'rowdi', 'rubber', 'rude', 'run', 'rush', 'ryan', 'sad', 'sadli', 'saffron', 'saganaki', 'said', 'sal', 'salad', 'salmon', 'salsa', 'salt', 'salti', 'sampl', 'san', 'sandwich', 'sangria', 'sashimi', 'sat', 'satifi', 'satisfi', 'sauc', 'saus', 'save', 'say', 'scallop', 'scene', 'scottsdal', 'scream', 'screw', 'seafood', 'seal', 'season', 'seat', 'second', 'section', 'see', 'seem', 'seen', 'select', 'self', 'send', 'sens', 'sergeant', 'serious', 'serivc', 'serv', 'server', 'servic', 'set', 'sever', 'sewer', 'sexi', 'shall', 'sharpli', 'shawarrrrrrma', 'shirt', 'shock', 'shoe', 'shoot', 'shop', 'short', 'shot', 'show', 'shower', 'shrimp', 'sick', 'side', 'sign', 'silent', 'similar', 'similarli', 'simpl', 'simpli', 'sinc', 'singl', 'sit', 'six', 'skimp', 'slaw', 'slice', 'slow', 'small', 'smaller', 'smashburg', 'smear', 'smell', 'smoke', 'smooth', 'smoothi', 'soggi', 'soi', 'solid', 'solidifi', 'somehow', 'someon', 'someth', 'somethat', 'somewhat', 'son', 'song', 'soon', 'soooo', 'sooooo', 'soooooo', 'sore', 'sorri', 'sound', 'soundtrack', 'soup', 'sour', 'southwest', 'space', 'spaghetti', 'special', 'speedi', 'spend', 'spice', 'spici', 'spicier', 'spinach', 'sport', 'spot', 'spotti', 'spring', 'sprout', 'staff', 'stale', 'standard', 'star', 'start', 'starv', 'station', 'stay', 'steak', 'steakhous', 'steiner', 'step', 'steve', 'stick', 'still', 'stink', 'stir', 'stomach', 'stood', 'stop', 'store', 'strang', 'stranger', 'strawberri', 'street', 'stretch', 'strike', 'string', 'strip', 'struck', 'struggl', 'stuf', 'stuff', 'stupid', 'style', 'styrofoam', 'sub', 'subpar', 'subway', 'succul', 'suck', 'sucker', 'suffer', 'sugar', 'sugari', 'suggest', 'summar', 'summari', 'summer', 'sun', 'sunday', 'sunglass', 'super', 'suppos', 'sure', 'surpris', 'sushi', 'sweet', 'swung', 'tabl', 'taco', 'tailor', 'take', 'takeout', 'talk', 'tap', 'tapa', 'tartar', 'tast', 'tasteless', 'tasti', 'tater', 'tea', 'teamwork', 'teeth', 'tell', 'temp', 'ten', 'tender', 'tepid', 'terribl', 'terrif', 'textur', 'th', 'thai', 'thank', 'that', 'theft', 'thick', 'thin', 'thing', 'think', 'thinli', 'third', 'thirti', 'thoroughli', 'though', 'thought', 'three', 'thrill', 'thru', 'thu', 'thumb', 'tigerlilli', 'time', 'tini', 'tip', 'tiramisu', 'toast', 'today', 'togeth', 'told', 'toler', 'tomato', 'tongu', 'tonight', 'took', 'top', 'topic', 'toro', 'tot', 'total', 'touch', 'tough', 'toward', 'town', 'track', 'tradit', 'tragedi', 'transcend', 'trap', 'treat', 'tri', 'tribut', 'trim', 'trip', 'trippi', 'truffl', 'truli', 'tucson', 'tummi', 'tuna', 'turkey', 'turn', 'tv', 'twice', 'two', 'typic', 'unbeliev', 'undercook', 'understand', 'underwhelm', 'unexperienc', 'unfortun', 'unhealthi', 'uninspir', 'uniqu', 'unless', 'unprofession', 'unreal', 'unsatisfi', 'untoast', 'unwelcom', 'unwrap', 'updat', 'upgrad', 'upload', 'us', 'use', 'usual', 'vacant', 'vain', 'valley', 'valu', 'vanilla', 'veal', 'vega', 'vegan', 'veget', 'vegetarian', 'veggi', 'veggitarian', 'velvet', 'ventil', 'ventur', 'venu', 'verg', 'version', 'via', 'vibe', 'vinaigrett', 'vinegrett', 'violinist', 'visit', 'vodka', 'vomit', 'voodoo', 'vote', 'waaaaaayyyyyyyyyi', 'wagyu', 'wait', 'waiter', 'waitress', 'walk', 'wall', 'want', 'warm', 'warmer', 'warn', 'wash', 'wast', 'watch', 'water', 'wave', 'way', 'wayyy', 'weak', 'websit', 'wedg', 'week', 'weekend', 'weekli', 'weird', 'welcom', 'well', 'went', 'whatsoev', 'whelm', 'whenev', 'whether', 'white', 'whole', 'wide', 'wienerschnitzel', 'wife', 'wildli', 'wine', 'wing', 'winner', 'wire', 'wish', 'wit', 'without', 'wonder', 'wonton', 'word', 'work', 'worker', 'world', 'worri', 'wors', 'worst', 'worth', 'would', 'wound', 'wow', 'wrap', 'write', 'wrong', 'ya', 'yama', 'yay', 'yeah', 'year', 'yellow', 'yellowtail', 'yelper', 'yet', 'yucki', 'yukon', 'yum', 'yummi', 'zero']\n"
          ]
        },
        {
          "output_type": "stream",
          "name": "stderr",
          "text": [
            "/usr/local/lib/python3.7/dist-packages/sklearn/utils/deprecation.py:87: FutureWarning: Function get_feature_names is deprecated; get_feature_names is deprecated in 1.0 and will be removed in 1.2. Please use get_feature_names_out instead.\n",
            "  warnings.warn(msg, category=FutureWarning)\n"
          ]
        }
      ]
    },
    {
      "cell_type": "code",
      "source": [
        "X.shape"
      ],
      "metadata": {
        "colab": {
          "base_uri": "https://localhost:8080/"
        },
        "id": "gq8J1jFQVr9e",
        "outputId": "e0d541d6-91bb-40d0-b50d-7fce672f164a"
      },
      "execution_count": 24,
      "outputs": [
        {
          "output_type": "execute_result",
          "data": {
            "text/plain": [
              "(1000, 1500)"
            ]
          },
          "metadata": {},
          "execution_count": 24
        }
      ]
    },
    {
      "cell_type": "code",
      "source": [
        "y = df.iloc[:, 1].values # dependent variable (These are your Liked values from the dataset)"
      ],
      "metadata": {
        "id": "JpIYq_Y1Vvir"
      },
      "execution_count": 25,
      "outputs": []
    },
    {
      "cell_type": "markdown",
      "source": [
        "# **Modeling**"
      ],
      "metadata": {
        "id": "LFfUof6AVyRL"
      }
    },
    {
      "cell_type": "markdown",
      "source": [
        "# **Naive Bayes Model**"
      ],
      "metadata": {
        "id": "_Br6fmV0V29s"
      }
    },
    {
      "cell_type": "code",
      "source": [
        "from sklearn.model_selection import train_test_split\n",
        "from sklearn.naive_bayes import MultinomialNB\n",
        "from sklearn import metrics\n",
        "from sklearn.metrics import confusion_matrix\n",
        "from sklearn.metrics import plot_confusion_matrix\n",
        "from sklearn.metrics import precision_score, recall_score, f1_score, accuracy_score"
      ],
      "metadata": {
        "id": "N-euTY9mV6WW"
      },
      "execution_count": 26,
      "outputs": []
    },
    {
      "cell_type": "code",
      "source": [
        "# Splitting the dataset into the Training set and Test set\n",
        "X_train, X_test, y_train, y_test = train_test_split(X, y, test_size=0.2, random_state=0)"
      ],
      "metadata": {
        "id": "NaHMzE5WV9YX"
      },
      "execution_count": 27,
      "outputs": []
    },
    {
      "cell_type": "code",
      "source": [
        "X_train.shape, X_test.shape, y_train.shape, y_test.shape"
      ],
      "metadata": {
        "colab": {
          "base_uri": "https://localhost:8080/"
        },
        "id": "wvD0xO2UWAPv",
        "outputId": "8bfe58b6-392d-4138-b38d-acbfeb927eda"
      },
      "execution_count": 28,
      "outputs": [
        {
          "output_type": "execute_result",
          "data": {
            "text/plain": [
              "((800, 1500), (200, 1500), (800,), (200,))"
            ]
          },
          "metadata": {},
          "execution_count": 28
        }
      ]
    },
    {
      "cell_type": "code",
      "source": [
        "# Fitting classifier to the Training set\n",
        "mnb = MultinomialNB()\n",
        "model = mnb.fit(X_train, y_train)"
      ],
      "metadata": {
        "id": "Umd119TTWJ0p"
      },
      "execution_count": 29,
      "outputs": []
    },
    {
      "cell_type": "code",
      "source": [
        "# Predicting the Test set results \n",
        "# y_pred = gnb.fit(X_train, y_train).predict(X_test)\n",
        "y_pred = model.predict(X_test)\n",
        "y_pred"
      ],
      "metadata": {
        "colab": {
          "base_uri": "https://localhost:8080/"
        },
        "id": "gjP2SZO4WM17",
        "outputId": "37d802db-e625-403f-ddd1-d7baaec4d468"
      },
      "execution_count": 30,
      "outputs": [
        {
          "output_type": "execute_result",
          "data": {
            "text/plain": [
              "array([0, 0, 0, 0, 0, 0, 1, 0, 0, 1, 1, 1, 1, 1, 1, 1, 0, 0, 0, 1, 0, 0,\n",
              "       1, 1, 1, 1, 1, 1, 1, 1, 1, 1, 1, 1, 1, 0, 0, 0, 1, 1, 1, 1, 1, 0,\n",
              "       0, 0, 1, 1, 0, 0, 1, 1, 1, 1, 1, 0, 1, 1, 0, 1, 1, 0, 0, 1, 0, 0,\n",
              "       1, 0, 1, 0, 1, 1, 1, 0, 0, 0, 0, 1, 0, 1, 1, 1, 1, 0, 1, 1, 1, 0,\n",
              "       1, 1, 0, 1, 0, 0, 0, 0, 0, 0, 0, 0, 0, 1, 1, 1, 0, 1, 1, 1, 0, 0,\n",
              "       0, 1, 0, 1, 1, 0, 1, 1, 1, 1, 1, 1, 1, 1, 0, 0, 1, 1, 0, 0, 1, 1,\n",
              "       0, 0, 1, 1, 1, 1, 1, 1, 0, 1, 1, 0, 0, 0, 0, 0, 1, 0, 1, 0, 1, 1,\n",
              "       1, 0, 1, 0, 1, 1, 0, 0, 1, 1, 0, 0, 1, 0, 0, 0, 0, 1, 1, 0, 0, 1,\n",
              "       0, 1, 0, 0, 1, 0, 0, 1, 0, 0, 0, 1, 0, 1, 1, 0, 1, 0, 0, 0, 1, 1,\n",
              "       0, 1])"
            ]
          },
          "metadata": {},
          "execution_count": 30
        }
      ]
    },
    {
      "cell_type": "code",
      "source": [
        "# Make the Confusion Matrix\n",
        "cm = confusion_matrix(y_test, y_pred)\n",
        "plot_confusion_matrix(model, X_test, y_test)  \n",
        "plt.show()"
      ],
      "metadata": {
        "colab": {
          "base_uri": "https://localhost:8080/",
          "height": 335
        },
        "id": "az8NPmhQWRpx",
        "outputId": "b7917738-8551-4a3a-a08c-7d354304f3cc"
      },
      "execution_count": 31,
      "outputs": [
        {
          "output_type": "stream",
          "name": "stderr",
          "text": [
            "/usr/local/lib/python3.7/dist-packages/sklearn/utils/deprecation.py:87: FutureWarning: Function plot_confusion_matrix is deprecated; Function `plot_confusion_matrix` is deprecated in 1.0 and will be removed in 1.2. Use one of the class methods: ConfusionMatrixDisplay.from_predictions or ConfusionMatrixDisplay.from_estimator.\n",
            "  warnings.warn(msg, category=FutureWarning)\n"
          ]
        },
        {
          "output_type": "display_data",
          "data": {
            "text/plain": [
              "<Figure size 432x288 with 2 Axes>"
            ],
            "image/png": "[encoded data removed]"
          },
          "metadata": {
            "needs_background": "light"
          }
        }
      ]
    },
    {
      "cell_type": "code",
      "source": [
        "# Evaluate the results\n",
        "# accuracy score\n",
        "print(f'accuracy_score: ', accuracy_score(y_pred, y_test))\n",
        "# precision scores\n",
        "print(f'precision_score: ', precision_score(y_test, y_pred))\n",
        "# recall score\n",
        "print(f'recall_score: ', recall_score(y_test, y_pred))\n",
        "# f1_score\n",
        "print(f'f1_score: ', f1_score(y_test, y_pred))"
      ],
      "metadata": {
        "colab": {
          "base_uri": "https://localhost:8080/"
        },
        "id": "IYeMrTzVWVOH",
        "outputId": "e85f2306-165e-460f-9b8c-9b12fb3f4392"
      },
      "execution_count": 32,
      "outputs": [
        {
          "output_type": "stream",
          "name": "stdout",
          "text": [
            "accuracy_score:  0.755\n",
            "precision_score:  0.75\n",
            "recall_score:  0.7864077669902912\n",
            "f1_score:  0.7677725118483412\n"
          ]
        }
      ]
    },
    {
      "cell_type": "markdown",
      "source": [
        "# **KNN Model**"
      ],
      "metadata": {
        "id": "DFghhK2RWZN9"
      }
    },
    {
      "cell_type": "code",
      "source": [
        "from sklearn.neighbors import KNeighborsClassifier"
      ],
      "metadata": {
        "id": "V1O27KF6WcJY"
      },
      "execution_count": 33,
      "outputs": []
    },
    {
      "cell_type": "code",
      "source": [
        "# Splitting the dataset into the Training set and Test set\n",
        "X_train, X_test, y_train, y_test = train_test_split(X, y, test_size=0.2, random_state=0)\n",
        "\n",
        "# Fitting classifier to the Training set\n",
        "knn = KNeighborsClassifier(n_neighbors=4)\n",
        "model = knn.fit(X_train, y_train)\n",
        "\n",
        "# Predicting the Test set results \n",
        "y_pred = model.predict(X_test)\n",
        "y_pred\n",
        "\n",
        "# Make the Confusion Matrix\n",
        "cm = confusion_matrix(y_test, y_pred)\n",
        "plot_confusion_matrix(model, X_test, y_test)  \n",
        "plt.show()\n",
        "\n",
        "# Evaluate the results\n",
        "print(f'accuracy_score: ', accuracy_score(y_pred, y_test))\n",
        "# precision scores\n",
        "print(f'precision_score: ', precision_score(y_test, y_pred))\n",
        "# recall score\n",
        "print(f'recall_score: ', recall_score(y_test, y_pred))\n",
        "# f1_score\n",
        "print(f'f1_score: ', f1_score(y_test, y_pred))"
      ],
      "metadata": {
        "colab": {
          "base_uri": "https://localhost:8080/",
          "height": 405
        },
        "id": "Hk8h0heGWgdp",
        "outputId": "744de26b-724d-451d-ceb4-e07fb573745f"
      },
      "execution_count": 34,
      "outputs": [
        {
          "output_type": "stream",
          "name": "stderr",
          "text": [
            "/usr/local/lib/python3.7/dist-packages/sklearn/utils/deprecation.py:87: FutureWarning: Function plot_confusion_matrix is deprecated; Function `plot_confusion_matrix` is deprecated in 1.0 and will be removed in 1.2. Use one of the class methods: ConfusionMatrixDisplay.from_predictions or ConfusionMatrixDisplay.from_estimator.\n",
            "  warnings.warn(msg, category=FutureWarning)\n"
          ]
        },
        {
          "output_type": "display_data",
          "data": {
            "text/plain": [
              "<Figure size 432x288 with 2 Axes>"
            ],
            "image/png": "[encoded data removed]"
          },
          "metadata": {
            "needs_background": "light"
          }
        },
        {
          "output_type": "stream",
          "name": "stdout",
          "text": [
            "accuracy_score:  0.65\n",
            "precision_score:  0.8666666666666667\n",
            "recall_score:  0.3786407766990291\n",
            "f1_score:  0.527027027027027\n"
          ]
        }
      ]
    },
    {
      "cell_type": "markdown",
      "source": [
        "# **Support Vector Machine SVM Model**"
      ],
      "metadata": {
        "id": "F9ig7ut_WoO3"
      }
    },
    {
      "cell_type": "code",
      "source": [
        "from sklearn.pipeline import make_pipeline\n",
        "from sklearn.preprocessing import StandardScaler\n",
        "from sklearn.svm import SVC"
      ],
      "metadata": {
        "id": "GxmbqhEDWk0n"
      },
      "execution_count": 35,
      "outputs": []
    },
    {
      "cell_type": "code",
      "source": [
        "# Splitting the dataset into the Training set and Test set\n",
        "X_train, X_test, y_train, y_test = train_test_split(X, y, test_size=0.2, random_state=0)\n",
        "\n",
        "# Fitting classifier to the Training set\n",
        "svm = make_pipeline(StandardScaler(), SVC(gamma='auto'))\n",
        "model = svm.fit(X_train, y_train)\n",
        "\n",
        "# Predicting the Test set results \n",
        "y_pred = model.predict(X_test)\n",
        "y_pred\n",
        "\n",
        "# Make the Confusion Matrix\n",
        "cm = confusion_matrix(y_test, y_pred)\n",
        "plot_confusion_matrix(model, X_test, y_test)  \n",
        "plt.show()\n",
        "\n",
        "# Evaluate the results\n",
        "print(f'accuracy_score: ', accuracy_score(y_pred, y_test))\n",
        "# precision scores\n",
        "print(f'precision_score: ', precision_score(y_test, y_pred))\n",
        "# recall score\n",
        "print(f'recall_score: ', recall_score(y_test, y_pred))\n",
        "# f1_score\n",
        "print(f'f1_score: ', f1_score(y_test, y_pred))"
      ],
      "metadata": {
        "colab": {
          "base_uri": "https://localhost:8080/",
          "height": 403
        },
        "id": "7FDJowzSWuBn",
        "outputId": "0d8c60a7-c6bc-4d1f-e384-7a2900255dd9"
      },
      "execution_count": 36,
      "outputs": [
        {
          "output_type": "stream",
          "name": "stderr",
          "text": [
            "/usr/local/lib/python3.7/dist-packages/sklearn/utils/deprecation.py:87: FutureWarning: Function plot_confusion_matrix is deprecated; Function `plot_confusion_matrix` is deprecated in 1.0 and will be removed in 1.2. Use one of the class methods: ConfusionMatrixDisplay.from_predictions or ConfusionMatrixDisplay.from_estimator.\n",
            "  warnings.warn(msg, category=FutureWarning)\n"
          ]
        },
        {
          "output_type": "display_data",
          "data": {
            "text/plain": [
              "<Figure size 432x288 with 2 Axes>"
            ],
            "image/png": "[encoded data removed]"
          },
          "metadata": {
            "needs_background": "light"
          }
        },
        {
          "output_type": "stream",
          "name": "stdout",
          "text": [
            "accuracy_score:  0.715\n",
            "precision_score:  0.6949152542372882\n",
            "recall_score:  0.7961165048543689\n",
            "f1_score:  0.7420814479638009\n"
          ]
        }
      ]
    },
    {
      "cell_type": "markdown",
      "source": [
        "# **Decision Tree Classification Model**"
      ],
      "metadata": {
        "id": "QARYuDpiW0eC"
      }
    },
    {
      "cell_type": "code",
      "source": [
        "from sklearn.tree import DecisionTreeClassifier"
      ],
      "metadata": {
        "id": "VldujuOQW2wf"
      },
      "execution_count": 37,
      "outputs": []
    },
    {
      "cell_type": "code",
      "source": [
        "# Splitting the dataset into the Training set and Test set\n",
        "X_train, X_test, y_train, y_test = train_test_split(X, y, test_size=0.2, random_state=0)\n",
        "\n",
        "# Fitting classifier to the Training set\n",
        "dtc = DecisionTreeClassifier(random_state=0)\n",
        "model = dtc.fit(X_train, y_train)\n",
        "\n",
        "# Predicting the Test set results \n",
        "y_pred = model.predict(X_test)\n",
        "y_pred\n",
        "\n",
        "# Make the Confusion Matrix\n",
        "cm = confusion_matrix(y_test, y_pred)\n",
        "plot_confusion_matrix(model, X_test, y_test)  \n",
        "plt.show()\n",
        "\n",
        "# Evaluate the results\n",
        "print(f'accuracy_score: ', accuracy_score(y_pred, y_test))\n",
        "# precision scores\n",
        "print(f'precision_score: ', precision_score(y_test, y_pred))\n",
        "# recall score\n",
        "print(f'recall_score: ', recall_score(y_test, y_pred))\n",
        "# f1_score\n",
        "print(f'f1_score: ', f1_score(y_test, y_pred))"
      ],
      "metadata": {
        "colab": {
          "base_uri": "https://localhost:8080/",
          "height": 403
        },
        "id": "2GZ1ykj-W-xN",
        "outputId": "f41a1bb7-440e-4e07-fb6b-565aa72b502f"
      },
      "execution_count": 38,
      "outputs": [
        {
          "output_type": "stream",
          "name": "stderr",
          "text": [
            "/usr/local/lib/python3.7/dist-packages/sklearn/utils/deprecation.py:87: FutureWarning: Function plot_confusion_matrix is deprecated; Function `plot_confusion_matrix` is deprecated in 1.0 and will be removed in 1.2. Use one of the class methods: ConfusionMatrixDisplay.from_predictions or ConfusionMatrixDisplay.from_estimator.\n",
            "  warnings.warn(msg, category=FutureWarning)\n"
          ]
        },
        {
          "output_type": "display_data",
          "data": {
            "text/plain": [
              "<Figure size 432x288 with 2 Axes>"
            ],
            "image/png": "[encoded data removed]"
          },
          "metadata": {
            "needs_background": "light"
          }
        },
        {
          "output_type": "stream",
          "name": "stdout",
          "text": [
            "accuracy_score:  0.665\n",
            "precision_score:  0.6914893617021277\n",
            "recall_score:  0.6310679611650486\n",
            "f1_score:  0.6598984771573605\n"
          ]
        }
      ]
    },
    {
      "cell_type": "markdown",
      "source": [
        "# **Random Forest Model**"
      ],
      "metadata": {
        "id": "r98fk6JgXTs4"
      }
    },
    {
      "cell_type": "code",
      "source": [
        "from sklearn.ensemble import RandomForestClassifier"
      ],
      "metadata": {
        "id": "J4m4Z9XuXMqu"
      },
      "execution_count": 39,
      "outputs": []
    },
    {
      "cell_type": "code",
      "source": [
        "# Splitting the dataset into the Training set and Test set\n",
        "X_train, X_test, y_train, y_test = train_test_split(X, y, test_size=0.2, random_state=0)\n",
        "\n",
        "# Fitting classifier to the Training set\n",
        "rfc = RandomForestClassifier(max_depth=2, random_state=0)\n",
        "model = rfc.fit(X_train, y_train)\n",
        "\n",
        "# Predicting the Test set results \n",
        "y_pred = model.predict(X_test)\n",
        "y_pred\n",
        "\n",
        "# Make the Confusion Matrix\n",
        "cm = confusion_matrix(y_test, y_pred)\n",
        "plot_confusion_matrix(model, X_test, y_test)  \n",
        "plt.show()\n",
        "\n",
        "# Evaluate the results\n",
        "print(f'accuracy_score: ', accuracy_score(y_pred, y_test))\n",
        "# precision scores\n",
        "print(f'precision_score: ', precision_score(y_test, y_pred))\n",
        "# recall score\n",
        "print(f'recall_score: ', recall_score(y_test, y_pred))\n",
        "# f1_score\n",
        "print(f'f1_score: ', f1_score(y_test, y_pred))"
      ],
      "metadata": {
        "colab": {
          "base_uri": "https://localhost:8080/",
          "height": 403
        },
        "id": "_JI9piiNXazZ",
        "outputId": "20715c64-e7f2-4770-d625-849ad0534fc3"
      },
      "execution_count": 40,
      "outputs": [
        {
          "output_type": "stream",
          "name": "stderr",
          "text": [
            "/usr/local/lib/python3.7/dist-packages/sklearn/utils/deprecation.py:87: FutureWarning: Function plot_confusion_matrix is deprecated; Function `plot_confusion_matrix` is deprecated in 1.0 and will be removed in 1.2. Use one of the class methods: ConfusionMatrixDisplay.from_predictions or ConfusionMatrixDisplay.from_estimator.\n",
            "  warnings.warn(msg, category=FutureWarning)\n"
          ]
        },
        {
          "output_type": "display_data",
          "data": {
            "text/plain": [
              "<Figure size 432x288 with 2 Axes>"
            ],
            "image/png": "[encoded data removed]"
          },
          "metadata": {
            "needs_background": "light"
          }
        },
        {
          "output_type": "stream",
          "name": "stdout",
          "text": [
            "accuracy_score:  0.71\n",
            "precision_score:  0.9245283018867925\n",
            "recall_score:  0.47572815533980584\n",
            "f1_score:  0.6282051282051283\n"
          ]
        }
      ]
    },
    {
      "cell_type": "markdown",
      "source": [
        "# **Feature Extraction**"
      ],
      "metadata": {
        "id": "FfOgVyHbXexG"
      }
    },
    {
      "cell_type": "markdown",
      "source": [
        "# *TF IDF*"
      ],
      "metadata": {
        "id": "LdlKGqzBXiQ6"
      }
    },
    {
      "cell_type": "code",
      "source": [
        "from sklearn.feature_extraction.text import TfidfVectorizer\n",
        "\n",
        "vectorizer = TfidfVectorizer (max_features=2500, min_df=7, max_df=0.8, stop_words=stopwords.words('english'))\n",
        "vectorizer"
      ],
      "metadata": {
        "colab": {
          "base_uri": "https://localhost:8080/"
        },
        "id": "dXs6kYlPXdXf",
        "outputId": "890f101b-4322-43f3-c300-0057898a2bc3"
      },
      "execution_count": 41,
      "outputs": [
        {
          "output_type": "execute_result",
          "data": {
            "text/plain": [
              "TfidfVectorizer(max_df=0.8, max_features=2500, min_df=7,\n",
              "                stop_words=['i', 'me', 'my', 'myself', 'we', 'our', 'ours',\n",
              "                            'ourselves', 'you', \"you're\", \"you've\", \"you'll\",\n",
              "                            \"you'd\", 'your', 'yours', 'yourself', 'yourselves',\n",
              "                            'he', 'him', 'his', 'himself', 'she', \"she's\",\n",
              "                            'her', 'hers', 'herself', 'it', \"it's\", 'its',\n",
              "                            'itself', ...])"
            ]
          },
          "metadata": {},
          "execution_count": 41
        }
      ]
    },
    {
      "cell_type": "code",
      "source": [
        "corpus = vectorizer.fit_transform(corpus).toarray()"
      ],
      "metadata": {
        "id": "p-12nYJCX4ui"
      },
      "execution_count": 42,
      "outputs": []
    },
    {
      "cell_type": "code",
      "source": [
        "X = corpus"
      ],
      "metadata": {
        "id": "C4nsB4lPX7tV"
      },
      "execution_count": 43,
      "outputs": []
    },
    {
      "cell_type": "code",
      "source": [
        "X.shape"
      ],
      "metadata": {
        "colab": {
          "base_uri": "https://localhost:8080/"
        },
        "id": "sKWMGi2ZX-gA",
        "outputId": "931d47b0-2838-41c7-fa32-431beefef6e2"
      },
      "execution_count": 44,
      "outputs": [
        {
          "output_type": "execute_result",
          "data": {
            "text/plain": [
              "(1000, 179)"
            ]
          },
          "metadata": {},
          "execution_count": 44
        }
      ]
    },
    {
      "cell_type": "markdown",
      "source": [
        "# **Modeling**"
      ],
      "metadata": {
        "id": "c_rmeXIEYCM9"
      }
    },
    {
      "cell_type": "markdown",
      "source": [
        "# Random Forest Model"
      ],
      "metadata": {
        "id": "vV4bSMSWYFRp"
      }
    },
    {
      "cell_type": "code",
      "source": [
        "# Splitting the dataset into the Training set and Test set\n",
        "X_train, X_test, y_train, y_test = train_test_split(X, y, test_size=0.2, random_state=0)\n",
        "\n",
        "# Fitting classifier to the Training set\n",
        "rfc = RandomForestClassifier(max_depth=2, random_state=0)\n",
        "model = rfc.fit(X_train, y_train)\n",
        "\n",
        "\n",
        "# Predicting the Test set results \n",
        "y_pred = model.predict(X_test)\n",
        "y_pred\n",
        "\n",
        "# Make the Confusion Matrix\n",
        "cm = confusion_matrix(y_test, y_pred)\n",
        "plot_confusion_matrix(model, X_test, y_test)  \n",
        "plt.show()\n",
        "\n",
        "# Evaluate the results\n",
        "print(f'accuracy_score: ', accuracy_score(y_pred, y_test))\n",
        "# precision scores\n",
        "print(f'precision_score: ', precision_score(y_test, y_pred))\n",
        "# recall score\n",
        "print(f'recall_score: ', recall_score(y_test, y_pred))\n",
        "# f1_score\n",
        "print(f'f1_score: ', f1_score(y_test, y_pred))"
      ],
      "metadata": {
        "colab": {
          "base_uri": "https://localhost:8080/",
          "height": 403
        },
        "id": "tecr1_GgYLT9",
        "outputId": "6c3fdfc5-6b13-4447-8c0c-9899420f8dcf"
      },
      "execution_count": 45,
      "outputs": [
        {
          "output_type": "stream",
          "name": "stderr",
          "text": [
            "/usr/local/lib/python3.7/dist-packages/sklearn/utils/deprecation.py:87: FutureWarning: Function plot_confusion_matrix is deprecated; Function `plot_confusion_matrix` is deprecated in 1.0 and will be removed in 1.2. Use one of the class methods: ConfusionMatrixDisplay.from_predictions or ConfusionMatrixDisplay.from_estimator.\n",
            "  warnings.warn(msg, category=FutureWarning)\n"
          ]
        },
        {
          "output_type": "display_data",
          "data": {
            "text/plain": [
              "<Figure size 432x288 with 2 Axes>"
            ],
            "image/png": "[encoded data removed]"
          },
          "metadata": {
            "needs_background": "light"
          }
        },
        {
          "output_type": "stream",
          "name": "stdout",
          "text": [
            "accuracy_score:  0.69\n",
            "precision_score:  0.9555555555555556\n",
            "recall_score:  0.4174757281553398\n",
            "f1_score:  0.5810810810810811\n"
          ]
        }
      ]
    },
    {
      "cell_type": "markdown",
      "source": [
        "# Decision Tree Model"
      ],
      "metadata": {
        "id": "FMqIws3bYSuk"
      }
    },
    {
      "cell_type": "code",
      "source": [
        "# Splitting the dataset into the Training set and Test set\n",
        "X_train, X_test, y_train, y_test = train_test_split(X, y, test_size=0.2, random_state=0)\n",
        "\n",
        "# Fitting classifier to the Training set\n",
        "dtc = DecisionTreeClassifier(random_state=0)\n",
        "model = dtc.fit(X_train, y_train)\n",
        "\n",
        "# Predicting the Test set results \n",
        "y_pred = model.predict(X_test)\n",
        "y_pred\n",
        "\n",
        "# Make the Confusion Matrix\n",
        "cm = confusion_matrix(y_test, y_pred)\n",
        "plot_confusion_matrix(model, X_test, y_test)  \n",
        "plt.show()\n",
        "\n",
        "# Evaluate the results\n",
        "print(f'accuracy_score: ', accuracy_score(y_pred, y_test))\n",
        "# precision scores\n",
        "print(f'precision_score: ', precision_score(y_test, y_pred))\n",
        "# recall score\n",
        "print(f'recall_score: ', recall_score(y_test, y_pred))\n",
        "# f1_score\n",
        "print(f'f1_score: ', f1_score(y_test, y_pred))"
      ],
      "metadata": {
        "colab": {
          "base_uri": "https://localhost:8080/",
          "height": 403
        },
        "id": "h1OzBOe8YRa2",
        "outputId": "c5bde8fb-a781-4227-bd64-29ceae190ec3"
      },
      "execution_count": 46,
      "outputs": [
        {
          "output_type": "stream",
          "name": "stderr",
          "text": [
            "/usr/local/lib/python3.7/dist-packages/sklearn/utils/deprecation.py:87: FutureWarning: Function plot_confusion_matrix is deprecated; Function `plot_confusion_matrix` is deprecated in 1.0 and will be removed in 1.2. Use one of the class methods: ConfusionMatrixDisplay.from_predictions or ConfusionMatrixDisplay.from_estimator.\n",
            "  warnings.warn(msg, category=FutureWarning)\n"
          ]
        },
        {
          "output_type": "display_data",
          "data": {
            "text/plain": [
              "<Figure size 432x288 with 2 Axes>"
            ],
            "image/png": "[encoded data removed]"
          },
          "metadata": {
            "needs_background": "light"
          }
        },
        {
          "output_type": "stream",
          "name": "stdout",
          "text": [
            "accuracy_score:  0.695\n",
            "precision_score:  0.7560975609756098\n",
            "recall_score:  0.6019417475728155\n",
            "f1_score:  0.6702702702702702\n"
          ]
        }
      ]
    },
    {
      "cell_type": "markdown",
      "source": [
        "# Support Vector Machine SVM Model"
      ],
      "metadata": {
        "id": "sVmms2yOYaIT"
      }
    },
    {
      "cell_type": "code",
      "source": [
        "# Splitting the dataset into the Training set and Test set\n",
        "X_train, X_test, y_train, y_test = train_test_split(X, y, test_size=0.2, random_state=0)\n",
        "\n",
        "# Fitting classifier to the Training set\n",
        "svm = make_pipeline(StandardScaler(), SVC(gamma='auto'))\n",
        "model = svm.fit(X_train, y_train)\n",
        "\n",
        "# Predicting the Test set results \n",
        "y_pred = model.predict(X_test)\n",
        "y_pred\n",
        "\n",
        "# Make the Confusion Matrix\n",
        "cm = confusion_matrix(y_test, y_pred)\n",
        "plot_confusion_matrix(model, X_test, y_test)  \n",
        "plt.show()\n",
        "\n",
        "# Evaluate the results\n",
        "print(f'accuracy_score: ', accuracy_score(y_pred, y_test))\n",
        "# precision scores\n",
        "print(f'precision_score: ', precision_score(y_test, y_pred))\n",
        "# recall score\n",
        "print(f'recall_score: ', recall_score(y_test, y_pred))\n",
        "# f1_score\n",
        "print(f'f1_score: ', f1_score(y_test, y_pred))"
      ],
      "metadata": {
        "colab": {
          "base_uri": "https://localhost:8080/",
          "height": 403
        },
        "id": "Sc4hXcsAYc-l",
        "outputId": "95257cf6-b371-4490-b61b-757f98fbff43"
      },
      "execution_count": 47,
      "outputs": [
        {
          "output_type": "stream",
          "name": "stderr",
          "text": [
            "/usr/local/lib/python3.7/dist-packages/sklearn/utils/deprecation.py:87: FutureWarning: Function plot_confusion_matrix is deprecated; Function `plot_confusion_matrix` is deprecated in 1.0 and will be removed in 1.2. Use one of the class methods: ConfusionMatrixDisplay.from_predictions or ConfusionMatrixDisplay.from_estimator.\n",
            "  warnings.warn(msg, category=FutureWarning)\n"
          ]
        },
        {
          "output_type": "display_data",
          "data": {
            "text/plain": [
              "<Figure size 432x288 with 2 Axes>"
            ],
            "image/png": "[encoded data removed]"
          },
          "metadata": {
            "needs_background": "light"
          }
        },
        {
          "output_type": "stream",
          "name": "stdout",
          "text": [
            "accuracy_score:  0.72\n",
            "precision_score:  0.7473684210526316\n",
            "recall_score:  0.6893203883495146\n",
            "f1_score:  0.7171717171717172\n"
          ]
        }
      ]
    },
    {
      "cell_type": "markdown",
      "source": [
        "# KNN Model"
      ],
      "metadata": {
        "id": "Gp1ycLveYlJI"
      }
    },
    {
      "cell_type": "code",
      "source": [
        "# Splitting the dataset into the Training set and Test set\n",
        "X_train, X_test, y_train, y_test = train_test_split(X, y, test_size=0.2, random_state=0)\n",
        "\n",
        "# Fitting classifier to the Training set\n",
        "knn = KNeighborsClassifier(n_neighbors=4)\n",
        "model = knn.fit(X_train, y_train)\n",
        "\n",
        "# Predicting the Test set results \n",
        "y_pred = model.predict(X_test)\n",
        "y_pred\n",
        "\n",
        "# Make the Confusion Matrix\n",
        "cm = confusion_matrix(y_test, y_pred)\n",
        "plot_confusion_matrix(model, X_test, y_test)  \n",
        "plt.show()\n",
        "\n",
        "# Evaluate the results\n",
        "print(f'accuracy_score: ', accuracy_score(y_pred, y_test))\n",
        "# precision scores\n",
        "print(f'precision_score: ', precision_score(y_test, y_pred))\n",
        "# recall score\n",
        "print(f'recall_score: ', recall_score(y_test, y_pred))\n",
        "# f1_score\n",
        "print(f'f1_score: ', f1_score(y_test, y_pred))"
      ],
      "metadata": {
        "colab": {
          "base_uri": "https://localhost:8080/",
          "height": 403
        },
        "id": "1Mw6AnSKYoCP",
        "outputId": "1ac3dd50-7138-4509-eaf7-0972dcd7b884"
      },
      "execution_count": 48,
      "outputs": [
        {
          "output_type": "stream",
          "name": "stderr",
          "text": [
            "/usr/local/lib/python3.7/dist-packages/sklearn/utils/deprecation.py:87: FutureWarning: Function plot_confusion_matrix is deprecated; Function `plot_confusion_matrix` is deprecated in 1.0 and will be removed in 1.2. Use one of the class methods: ConfusionMatrixDisplay.from_predictions or ConfusionMatrixDisplay.from_estimator.\n",
            "  warnings.warn(msg, category=FutureWarning)\n"
          ]
        },
        {
          "output_type": "display_data",
          "data": {
            "text/plain": [
              "<Figure size 432x288 with 2 Axes>"
            ],
            "image/png": "[encoded data removed]"
          },
          "metadata": {
            "needs_background": "light"
          }
        },
        {
          "output_type": "stream",
          "name": "stdout",
          "text": [
            "accuracy_score:  0.615\n",
            "precision_score:  0.76\n",
            "recall_score:  0.36893203883495146\n",
            "f1_score:  0.4967320261437908\n"
          ]
        }
      ]
    },
    {
      "cell_type": "markdown",
      "source": [
        "# Naive Bayes Model"
      ],
      "metadata": {
        "id": "YUAyVHPqYtIZ"
      }
    },
    {
      "cell_type": "code",
      "source": [
        "# Splitting the dataset into the Training set and Test set\n",
        "X_train, X_test, y_train, y_test = train_test_split(X, y, test_size=0.2, random_state=0)\n",
        "\n",
        "# Fitting classifier to the Training set\n",
        "mnb = MultinomialNB()\n",
        "model = mnb.fit(X_train, y_train)\n",
        "\n",
        "# Predicting the Test set results \n",
        "# y_pred = gnb.fit(X_train, y_train).predict(X_test)\n",
        "y_pred = model.predict(X_test)\n",
        "y_pred\n",
        "\n",
        "# Make the Confusion Matrix\n",
        "cm = confusion_matrix(y_test, y_pred)\n",
        "plot_confusion_matrix(model, X_test, y_test)  \n",
        "plt.show()\n",
        "\n",
        "# Evaluate the results\n",
        "# accuracy score\n",
        "print(f'accuracy_score: ', accuracy_score(y_pred, y_test))\n",
        "# precision scores\n",
        "print(f'precision_score: ', precision_score(y_test, y_pred))\n",
        "# recall score\n",
        "print(f'recall_score: ', recall_score(y_test, y_pred))\n",
        "# f1_score\n",
        "print(f'f1_score: ', f1_score(y_test, y_pred))"
      ],
      "metadata": {
        "colab": {
          "base_uri": "https://localhost:8080/",
          "height": 403
        },
        "id": "0hvJda-5Yrok",
        "outputId": "9df340b9-55de-4209-b2d2-deb4987f8744"
      },
      "execution_count": 49,
      "outputs": [
        {
          "output_type": "stream",
          "name": "stderr",
          "text": [
            "/usr/local/lib/python3.7/dist-packages/sklearn/utils/deprecation.py:87: FutureWarning: Function plot_confusion_matrix is deprecated; Function `plot_confusion_matrix` is deprecated in 1.0 and will be removed in 1.2. Use one of the class methods: ConfusionMatrixDisplay.from_predictions or ConfusionMatrixDisplay.from_estimator.\n",
            "  warnings.warn(msg, category=FutureWarning)\n"
          ]
        },
        {
          "output_type": "display_data",
          "data": {
            "text/plain": [
              "<Figure size 432x288 with 2 Axes>"
            ],
            "image/png": "[encoded data removed]"
          },
          "metadata": {
            "needs_background": "light"
          }
        },
        {
          "output_type": "stream",
          "name": "stdout",
          "text": [
            "accuracy_score:  0.745\n",
            "precision_score:  0.776595744680851\n",
            "recall_score:  0.7087378640776699\n",
            "f1_score:  0.7411167512690355\n"
          ]
        }
      ]
    },
    {
      "cell_type": "markdown",
      "source": [
        "# **Questions**"
      ],
      "metadata": {
        "id": "LZNE5n2OY34y"
      }
    },
    {
      "cell_type": "markdown",
      "source": [
        "**What is Natural Language processing and why is it important in the context of data analysis in today’s world?**\n",
        "\n",
        "Answer: IBM Cloud Education (2020) describes Natural language processing (NLP) as \"the branch of computer science — and more specifically, the branch of artificial intelligence or AI — concerned with giving computers the ability to understand text and spoken words in much the same way human beings can.\" NLP focuses on making natural human language usable by computer programs. Natural Language Toolkit (NLTK), is a Python package that you can use for NLP.\n",
        "\n",
        "According to sas.com, NLP helps computers communicate with humans in their own language and scales other language-related tasks (e.g., NLP enables computers to read text, hear speech, interpret it, measure sentiment and determine which parts are important). As application in today's businesses, it can be used to analyze large volumes of text data.\n",
        "\n"
      ],
      "metadata": {
        "id": "Ta3XDhJWY6fM"
      }
    },
    {
      "cell_type": "markdown",
      "source": [
        "**What is the purpose of stopwords in NLP?**\n",
        "\n",
        "Answer: opinosis-analytics.com defines stop words as a set of commonly used words in a language (e.g, \"a\", \"the\", \"is\", \"are\", etc.), and are commonly used in Text Mining and NLP to eliminate most commonly used words that they carry very little useful information. Removing stopwords can be beneficial (e.g., low numbers of documents), as it reduces the dimensionality of your input space.\n",
        "\n",
        "*   List item\n",
        "*   List item\n",
        "\n"
      ],
      "metadata": {
        "id": "GUgKYSWdY-qw"
      }
    },
    {
      "cell_type": "markdown",
      "source": [
        "**What is the purpose of toarray() in the following code**\n",
        "\n",
        "X = cv.fit_transform(corpus).toarray()\n",
        "\n",
        "Answer: toarray() returns an ndarray representation of the transformed corpus matrix."
      ],
      "metadata": {
        "id": "X6b5y7d6ZBa0"
      }
    },
    {
      "cell_type": "markdown",
      "source": [
        "**Evaluate the performance of each of these models. Create a table to highlight the differences across both the approaches.**\n",
        "\n",
        "Performance of each model based on accuracy\n",
        "\n",
        "\n",
        "\n",
        " |Model| Bag of Words | TF IDF |\n",
        "  |-------|:----------------:|:----------:|\n",
        "  |Naive Bayes| 0.67|0.65|\n",
        "  |KNN |0.66|0.64|\n",
        "  |SVM|0.76|0.72|\n",
        "  |Decision Tree|0.69|0.69|\n",
        "  |Random Forest|0.74|0.66|\n",
        "\n"
      ],
      "metadata": {
        "id": "YroL8GDGZF89"
      }
    },
    {
      "cell_type": "markdown",
      "source": [
        "**Which model predicts the best ?**\n",
        "\n",
        "Answer: For the Bag of Words, Naive Bayes has the best accuracy (0.755) and f1 (0.768) scores; SVM had the best recall (0.796); and Random Forest has the best precision (0.925).\n",
        "\n",
        "For the Term Frequency - Inverse Document Frequency (TF-IDF), Naive Bayes has the best accuracy (0.745), recall (0.709), and f1 (0.741) scores. Random Forest has the best precision (0.956).\n",
        "\n",
        "In general, based on the hyperparameters chosen, the Naive Bayes model outperforms all other models, whether it's in Bag of Words or TF-IDF."
      ],
      "metadata": {
        "id": "YL_1RWmNZLkB"
      }
    },
    {
      "cell_type": "markdown",
      "source": [
        "# **Part 2**"
      ],
      "metadata": {
        "id": "zr_34AzuVVBp"
      }
    },
    {
      "cell_type": "markdown",
      "source": [
        "\n",
        "# **Sentiment Analysis using NLP Part 2 with the new dataset**\n",
        "\n"
      ],
      "metadata": {
        "id": "GQN2ntbSVbbg"
      }
    },
    {
      "cell_type": "code",
      "source": [
        "import pandas as pd\n",
        "import numpy as np\n",
        "import re\n",
        "import nltk\n",
        "import matplotlib.pyplot as plt\n",
        "import seaborn as sns\n",
        "%matplotlib inline"
      ],
      "metadata": {
        "id": "Yvo8sl_QWMQq"
      },
      "execution_count": 50,
      "outputs": []
    },
    {
      "cell_type": "code",
      "source": [
        "# Read the file\n",
        "df = pd.read_csv('Tweets.csv')"
      ],
      "metadata": {
        "id": "cgs-BDMVWYKn"
      },
      "execution_count": 52,
      "outputs": []
    },
    {
      "cell_type": "code",
      "source": [
        "# Have a quick look at the dataset\n",
        "df.head(5)"
      ],
      "metadata": {
        "colab": {
          "base_uri": "https://localhost:8080/",
          "height": 496
        },
        "id": "KbNzf75qWpeG",
        "outputId": "a78381fc-d967-44ed-88e8-dab6f6444213"
      },
      "execution_count": 53,
      "outputs": [
        {
          "output_type": "execute_result",
          "data": {
            "text/plain": [
              "             tweet_id airline_sentiment  airline_sentiment_confidence  \\\n",
              "0  570306133677760513           neutral                        1.0000   \n",
              "1  570301130888122368          positive                        0.3486   \n",
              "2  570301083672813571           neutral                        0.6837   \n",
              "3  570301031407624196          negative                        1.0000   \n",
              "4  570300817074462722          negative                        1.0000   \n",
              "\n",
              "  negativereason  negativereason_confidence         airline  \\\n",
              "0            NaN                        NaN  Virgin America   \n",
              "1            NaN                     0.0000  Virgin America   \n",
              "2            NaN                        NaN  Virgin America   \n",
              "3     Bad Flight                     0.7033  Virgin America   \n",
              "4     Can't Tell                     1.0000  Virgin America   \n",
              "\n",
              "  airline_sentiment_gold        name negativereason_gold  retweet_count  \\\n",
              "0                    NaN     cairdin                 NaN              0   \n",
              "1                    NaN    jnardino                 NaN              0   \n",
              "2                    NaN  yvonnalynn                 NaN              0   \n",
              "3                    NaN    jnardino                 NaN              0   \n",
              "4                    NaN    jnardino                 NaN              0   \n",
              "\n",
              "                                                text tweet_coord  \\\n",
              "0                @VirginAmerica What @dhepburn said.         NaN   \n",
              "1  @VirginAmerica plus you've added commercials t...         NaN   \n",
              "2  @VirginAmerica I didn't today... Must mean I n...         NaN   \n",
              "3  @VirginAmerica it's really aggressive to blast...         NaN   \n",
              "4  @VirginAmerica and it's a really big bad thing...         NaN   \n",
              "\n",
              "               tweet_created tweet_location               user_timezone  \n",
              "0  2015-02-24 11:35:52 -0800            NaN  Eastern Time (US & Canada)  \n",
              "1  2015-02-24 11:15:59 -0800            NaN  Pacific Time (US & Canada)  \n",
              "2  2015-02-24 11:15:48 -0800      Lets Play  Central Time (US & Canada)  \n",
              "3  2015-02-24 11:15:36 -0800            NaN  Pacific Time (US & Canada)  \n",
              "4  2015-02-24 11:14:45 -0800            NaN  Pacific Time (US & Canada)  "
            ],
            "text/html": [
              "\n",
              "  <div id=\"df-c451dec7-77d7-4ce0-9c32-8b306d733c3b\">\n",
              "    <div class=\"colab-df-container\">\n",
              "      <div>\n",
              "<style scoped>\n",
              "    .dataframe tbody tr th:only-of-type {\n",
              "        vertical-align: middle;\n",
              "    }\n",
              "\n",
              "    .dataframe tbody tr th {\n",
              "        vertical-align: top;\n",
              "    }\n",
              "\n",
              "    .dataframe thead th {\n",
              "        text-align: right;\n",
              "    }\n",
              "</style>\n",
              "<table border=\"1\" class=\"dataframe\">\n",
              "  <thead>\n",
              "    <tr style=\"text-align: right;\">\n",
              "      <th></th>\n",
              "      <th>tweet_id</th>\n",
              "      <th>airline_sentiment</th>\n",
              "      <th>airline_sentiment_confidence</th>\n",
              "      <th>negativereason</th>\n",
              "      <th>negativereason_confidence</th>\n",
              "      <th>airline</th>\n",
              "      <th>airline_sentiment_gold</th>\n",
              "      <th>name</th>\n",
              "      <th>negativereason_gold</th>\n",
              "      <th>retweet_count</th>\n",
              "      <th>text</th>\n",
              "      <th>tweet_coord</th>\n",
              "      <th>tweet_created</th>\n",
              "      <th>tweet_location</th>\n",
              "      <th>user_timezone</th>\n",
              "    </tr>\n",
              "  </thead>\n",
              "  <tbody>\n",
              "    <tr>\n",
              "      <th>0</th>\n",
              "      <td>570306133677760513</td>\n",
              "      <td>neutral</td>\n",
              "      <td>1.0000</td>\n",
              "      <td>NaN</td>\n",
              "      <td>NaN</td>\n",
              "      <td>Virgin America</td>\n",
              "      <td>NaN</td>\n",
              "      <td>cairdin</td>\n",
              "      <td>NaN</td>\n",
              "      <td>0</td>\n",
              "      <td>@VirginAmerica What @dhepburn said.</td>\n",
              "      <td>NaN</td>\n",
              "      <td>2015-02-24 11:35:52 -0800</td>\n",
              "      <td>NaN</td>\n",
              "      <td>Eastern Time (US &amp; Canada)</td>\n",
              "    </tr>\n",
              "    <tr>\n",
              "      <th>1</th>\n",
              "      <td>570301130888122368</td>\n",
              "      <td>positive</td>\n",
              "      <td>0.3486</td>\n",
              "      <td>NaN</td>\n",
              "      <td>0.0000</td>\n",
              "      <td>Virgin America</td>\n",
              "      <td>NaN</td>\n",
              "      <td>jnardino</td>\n",
              "      <td>NaN</td>\n",
              "      <td>0</td>\n",
              "      <td>@VirginAmerica plus you've added commercials t...</td>\n",
              "      <td>NaN</td>\n",
              "      <td>2015-02-24 11:15:59 -0800</td>\n",
              "      <td>NaN</td>\n",
              "      <td>Pacific Time (US &amp; Canada)</td>\n",
              "    </tr>\n",
              "    <tr>\n",
              "      <th>2</th>\n",
              "      <td>570301083672813571</td>\n",
              "      <td>neutral</td>\n",
              "      <td>0.6837</td>\n",
              "      <td>NaN</td>\n",
              "      <td>NaN</td>\n",
              "      <td>Virgin America</td>\n",
              "      <td>NaN</td>\n",
              "      <td>yvonnalynn</td>\n",
              "      <td>NaN</td>\n",
              "      <td>0</td>\n",
              "      <td>@VirginAmerica I didn't today... Must mean I n...</td>\n",
              "      <td>NaN</td>\n",
              "      <td>2015-02-24 11:15:48 -0800</td>\n",
              "      <td>Lets Play</td>\n",
              "      <td>Central Time (US &amp; Canada)</td>\n",
              "    </tr>\n",
              "    <tr>\n",
              "      <th>3</th>\n",
              "      <td>570301031407624196</td>\n",
              "      <td>negative</td>\n",
              "      <td>1.0000</td>\n",
              "      <td>Bad Flight</td>\n",
              "      <td>0.7033</td>\n",
              "      <td>Virgin America</td>\n",
              "      <td>NaN</td>\n",
              "      <td>jnardino</td>\n",
              "      <td>NaN</td>\n",
              "      <td>0</td>\n",
              "      <td>@VirginAmerica it's really aggressive to blast...</td>\n",
              "      <td>NaN</td>\n",
              "      <td>2015-02-24 11:15:36 -0800</td>\n",
              "      <td>NaN</td>\n",
              "      <td>Pacific Time (US &amp; Canada)</td>\n",
              "    </tr>\n",
              "    <tr>\n",
              "      <th>4</th>\n",
              "      <td>570300817074462722</td>\n",
              "      <td>negative</td>\n",
              "      <td>1.0000</td>\n",
              "      <td>Can't Tell</td>\n",
              "      <td>1.0000</td>\n",
              "      <td>Virgin America</td>\n",
              "      <td>NaN</td>\n",
              "      <td>jnardino</td>\n",
              "      <td>NaN</td>\n",
              "      <td>0</td>\n",
              "      <td>@VirginAmerica and it's a really big bad thing...</td>\n",
              "      <td>NaN</td>\n",
              "      <td>2015-02-24 11:14:45 -0800</td>\n",
              "      <td>NaN</td>\n",
              "      <td>Pacific Time (US &amp; Canada)</td>\n",
              "    </tr>\n",
              "  </tbody>\n",
              "</table>\n",
              "</div>\n",
              "      <button class=\"colab-df-convert\" onclick=\"convertToInteractive('df-c451dec7-77d7-4ce0-9c32-8b306d733c3b')\"\n",
              "              title=\"Convert this dataframe to an interactive table.\"\n",
              "              style=\"display:none;\">\n",
              "        \n",
              "  <svg xmlns=\"http://www.w3.org/2000/svg\" height=\"24px\"viewBox=\"0 0 24 24\"\n",
              "       width=\"24px\">\n",
              "    <path d=\"M0 0h24v24H0V0z\" fill=\"none\"/>\n",
              "    <path d=\"M18.56 5.44l.94 2.06.94-2.06 2.06-.94-2.06-.94-.94-2.06-.94 2.06-2.06.94zm-11 1L8.5 8.5l.94-2.06 2.06-.94-2.06-.94L8.5 2.5l-.94 2.06-2.06.94zm10 10l.94 2.06.94-2.06 2.06-.94-2.06-.94-.94-2.06-.94 2.06-2.06.94z\"/><path d=\"M17.41 7.96l-1.37-1.37c-.4-.4-.92-.59-1.43-.59-.52 0-1.04.2-1.43.59L10.3 9.45l-7.72 7.72c-.78.78-.78 2.05 0 2.83L4 21.41c.39.39.9.59 1.41.59.51 0 1.02-.2 1.41-.59l7.78-7.78 2.81-2.81c.8-.78.8-2.07 0-2.86zM5.41 20L4 18.59l7.72-7.72 1.47 1.35L5.41 20z\"/>\n",
              "  </svg>\n",
              "      </button>\n",
              "      \n",
              "  <style>\n",
              "    .colab-df-container {\n",
              "      display:flex;\n",
              "      flex-wrap:wrap;\n",
              "      gap: 12px;\n",
              "    }\n",
              "\n",
              "    .colab-df-convert {\n",
              "      background-color: #E8F0FE;\n",
              "      border: none;\n",
              "      border-radius: 50%;\n",
              "      cursor: pointer;\n",
              "      display: none;\n",
              "      fill: #1967D2;\n",
              "      height: 32px;\n",
              "      padding: 0 0 0 0;\n",
              "      width: 32px;\n",
              "    }\n",
              "\n",
              "    .colab-df-convert:hover {\n",
              "      background-color: #E2EBFA;\n",
              "      box-shadow: 0px 1px 2px rgba(60, 64, 67, 0.3), 0px 1px 3px 1px rgba(60, 64, 67, 0.15);\n",
              "      fill: #174EA6;\n",
              "    }\n",
              "\n",
              "    [theme=dark] .colab-df-convert {\n",
              "      background-color: #3B4455;\n",
              "      fill: #D2E3FC;\n",
              "    }\n",
              "\n",
              "    [theme=dark] .colab-df-convert:hover {\n",
              "      background-color: #434B5C;\n",
              "      box-shadow: 0px 1px 3px 1px rgba(0, 0, 0, 0.15);\n",
              "      filter: drop-shadow(0px 1px 2px rgba(0, 0, 0, 0.3));\n",
              "      fill: #FFFFFF;\n",
              "    }\n",
              "  </style>\n",
              "\n",
              "      <script>\n",
              "        const buttonEl =\n",
              "          document.querySelector('#df-c451dec7-77d7-4ce0-9c32-8b306d733c3b button.colab-df-convert');\n",
              "        buttonEl.style.display =\n",
              "          google.colab.kernel.accessAllowed ? 'block' : 'none';\n",
              "\n",
              "        async function convertToInteractive(key) {\n",
              "          const element = document.querySelector('#df-c451dec7-77d7-4ce0-9c32-8b306d733c3b');\n",
              "          const dataTable =\n",
              "            await google.colab.kernel.invokeFunction('convertToInteractive',\n",
              "                                                     [key], {});\n",
              "          if (!dataTable) return;\n",
              "\n",
              "          const docLinkHtml = 'Like what you see? Visit the ' +\n",
              "            '<a target=\"_blank\" href=https://colab.research.google.com/notebooks/data_table.ipynb>data table notebook</a>'\n",
              "            + ' to learn more about interactive tables.';\n",
              "          element.innerHTML = '';\n",
              "          dataTable['output_type'] = 'display_data';\n",
              "          await google.colab.output.renderOutput(dataTable, element);\n",
              "          const docLink = document.createElement('div');\n",
              "          docLink.innerHTML = docLinkHtml;\n",
              "          element.appendChild(docLink);\n",
              "        }\n",
              "      </script>\n",
              "    </div>\n",
              "  </div>\n",
              "  "
            ]
          },
          "metadata": {},
          "execution_count": 53
        }
      ]
    },
    {
      "cell_type": "markdown",
      "source": [
        "**Perform Exploratory Analysis**"
      ],
      "metadata": {
        "id": "zLuB_V_-Wu8i"
      }
    },
    {
      "cell_type": "code",
      "source": [
        "# Create a pie chart by airline %\n",
        "df['airline'].value_counts().plot.pie(autopct='%1.1f%%',figsize=(5,5))\n",
        "plt.show()"
      ],
      "metadata": {
        "colab": {
          "base_uri": "https://localhost:8080/",
          "height": 303
        },
        "id": "O7Mjx0HfWwf4",
        "outputId": "dff633ea-b309-41b3-ce8e-ce056e9601d7"
      },
      "execution_count": 54,
      "outputs": [
        {
          "output_type": "display_data",
          "data": {
            "text/plain": [
              "<Figure size 360x360 with 1 Axes>"
            ],
            "image/png": "[encoded data removed]"
          },
          "metadata": {}
        }
      ]
    },
    {
      "cell_type": "code",
      "source": [
        "# Create a pie chart by airline sentiment\n",
        "df['airline_sentiment'].value_counts().plot.pie(autopct='%1.1f%%',figsize=(5,5))\n",
        "plt.show()"
      ],
      "metadata": {
        "colab": {
          "base_uri": "https://localhost:8080/",
          "height": 303
        },
        "id": "7h8tPLMDW0s6",
        "outputId": "52420338-c089-4080-99bc-e4a8552a99d1"
      },
      "execution_count": 55,
      "outputs": [
        {
          "output_type": "display_data",
          "data": {
            "text/plain": [
              "<Figure size 360x360 with 1 Axes>"
            ],
            "image/png": "[encoded data removed]"
          },
          "metadata": {}
        }
      ]
    },
    {
      "cell_type": "code",
      "source": [
        "# Create a bar chart by airline and airline sentiment\n",
        "airline_sentiment = df.groupby(['airline', 'airline_sentiment']).airline_sentiment.count().unstack()\n",
        "airline_sentiment.plot(kind='bar')\n",
        "plt.show()"
      ],
      "metadata": {
        "colab": {
          "base_uri": "https://localhost:8080/",
          "height": 343
        },
        "id": "UnjC-bdyW6aj",
        "outputId": "820cf825-5b8e-477e-f7d3-790306e7b471"
      },
      "execution_count": 56,
      "outputs": [
        {
          "output_type": "display_data",
          "data": {
            "text/plain": [
              "<Figure size 432x288 with 1 Axes>"
            ],
            "image/png": "[encoded data removed]"
          },
          "metadata": {
            "needs_background": "light"
          }
        }
      ]
    },
    {
      "cell_type": "code",
      "source": [
        "# Create a bar plot for airline sentiment and airline sentiment confidence\n",
        "import seaborn as sns\n",
        "sns.barplot(x='airline_sentiment', y='airline_sentiment_confidence',data=df)\n",
        "plt.show()"
      ],
      "metadata": {
        "colab": {
          "base_uri": "https://localhost:8080/",
          "height": 280
        },
        "id": "VIesaxWoXAwn",
        "outputId": "f2db00c6-05fe-4af5-fa3d-87e89af3ac57"
      },
      "execution_count": 57,
      "outputs": [
        {
          "output_type": "display_data",
          "data": {
            "text/plain": [
              "<Figure size 432x288 with 1 Axes>"
            ],
            "image/png": "[encoded data removed]"
          },
          "metadata": {
            "needs_background": "light"
          }
        }
      ]
    },
    {
      "cell_type": "code",
      "source": [
        "# Create a new dataframe that will only have 2 relevant columns\n",
        "# Identify the 2 columns\n",
        "# For airline_sentiment I only want to see positive and negative sentiments\n",
        "# Remove the neutral sentiments from the dataframe\n",
        "\n",
        "new_df = df[[\"text\", \"airline_sentiment\"]]\n",
        "new_df = new_df[new_df.airline_sentiment != 'neutral']\n",
        "new_df[\"airline_sentiment\"]= new_df.airline_sentiment.replace(\"positive\", 1)\n",
        "new_df[\"airline_sentiment\"]= new_df.airline_sentiment.replace(\"negative\", 0)\n",
        "new_df.head(5)"
      ],
      "metadata": {
        "colab": {
          "base_uri": "https://localhost:8080/",
          "height": 206
        },
        "id": "6FQnub3ZXCoc",
        "outputId": "4e52294e-c5f0-4184-d52a-8864d118bea4"
      },
      "execution_count": 58,
      "outputs": [
        {
          "output_type": "execute_result",
          "data": {
            "text/plain": [
              "                                                text  airline_sentiment\n",
              "1  @VirginAmerica plus you've added commercials t...                  1\n",
              "3  @VirginAmerica it's really aggressive to blast...                  0\n",
              "4  @VirginAmerica and it's a really big bad thing...                  0\n",
              "5  @VirginAmerica seriously would pay $30 a fligh...                  0\n",
              "6  @VirginAmerica yes, nearly every time I fly VX...                  1"
            ],
            "text/html": [
              "\n",
              "  <div id=\"df-62a60fae-89b6-4cb6-a00a-32deac4ea648\">\n",
              "    <div class=\"colab-df-container\">\n",
              "      <div>\n",
              "<style scoped>\n",
              "    .dataframe tbody tr th:only-of-type {\n",
              "        vertical-align: middle;\n",
              "    }\n",
              "\n",
              "    .dataframe tbody tr th {\n",
              "        vertical-align: top;\n",
              "    }\n",
              "\n",
              "    .dataframe thead th {\n",
              "        text-align: right;\n",
              "    }\n",
              "</style>\n",
              "<table border=\"1\" class=\"dataframe\">\n",
              "  <thead>\n",
              "    <tr style=\"text-align: right;\">\n",
              "      <th></th>\n",
              "      <th>text</th>\n",
              "      <th>airline_sentiment</th>\n",
              "    </tr>\n",
              "  </thead>\n",
              "  <tbody>\n",
              "    <tr>\n",
              "      <th>1</th>\n",
              "      <td>@VirginAmerica plus you've added commercials t...</td>\n",
              "      <td>1</td>\n",
              "    </tr>\n",
              "    <tr>\n",
              "      <th>3</th>\n",
              "      <td>@VirginAmerica it's really aggressive to blast...</td>\n",
              "      <td>0</td>\n",
              "    </tr>\n",
              "    <tr>\n",
              "      <th>4</th>\n",
              "      <td>@VirginAmerica and it's a really big bad thing...</td>\n",
              "      <td>0</td>\n",
              "    </tr>\n",
              "    <tr>\n",
              "      <th>5</th>\n",
              "      <td>@VirginAmerica seriously would pay $30 a fligh...</td>\n",
              "      <td>0</td>\n",
              "    </tr>\n",
              "    <tr>\n",
              "      <th>6</th>\n",
              "      <td>@VirginAmerica yes, nearly every time I fly VX...</td>\n",
              "      <td>1</td>\n",
              "    </tr>\n",
              "  </tbody>\n",
              "</table>\n",
              "</div>\n",
              "      <button class=\"colab-df-convert\" onclick=\"convertToInteractive('df-62a60fae-89b6-4cb6-a00a-32deac4ea648')\"\n",
              "              title=\"Convert this dataframe to an interactive table.\"\n",
              "              style=\"display:none;\">\n",
              "        \n",
              "  <svg xmlns=\"http://www.w3.org/2000/svg\" height=\"24px\"viewBox=\"0 0 24 24\"\n",
              "       width=\"24px\">\n",
              "    <path d=\"M0 0h24v24H0V0z\" fill=\"none\"/>\n",
              "    <path d=\"M18.56 5.44l.94 2.06.94-2.06 2.06-.94-2.06-.94-.94-2.06-.94 2.06-2.06.94zm-11 1L8.5 8.5l.94-2.06 2.06-.94-2.06-.94L8.5 2.5l-.94 2.06-2.06.94zm10 10l.94 2.06.94-2.06 2.06-.94-2.06-.94-.94-2.06-.94 2.06-2.06.94z\"/><path d=\"M17.41 7.96l-1.37-1.37c-.4-.4-.92-.59-1.43-.59-.52 0-1.04.2-1.43.59L10.3 9.45l-7.72 7.72c-.78.78-.78 2.05 0 2.83L4 21.41c.39.39.9.59 1.41.59.51 0 1.02-.2 1.41-.59l7.78-7.78 2.81-2.81c.8-.78.8-2.07 0-2.86zM5.41 20L4 18.59l7.72-7.72 1.47 1.35L5.41 20z\"/>\n",
              "  </svg>\n",
              "      </button>\n",
              "      \n",
              "  <style>\n",
              "    .colab-df-container {\n",
              "      display:flex;\n",
              "      flex-wrap:wrap;\n",
              "      gap: 12px;\n",
              "    }\n",
              "\n",
              "    .colab-df-convert {\n",
              "      background-color: #E8F0FE;\n",
              "      border: none;\n",
              "      border-radius: 50%;\n",
              "      cursor: pointer;\n",
              "      display: none;\n",
              "      fill: #1967D2;\n",
              "      height: 32px;\n",
              "      padding: 0 0 0 0;\n",
              "      width: 32px;\n",
              "    }\n",
              "\n",
              "    .colab-df-convert:hover {\n",
              "      background-color: #E2EBFA;\n",
              "      box-shadow: 0px 1px 2px rgba(60, 64, 67, 0.3), 0px 1px 3px 1px rgba(60, 64, 67, 0.15);\n",
              "      fill: #174EA6;\n",
              "    }\n",
              "\n",
              "    [theme=dark] .colab-df-convert {\n",
              "      background-color: #3B4455;\n",
              "      fill: #D2E3FC;\n",
              "    }\n",
              "\n",
              "    [theme=dark] .colab-df-convert:hover {\n",
              "      background-color: #434B5C;\n",
              "      box-shadow: 0px 1px 3px 1px rgba(0, 0, 0, 0.15);\n",
              "      filter: drop-shadow(0px 1px 2px rgba(0, 0, 0, 0.3));\n",
              "      fill: #FFFFFF;\n",
              "    }\n",
              "  </style>\n",
              "\n",
              "      <script>\n",
              "        const buttonEl =\n",
              "          document.querySelector('#df-62a60fae-89b6-4cb6-a00a-32deac4ea648 button.colab-df-convert');\n",
              "        buttonEl.style.display =\n",
              "          google.colab.kernel.accessAllowed ? 'block' : 'none';\n",
              "\n",
              "        async function convertToInteractive(key) {\n",
              "          const element = document.querySelector('#df-62a60fae-89b6-4cb6-a00a-32deac4ea648');\n",
              "          const dataTable =\n",
              "            await google.colab.kernel.invokeFunction('convertToInteractive',\n",
              "                                                     [key], {});\n",
              "          if (!dataTable) return;\n",
              "\n",
              "          const docLinkHtml = 'Like what you see? Visit the ' +\n",
              "            '<a target=\"_blank\" href=https://colab.research.google.com/notebooks/data_table.ipynb>data table notebook</a>'\n",
              "            + ' to learn more about interactive tables.';\n",
              "          element.innerHTML = '';\n",
              "          dataTable['output_type'] = 'display_data';\n",
              "          await google.colab.output.renderOutput(dataTable, element);\n",
              "          const docLink = document.createElement('div');\n",
              "          docLink.innerHTML = docLinkHtml;\n",
              "          element.appendChild(docLink);\n",
              "        }\n",
              "      </script>\n",
              "    </div>\n",
              "  </div>\n",
              "  "
            ]
          },
          "metadata": {},
          "execution_count": 58
        }
      ]
    },
    {
      "cell_type": "code",
      "source": [
        "# Clean the text by removing any extra characters \n",
        "import re # tools for cleaning text\n",
        "import nltk # library to perform NLP\n",
        "nltk.download('stopwords') # tool to remove the non-essential words. It is a list of words\n",
        "from nltk.corpus import stopwords\n",
        "# Stemming means taking the root of the word such as love from loved or loving\n",
        "from nltk.stem.porter import PorterStemmer"
      ],
      "metadata": {
        "colab": {
          "base_uri": "https://localhost:8080/"
        },
        "id": "mJ_fj6NbXIR0",
        "outputId": "3c8cc311-3afd-4da3-a968-5d73cbcccbdd"
      },
      "execution_count": 59,
      "outputs": [
        {
          "output_type": "stream",
          "name": "stderr",
          "text": [
            "[nltk_data] Downloading package stopwords to /root/nltk_data...\n",
            "[nltk_data]   Package stopwords is already up-to-date!\n"
          ]
        }
      ]
    },
    {
      "cell_type": "code",
      "source": [
        "corpus = [] # Build a new list for all the words from all the reviews\n",
        "# corpus is a collection of text and a common term used in NLP\n",
        "for i in range (0, 11541):\n",
        "    text = re.sub('[^a-zA-Z]', ' ', df['text'][i] )\n",
        "    text = text.lower()\n",
        "    text = text.split()\n",
        "    ps =PorterStemmer()\n",
        "    text = [ps.stem(word) for word in text if not  word in set(stopwords.words('english'))]\n",
        "    text = ' '.join(text)\n",
        "    corpus.append(text)"
      ],
      "metadata": {
        "id": "AZE228SYXOAS"
      },
      "execution_count": 60,
      "outputs": []
    },
    {
      "cell_type": "code",
      "source": [
        "corpus"
      ],
      "metadata": {
        "colab": {
          "base_uri": "https://localhost:8080/"
        },
        "id": "-VzTdRFJXRbM",
        "outputId": "2a19aa6d-fbcf-4063-cfa0-2ef90bad08ce"
      },
      "execution_count": 61,
      "outputs": [
        {
          "output_type": "execute_result",
          "data": {
            "text/plain": [
              "['virginamerica dhepburn said',\n",
              " 'virginamerica plu ad commerci experi tacki',\n",
              " 'virginamerica today must mean need take anoth trip',\n",
              " 'virginamerica realli aggress blast obnoxi entertain guest face amp littl recours',\n",
              " 'virginamerica realli big bad thing',\n",
              " 'virginamerica serious would pay flight seat play realli bad thing fli va',\n",
              " 'virginamerica ye nearli everi time fli vx ear worm go away',\n",
              " 'virginamerica realli miss prime opportun men without hat parodi http co mwpg grezp',\n",
              " 'virginamerica well',\n",
              " 'virginamerica amaz arriv hour earli good',\n",
              " 'virginamerica know suicid second lead caus death among teen',\n",
              " 'virginamerica lt pretti graphic much better minim iconographi',\n",
              " 'virginamerica great deal alreadi think nd trip australia amp even gone st trip yet p',\n",
              " 'virginamerica virginmedia fli fabul seduct sky u take stress away travel http co ahlxhhkiyn',\n",
              " 'virginamerica thank',\n",
              " 'virginamerica sfo pdx schedul still mia',\n",
              " 'virginamerica excit first cross countri flight lax mco heard noth great thing virgin america daystogo',\n",
              " 'virginamerica flew nyc sfo last week fulli sit seat due two larg gentleman either side help',\n",
              " 'fli virginamerica',\n",
              " 'virginamerica know would amazingli awesom bo fll pleas want fli',\n",
              " 'virginamerica first fare may three time carrier seat avail select',\n",
              " 'virginamerica love graphic http co ut grrwaaa',\n",
              " 'virginamerica love hipster innov feel good brand',\n",
              " 'virginamerica make bo gt la non stop perman anytim soon',\n",
              " 'virginamerica guy mess seat reserv seat friend guy gave seat away want free internet',\n",
              " 'virginamerica statu match program appli three week call email respons',\n",
              " 'virginamerica happen ur vegan food option least say ur site know abl eat anyth next hr fail',\n",
              " 'virginamerica miss worri togeth soon',\n",
              " 'virginamerica amaz get cold air vent vx noair worstflightev roast sfotobo',\n",
              " 'virginamerica lax ewr middl seat red eye noob maneuv sendambien andchexmix',\n",
              " 'virginamerica hi bked cool birthday trip add elev caus enter middl name flight book problem',\n",
              " 'virginamerica hour oper club sfo post onlin current',\n",
              " 'virginamerica help left expens headphon flight iad lax today seat one answer l amp f number lax',\n",
              " 'virginamerica await return phone call would prefer use onlin self servic option',\n",
              " 'virginamerica great news america could start flight hawaii end year http co r p zy fe via pacificbiznew',\n",
              " 'nice rt virginamerica vibe moodlight takeoff touchdown moodlitmonday sciencebehindtheexperi http co unxtqp',\n",
              " 'virginamerica moodlight way fli best experi ever cool calm moodlitmonday',\n",
              " 'virginamerica freddieaward done done best airlin around hand',\n",
              " 'virginamerica book flight hawaii',\n",
              " 'virginamerica chat support work site http co vhp gtdwpk',\n",
              " 'virginamerica view downtown lo angel hollywood sign beyond rain mountain http co dw nf ibtr',\n",
              " 'virginamerica hey first time flyer next week excit hard time get flight ad elev account help',\n",
              " 'virginamerica plz help win bid upgrad flight lax gt sea',\n",
              " 'virginamerica unus ticket move new citi fli fli expir travelhelp',\n",
              " 'virginamerica flight leav dalla seattl time feb',\n",
              " 'virginamerica elevategold good reason rock',\n",
              " 'virginamerica dream http co oa drfaoq http co lwwdac khx',\n",
              " 'virginamerica wow blew mind',\n",
              " 'virginamerica ladygaga carrieunderwood last night tribut soundofmus oscar ladygaga think carrieunderwood agre',\n",
              " 'virginamerica ladygaga carrieunderwood entertain',\n",
              " 'virginamerica flight way suppos take minut ago websit still show time flight thank',\n",
              " 'virginamerica ladygaga carrieunderwood juli andrew way though ladygaga impress carrieunderwood',\n",
              " 'virginamerica wish flew atlanta soon',\n",
              " 'virginamerica ladygaga carrieunderwood juli andrew hand',\n",
              " 'virginamerica flight leav dalla la februari th',\n",
              " 'virginamerica hi excit lga gt dal deal tri book sinc last week amp page never load thx',\n",
              " 'virginamerica know need spotifi stat guiltypleasur',\n",
              " 'virginamerica ladygaga carrieunderwood ladi gaga amaz',\n",
              " 'virginamerica ladygaga carrieunderwood carri',\n",
              " 'virginamerica new market song http co f lfulcbq let us know think',\n",
              " 'virginamerica ladygaga carrieunderwood juli andrew first ladi gaga wow last night carri meh',\n",
              " 'virginamerica call week ago ad flight elev still shown help',\n",
              " 'virginamerica ladygaga carrieunderwood great go carrieunderwood',\n",
              " 'virginamerica ladygaga carrieunderwood sorri mari martin first',\n",
              " 'virginamerica ladygaga carrieunderwood love three realli beat classic',\n",
              " 'virginamerica flight dal dca pm tri check could statu pleas',\n",
              " 'virginamerica heyyyi guyyyi tri get hour someon call pleas',\n",
              " 'virginamerica hi virgin hold minut earlier flight la nyc tonight earlier pm',\n",
              " 'virginamerica congrat win travelzoo award best deal airlin us http co kj iljaebv',\n",
              " 'virginamerica everyth fine lost bag',\n",
              " 'virginamerica need chang reserv virgin credit card need modifi phone waiv chang fee onlin',\n",
              " 'virginamerica email custom servic team let know need track number',\n",
              " 'virginamerica hi book flight need add baggag',\n",
              " 'virginamerica airlin awesom lax loft need step game dirti tabl floor http co hy vrfhjht',\n",
              " 'virginamerica worri great ride new plane great crew airlin like',\n",
              " 'virginamerica awesom flew yall sat morn way correct bill',\n",
              " 'virginamerica watch best student film countri feet cmfat feet http co kek pdmgif',\n",
              " 'virginamerica first time fli differ rate polici media bag thank',\n",
              " 'virginamerica go custom servic anyway speak human asap thank',\n",
              " 'virginamerica happen doom',\n",
              " 'virginamerica supp biz travel like southwestair custom servic like jetblu neverflyvirginforbusi',\n",
              " 'virginamerica appli member inflight crew team im interest flightattend dreampath g',\n",
              " 'virginamerica best whenev begrudgingli use airlin delay late flight',\n",
              " 'virginamerica interest fli cancel flight next four flight plan neverflyvirginforbusi',\n",
              " 'virginamerica disappoint experi share everi busi travel meet neverflyvirgin',\n",
              " 'virginamerica troubl ad flight wife book elev account help http co px hqok r',\n",
              " 'virginamerica bring reserv onlin use flight book problem code',\n",
              " 'virginamerica random q distribut elev avatar bet kitti disproportion share http co aptzpurop',\n",
              " 'virginamerica lt fli va life happen tri chang trip jperhi help va home page let',\n",
              " 'virginamerica site back',\n",
              " 'virginamerica rnp yeah know',\n",
              " 'virginamerica hi get point elev account recent flight add flight point account',\n",
              " 'virginamerica like tv interest video disappoint cancel flightl flight flight went jfk saturday',\n",
              " 'virginamerica land lax hour late flight bag check busi travel friendli nomorevirgin',\n",
              " 'virginamerica flight redirect',\n",
              " 'virginamerica websit btw new websit great user experi time anoth redesign',\n",
              " 'virginamerica check add bag websit work tri desktop mobil http co avyqdmpi',\n",
              " 'virginamerica let scan passeng leav plane told someon remov bag st class bin uncomfort',\n",
              " 'virginamerica phone number find call flight reserv',\n",
              " 'virginamerica anyon anyth today websit useless one answer phone',\n",
              " 'virginamerica tri add boy princ ressi sf thursday virginamerica lax http co gsb j c gm',\n",
              " 'virginamerica must travel miss flight late flight check bag miss morn appoint lost busi sfo lax',\n",
              " 'virginamerica check new music http co marcnocwzn',\n",
              " 'virginamerica direct flight fll gt sfo unexpect layov vega fuel yet peep next bought vega flight sneaki',\n",
              " 'virginamerica late flight bag check lost busi miss flight apt three peopl flight exp',\n",
              " 'virginamerica amaz custom servic raeann sf best customerservic virginamerica fli',\n",
              " 'virginamerica call servic line hung awesom sarcasm',\n",
              " 'virginamerica site trip tri check get plain text version reluct enter card info',\n",
              " 'virginamerica schedul sfo dal flight today chang th due weather look like flight still',\n",
              " 'virginamerica getaway deal may one way lot cool citi http co tzzjhuibch cheapflight farecompar',\n",
              " 'virginamerica getaway deal may one way lot cool citi http co rpdbpx wnd cheapflight farecompar',\n",
              " 'virginamerica getaway deal may one way lot cool citi http co b xi yg cheapflight farecompar',\n",
              " 'virginamerica getaway deal may one way lot cool citi http co qdljhsloi cheapflight farecompar',\n",
              " 'virginamerica great week',\n",
              " 'virginamerica come back phl alreadi need take us horribl cold pleasecomeback http co glxfwp nqh',\n",
              " 'virginamerica concern fli plane need delay due tech stop',\n",
              " 'virginamerica best airlin flown easi chang reserv help repres amp comfort fli experi',\n",
              " 'virginamerica anoth rep kick butt naelah repres team beauti thank',\n",
              " 'virginamerica beauti front end design right cool still book ticket b c back end secur',\n",
              " 'virginamerica love team run gate e la tonight wait delay flight kept thing entertain',\n",
              " 'virginamerica use anoth browser amp brand reput built tech respons cross browser compat websit',\n",
              " 'virginamerica flight flight book problem site total folk problem',\n",
              " 'virginamerica like custom servic min delay connect passeng seem long va',\n",
              " 'virginamerica thank outstand nyc jfk crew move mountain get home san francisco tonight',\n",
              " 'virginamerica absolut best team custom servic ever everi time fli delight thank',\n",
              " 'virginamerica provid complimentari upgrad first class avail seat',\n",
              " 'virginamerica need chang flight that schedul hour min wait time phone im call intern help',\n",
              " 'virginamerica complet awesom experi last month bo la nonstop thank awesom flight depart time vabeatsjblu',\n",
              " 'virginamerica watch oscar jfk gt sfo flight',\n",
              " 'virginamerica flight cancel flightl',\n",
              " 'virginamerica fail custom check process link tsa pre check',\n",
              " 'virginamerica fidifamili us terribl airlin gave us hotel hotlin number said sorri',\n",
              " 'virginamerica flight number sfo cabo san luca arriv yet',\n",
              " 'virginamerica chrysichrys assist yesterday u cancel flightl flight give us hotel hotlin shame',\n",
              " 'virginamerica anoth delay flight likingyoulessandless',\n",
              " 'virginamerica need regist servic dog first class ticket sfo gt dull phone queue hour longer pl advis',\n",
              " 'virginamerica rock make watch oscar flight redcarpet oscar oscar',\n",
              " 'virginamerica reallytallchri drop track http co zv pt trk',\n",
              " 'virginamerica alway xoxo',\n",
              " 'virginamerica book seat flight buy even check creat much anxieti frustrat',\n",
              " 'virginamerica think pay extra buck rt luggag might afford hire extra hand sfo lame',\n",
              " 'virginamerica best custom servic rep world irmafromdalla take cake',\n",
              " 'virginamerica find us flt lax sooner midnight monday would great custom servic',\n",
              " 'virginamerica pleas provid statu flight cant imagin time web indic dude weather dalla',\n",
              " 'virginamerica amaz staff amp super help ran waltdisneyworld princesshalf spoil comfort',\n",
              " 'virginamerica paid premium fli across countri cancel flight flight offer check fee upgrad love sad face',\n",
              " 'virginamerica question possibl book seat infant give option want seat',\n",
              " 'alway togeth welcom rt virginamerica jessicajaym welcom',\n",
              " 'virginamerica flight home dc sunset globe backtowint back work refresh http co vx vbctdlf',\n",
              " 'virginamerica understand need dm give answer damag luggag polici',\n",
              " 'virginamerica mean polici destroy luggag',\n",
              " 'virginamerica special assist travel alon w kid infant prioriti board',\n",
              " 'virginamerica thank check ticket purchas custom happi',\n",
              " 'virginamerica websit ever come back onlin',\n",
              " 'virginamerica flight love field sfo definit cancel flightl monday februari',\n",
              " 'virginamerica flight lga dfw time',\n",
              " 'virginamerica driver licens expir littl month fli friday morn use expir licens',\n",
              " 'virginamerica problem flight book problem web site keep give error contact phone phone minut wait',\n",
              " 'virginamerica reschedul cancel flightl flight onlin chang button grey',\n",
              " 'virginamerica rang wait minut book ticket vendor fix site',\n",
              " 'virginamerica got flight told today check email tomorrow unaccept',\n",
              " 'virginamerica flight lga cancel flight stuck dalla call reschedul told could get flight today',\n",
              " 'virginamerica pair includ red wine white offer redwineisbett',\n",
              " 'virginamerica websit',\n",
              " 'virginamerica site seem littl wonk right may want look tri two browser css http co qsqmm kf',\n",
              " 'virginamerica disappoint agent design silver statu check line dull airport close assist paseng',\n",
              " 'virginamerica plan includ austin dalla rout topnew arab emir http co aqzwecokk',\n",
              " 'virginamerica normal receiv repli central baggag baggageissu smh',\n",
              " 'virginamerica logan airport wait checkin flight checkin desk open',\n",
              " 'virginamerica jump dalla austin market dalla news http co ewwgi gdx',\n",
              " 'virginamerica beat ep view take southwestair va luv investor busi daili http co flwmgdahxu',\n",
              " 'virginamerica lister show monday',\n",
              " 'virginamerica begin dalla austin flight april ketr http co ssuvwwkyhh',\n",
              " 'virginamerica congrat got busi ewr sfo lax fuck unit fl sfo ewr clincher',\n",
              " 'virginamerica appli week ago heard back fli week disappoint',\n",
              " 'virginamerica love know polici damag luggag',\n",
              " 'virginamerica thank follow',\n",
              " 'virginamerica mani apolog r wors airlin even respond cudtom',\n",
              " 'virginamerica shame va make peopl spend money strand citi airlin land jfk reimburs',\n",
              " 'virginamerica ttinac dm',\n",
              " 'virginamerica pleas flight sjc choic fli southwest vega',\n",
              " 'virginamerica bad say take day via confirm email inquir week claim week',\n",
              " 'virginamerica flight bo gt la tomorrow cancel flightl notif wait time hour rebook anoth airlin',\n",
              " 'rt virginamerica met match got statu anoth airlin upgrad restr http co rhkamx vf http co pyalebgkjt',\n",
              " 'virginamerica way fli elev gold',\n",
              " 'virginamerica guy flight cmh',\n",
              " 'virginamerica lot apolog thrown custom see sad thank noth worst airlin ever',\n",
              " 'virginamerica flight stuff wrong noth worst flight ever',\n",
              " 'virginamerica issu find miss item plane help find airport plane head next',\n",
              " 'virginamerica match americanairlin statu cool',\n",
              " 'virginamerica met match got statu anoth airlin upgrad http co h rdktqi asarco es ar',\n",
              " 'virginamerica tri book flight guy websit let lose busi',\n",
              " 'virginamerica suck',\n",
              " 'virginamerica thank',\n",
              " 'virginamerica dm issu persist',\n",
              " 'virginamerica never rec cancel flightlat notic left w option fli ps drive la red eye mon w kid',\n",
              " 'virginamerica tri book flight amp site',\n",
              " 'virginamerica flight fli boston tomorrow need home cancel flightl flight anyth',\n",
              " 'virginamerica stink flight cancel flight psp jfk notif abil rebook disappoint expect better',\n",
              " 'virginamerica love guy song danc high school danc revu',\n",
              " 'virginamerica websit tri check',\n",
              " 'virginamerica done thank quick respons appar faster sit hold',\n",
              " 'virginamerica nervou flight dc lax get cancel flightl tomorrow sent dm help',\n",
              " 'virginamerica cool pictur anoth virginamerica plane wing site http co b agfd c',\n",
              " 'virginamerica keep great work',\n",
              " 'virginamerica good peopl love field amaz pressur texa beatstheoth crisi pleas fli ny',\n",
              " 'virginamerica thank great flight la boston pilot great job land snow go back la serious',\n",
              " 'virginamerica pleas get new york area monday afternoon',\n",
              " 'virginamerica thank much awesom support guy rock',\n",
              " 'virginamerica seat row reclin mention websit soreback',\n",
              " 'virginamerica flight delay hour la due mechan problem handl like pro could toss us free drink',\n",
              " 'virginamerica cancel flight flight today precipit scare',\n",
              " 'virginamerica twitter team guy kill reschedul asap thank',\n",
              " 'virginamerica guy charg reschedul flight cancel flight refus refund deal',\n",
              " 'virginamerica access websit safari iphon seem work mac ipad need iphon add passbook',\n",
              " 'virginamerica ipad iphon click checkin link email receiv hr flight',\n",
              " 'virginamerica mobil site broken show header elevateus numofpointsavail number point let checkin',\n",
              " 'virginamerica realli look forward flight let know reschedul diehardvirgin',\n",
              " 'virginamerica cancel flight flight vx one sec delay airport next cancel flightl gonna email call reschedul',\n",
              " 'virginamerica problem link email check thank',\n",
              " 'virginamerica chang anoth airlin get dc today unit abl land dc cost ugh',\n",
              " 'virginamerica look forward first flight today cancel flightl along subsequ one',\n",
              " 'virginamerica put great deal pdx la la pdx show love http co eniqg buzj',\n",
              " 'virginamerica wish afford fli next friday go back home love everyth airlin',\n",
              " 'virginamerica gonna deal dalla dc deal dc dalla sad',\n",
              " 'virginamerica bug report guy',\n",
              " 'virginamerica hold time call center bit much',\n",
              " 'virginamerica like http co vpqem xuq',\n",
              " 'virginamerica site help',\n",
              " 'virginamerica best flight attend ever http co pxdel nq l',\n",
              " 'awesom rt virginamerica watch nomin film feet meetthefleet oscar http co dnstitrzwi',\n",
              " 'virginamerica thank much',\n",
              " 'virginamerica tri reset password email never arriv help',\n",
              " 'virginamerica airlin base silicon valley disrupt fcmostinnov incub fastcompani http co wu lbcncr',\n",
              " 'virginamerica nice done',\n",
              " 'virginamerica look forward watch oscar flight home tomorrow might even get someth bubbl drink',\n",
              " 'virginamerica reason delay departur vx jfk afternoon',\n",
              " 'virginamerica today flight palm spring ca jfk ny cancel flightl',\n",
              " 'virginamerica hahaha virginamerica guy amaz love guy',\n",
              " 'virginamerica sound like fun',\n",
              " 'virginamerica updat flight jfk gt lax',\n",
              " 'virginamerica spruce moos',\n",
              " 'virginamerica css site right pleas fix site unus',\n",
              " 'virginamerica flight vega boston today check onlin bag count regist fix somehow',\n",
              " 'virginamerica classiq luv virgin america greetingz',\n",
              " 'virginamerica hi tri check websit work tri differ browser problem continu',\n",
              " 'virginamerica thank great custom servic today amp help get travel sort',\n",
              " 'virginamerica thank guy sweet rout rocki airplanemodewason',\n",
              " 'virginamerica love music blast gate boston wait flight sanfrancisco could get ice coffe',\n",
              " 'virginamerica passeng flt assault flown trust ban crew file report faanew',\n",
              " 'virginamerica current bug websit show select departur citi select destin citi http co sllyib vq',\n",
              " 'virginamerica luggag sever dent miss wheel come baggag claim san luggag agent miranda think help',\n",
              " 'virginamerica thank easi itinerari shift impend weather quick painless amp free',\n",
              " 'virginamerica love see girl inspir becom pilot rt free woaw event march abq http co rfxlv kgdh',\n",
              " 'virginamerica thank good time back vodkaton entir flight sfo',\n",
              " 'virginamerica beat expect share take santa cruz sentinel http co qm dqbai g',\n",
              " 'virginamerica plan start fli direct dal la',\n",
              " 'virginamerica big love gratitud mpower w http co agr kncpf werin oscar vipswagbag avalonhollywood http co ybmbg dhn',\n",
              " 'virginamerica great job ad littl luxuri aesthet improv air travel experi thank keep',\n",
              " 'virginamerica request window seat confirm window got stuck middl seat good way treat silver member',\n",
              " 'virginamerica grand budapest hotel oscarscountdown',\n",
              " 'virginamerica miss newsvp next trip',\n",
              " 'virginamerica wtf paid direct flight purpos stop fuel exhaust frequent flier noth inconveni',\n",
              " 'virginamerica someth wrong websit safari iphon',\n",
              " 'virginamerica thank gate check baggag full flight dfw lax give earli board sweet',\n",
              " 'virginamerica alreadi check page expir x',\n",
              " 'virginamerica boo refund seat upgrad fee want buy first place',\n",
              " 'virginamerica share rise q financi result usa today http co lf pefe',\n",
              " 'virginamerica add pillow instead lie flat seat first class arm race http co rgywjbbhm',\n",
              " 'virginamerica see',\n",
              " 'virginamerica way take advantag mayweatherpacquiao',\n",
              " 'virginamerica know fli virgin fight mayweatherpacquiao',\n",
              " 'virginamerica inflight team make experi amaz',\n",
              " 'virginamerica cutest salt pepper shaker ever think guy get better http co vc keulg j',\n",
              " 'virginamerica move seat notic better seat cabin select behind row select disappoint',\n",
              " 'virginamerica share q result iol http co xz qeg nef',\n",
              " 'virginamerica fav airlin',\n",
              " 'virginamerica hot femal pilot sweet dca sfo',\n",
              " 'guy go start fli pari virginamerica lizautt welcom',\n",
              " 'virginamerica polici fli surgeri still wait answer tell doctor',\n",
              " 'virginamerica alreadi contact central baggag amp sent dm renttherunway charg dress lost suitcas help',\n",
              " 'virginamerica thank',\n",
              " 'virginamerica anyth go websit get lot error past minut',\n",
              " 'virginamerica think left someth plane yesterday call ah',\n",
              " 'virginamerica need follow back order dm',\n",
              " 'virginamerica need start fli kciairport',\n",
              " 'virginamerica told check airlin regul first contact',\n",
              " 'virginamerica virginatlant check flight sfo lax amp told atlant fli club gold get benefit',\n",
              " 'virginamerica husband order three drink via screen never came awesom',\n",
              " 'virginamerica soooo guy go leav seatbelt light flight bare call turbul',\n",
              " 'virginamerica polici fli surgeri',\n",
              " 'virginamerica post second consecut full year net profit atwonlin http co tvb zbzvhg',\n",
              " 'virginamerica funni stori websit broken miss javascript stylesheet checkin process dislik',\n",
              " 'virginamerica would love virgin like gopro',\n",
              " 'virginamerica result handili exceed forecast nytim http co gonmrwem',\n",
              " 'virginamerica appli posit flylaxairport wonder guy receiv applic',\n",
              " 'virginamerica achiev second year profit despit revenu pressur capa aviat http co zsuztnaijq',\n",
              " 'virginamerica give posit outlook see increas competit reuter http co jeu od eyj',\n",
              " 'virginamerica tri check ct flight tmm desktop websit work sort cach bug so',\n",
              " 'virginamerica weather delay gt next week jfk bo dca',\n",
              " 'virginamerica madbe check websit go airport',\n",
              " 'virginamerica guy know check link email broken http co npxb obmr',\n",
              " 'virginamerica pilot say expect choppi land nyc due gusti wind w temperatur degre amp w windchil',\n",
              " 'virginamerica love wait monday return flight mostli watch inflight safeti video sorrynotsorri',\n",
              " 'virginamerica lost luggag day ago flight vx lax iad amp call everi day respons pleas give back stuff',\n",
              " 'virginamerica flight book problem section websit seem broken chrome might wanna look',\n",
              " 'virginamerica hi want see new rout plan year newark love fli guy hope',\n",
              " 'virginamerica mean probabl inappropri board',\n",
              " 'virginamerica happi spend day togeth let',\n",
              " 'virginamerica save saniti right http co eltboljul',\n",
              " 'virginamerica miss flight standbi work',\n",
              " 'virginamerica understand help thx comp',\n",
              " 'virginamerica brought way across countri today see http co tkauygcpm',\n",
              " 'virginamerica thank absolut',\n",
              " 'virginamerica look like broken link asset http co oardjjgrrd',\n",
              " 'virginamerica readi let say togeth noooo turbul today',\n",
              " 'virginamerica manag itinerari section websit seem broken http co pujvcelng',\n",
              " 'virginamerica check site look like everi time load http co kaci awdbw',\n",
              " 'virginamerica u help freyabevan fund need urgent treatment old battl cancer could u help flight freyasfund',\n",
              " 'virginamerica may start servic hawaii sanfrancisco year http co ypo nyprzl biztravel',\n",
              " 'virginamerica carrier less half price round trip fare stun http co ukdjjijrow',\n",
              " 'virginamerica wtf happen pdx late flight march one way sfo',\n",
              " 'virginamerica add dtw sold',\n",
              " 'virginamerica free drink flight back free promo',\n",
              " 'virginamerica ssal thank',\n",
              " 'virginamerica momma made',\n",
              " 'virginamerica pleas contact portfolio left flight vx jfk sfo tonit seat need return call',\n",
              " 'virginamerica help flight jkf tonight seat c left portfolio need back',\n",
              " 'virginamerica shrinerack seattl bound wifey got duffl vday keeper holla http co jloiblnair',\n",
              " 'virginamerica luggag gone file paperwork promis call email still resolut respons central luggag',\n",
              " 'virginamerica debbi baldwin gave rockstar perform safeti demo even vx la sfo bestcrew sherock',\n",
              " 'virginamerica thank',\n",
              " 'virginamerica thank take care suuperg flight rockstar travel',\n",
              " 'virginamerica thank love soft view travel san sfo http co cnctl g ef',\n",
              " 'virginamerica request mileag challeng statu sever week ago onlin heard back get help',\n",
              " 'virginamerica tri book ticket nyc face super fun broken style worri keep tri',\n",
              " 'virginamerica mani thank follow ourprincess freyasfund usa bandi look help http co ujf zi kd',\n",
              " 'virginamerica nice lofti view flylaxairport silverstatu http co f tp dawbd',\n",
              " 'virginamerica appli statu match feb got confirm email day still news though guy drop ball late flightli',\n",
              " 'virginamerica new go airlin',\n",
              " 'virginamerica virginatlant gma americanair help ourprincess need help usa http co aztdaer',\n",
              " 'virginamerica ador look forward flight austin two week',\n",
              " 'virginamerica glad mention took first virgin flight year back transform experi',\n",
              " 'virginamerica flight book problem flight uphold statu match tax ticket count earn statu point statusmatch virginamerica',\n",
              " 'virginamerica tri check look like site',\n",
              " 'virginamerica spend birthday night dal dca get home',\n",
              " 'virginamerica sent coupl messag email provid avail tri next year cheer',\n",
              " 'virginamerica first time fli virgin went sanfrancisco thank smooth ride easili new fav airlin',\n",
              " 'virginamerica serious though direct flight sfo fll may',\n",
              " 'virginamerica fine alreadi done purchas tri go way go back',\n",
              " 'virginamerica realli experi hope ws forc check small carri w noth empti cabin space board',\n",
              " 'virginamerica wjere luggag slow lax',\n",
              " 'virginamerica jump dalla austin market http co szr pioa',\n",
              " 'virginamerica spoke repres offer solut loyal custom fli virginatlant well',\n",
              " 'virginamerica deepli disappoint birthday promo appli trip book mere day receiv email',\n",
              " 'virginamerica happen direct flight sfo fll look may see connect help dontdothistom',\n",
              " 'virginamerica help left blazer koopl jacket bag rd row second seat right gate lax flight sfo',\n",
              " 'virginamerica partner visa checkout mobil payment method help boost mobil convers rate etailwest payment visa',\n",
              " 'virginamerica promot product problem southwest recommend noneoth best http co tfanxbh cf',\n",
              " 'virginamerica love guy pl get direct rout la au',\n",
              " 'virginamerica would like help flight pleas',\n",
              " 'bruh virginamerica giannile turn vxsafetyd',\n",
              " 'virginamerica cours work virginatlant obsess entir virgin famili',\n",
              " 'virginamerica ok first time fli tonight',\n",
              " 'virginamerica dig swanki pink mood light flight nyc sfo need cabaret singer think',\n",
              " 'virginamerica done need receipt asap could pleas help',\n",
              " 'virginamerica emboss badg patch superior one current use http co fq xelbon',\n",
              " 'virginamerica vx jfk la dirti plane standard',\n",
              " 'virginamerica flight vx head la jfk dirtiest va plane ever sad great airlin',\n",
              " 'virginamerica got squar away someon pick soon tweet tweet sooner',\n",
              " 'virginamerica avi rental continu button work websit book car tri time phone suck',\n",
              " 'virginamerica delay',\n",
              " 'virginamerica current minut hold cust servic need anyth add lap child reserv',\n",
              " 'virginamerica add pillow instead lie flat seat first class arm race http co sfjduahx z skift',\n",
              " 'virginamerica karinsle cours fun celebr thank happi chines new year',\n",
              " 'virginamerica flight book problem last second flight next week sfo san chanc want gift promo code sinc love guy',\n",
              " 'virginamerica comen bank joke pleas chang noth constant problem bank',\n",
              " 'virginamerica dm u also add',\n",
              " 'virginamerica grandma ella th would lt bday greet flight crew stewardess eastern airlin',\n",
              " 'virginamerica bought tix atx dalla rout thank ad love yr airlin amp yr websit best transact site ever',\n",
              " 'virginamerica anytim sugafli',\n",
              " 'virginamerica gave credit late flight flight yesterday great servic wow moment unexpect gestur',\n",
              " 'virginamerica need receipt flight chang send one',\n",
              " 'virginamerica submit statu match request back still heard fli monday look acceler',\n",
              " 'virginamerica safeti video http co cqmm nue love first cross countri flight livewelltravel sytycd',\n",
              " 'virginamerica look fat look yummi',\n",
              " 'virginamerica ceo say southwest amp jetblu stray low cost model http co sctomh',\n",
              " 'virginamerica brilliant brisk boston cue vx http co rmznivgmg',\n",
              " 'virginamerica atlant plough lone furrow middleeast http co fvudmh pf thenationalua',\n",
              " 'virginamerica atlant plough lone furrow middleeast http co dcobokn ee thenationalua',\n",
              " 'virginamerica atlant plough lone furrow middleeast http co vw p tlh thenationalua',\n",
              " 'virginamerica omg omg nonstop dalla austin virgin',\n",
              " 'virginamerica plane realli pretti thought u know',\n",
              " 'virginamerica fli hawaii',\n",
              " 'virginamerica pull hair tri book flight u site work iphon ipad comput help',\n",
              " 'virginamerica thank',\n",
              " 'virginamerica get help support ticket day incid thank',\n",
              " 'virginamerica good home texa moodlight http co n bvzti zi',\n",
              " 'virginamerica cannot even open laptop seat c paid premium let',\n",
              " 'virginamerica seat c cannot even open laptop paid extra seat',\n",
              " 'virginamerica guy start flight end month guess still road trip feb',\n",
              " 'virginamerica thank need way make austin trip dca come',\n",
              " 'virginamerica announc new rout austin w fare way http co ga pbamu c',\n",
              " 'virginamerica realli sprint thought guy kewl',\n",
              " 'virginamerica cool never ur plane',\n",
              " 'virginamerica dollar lax la fare',\n",
              " 'virginamerica great well deserv',\n",
              " 'virginamerica fyi info virginamerica com email address say contact password reset email exist email bounc',\n",
              " 'virginamerica statu match week gone news flt next week hope flt count toward requir cust svc help',\n",
              " 'virginamerica websit suck donkey dick thought know best',\n",
              " 'virginamerica still develop app favorit airlin',\n",
              " 'virginamerica crap channel pay watch uk tv',\n",
              " 'virginamerica got set thank',\n",
              " 'virginamerica channel year',\n",
              " 'virginamerica thing see passbook virgin mobil mexico integr',\n",
              " 'virginamerica giant virgin america match made heaven',\n",
              " 'virginamerica thank good also see friday nwk gt sf boom',\n",
              " 'virginamerica come iphon app still use make wast paper',\n",
              " 'virginamerica back seat entertain system accept credit card apostroph surnam apostrophefail',\n",
              " 'virginamerica vx use lga slot instead today ad au make less like',\n",
              " 'virginamerica help step tinder game tindertip tinderchamp http co jbmvvha',\n",
              " 'virginamerica luv ur peopl product thing u charg herbal tea black tea caffein drinker',\n",
              " 'virginamerica thank see soon excit see expans destin spread wing',\n",
              " 'virginamerica announc new nonstop connect austinairport amp dallaslovefield intro http co qxnoaqtyn http co jk qmdfqgf',\n",
              " 'virginamerica add austin dalla love field rout http co xwjol flh http co aormfkac',\n",
              " 'virginamerica sad learn longer fli sfo gt phl hope return',\n",
              " 'virginamerica tweet cancel flight chng fee flight rebook one affili afili',\n",
              " 'virginamerica incred custom servic ever experienc refresh',\n",
              " 'virginamerica see virginamerica come philadelphia phl',\n",
              " 'virginamerica dream realli open rout dalla austin mean houston might next',\n",
              " 'virginamerica omg final',\n",
              " 'virginamerica start xweekli flight dalla dallaslovefield austin apr avgeek',\n",
              " 'virginamerica nice see expand texa forget us sandiego would love see flight',\n",
              " 'virginamerica kinda suck earphon jack work flight may want look futur passeng',\n",
              " 'virginamerica poor experi first comput problem seat malfunct stuck miss meet san diego',\n",
              " 'virginamerica battl southwestair dallaslovefield austinairport rout http co rlz ebk x via usatoday',\n",
              " 'virginamerica thankyou dal au rout make day',\n",
              " 'virginamerica awesom deal dal au way http co xcvqxykg',\n",
              " 'virginamerica miss nerdbird san jose',\n",
              " 'virginamerica love take southwestair backyard consum win biz compet',\n",
              " 'virginamerica fli love austin excel news',\n",
              " 'virginamerica make everi vx plane nerdbird austin one get nerd love',\n",
              " 'virginamerica pleas add frequenc pdx portland',\n",
              " 'virginamerica congrat vx new rout',\n",
              " 'virginamerica tri offer charg addit k new ticket strand thur st time last time',\n",
              " 'virginamerica americanair u help flight get old battl cancer need treatment freyabevan fund',\n",
              " 'virginamerica never bad experi one took cake extort carri item well',\n",
              " 'virginamerica spend hour worri item carryon would broken stolen sinc carri plane lock bag',\n",
              " 'virginamerica group e told room bin got plane room least bag row',\n",
              " 'virginamerica thank make flight lax jfk nightmar forc check carri bag gate',\n",
              " 'virginamerica lot flight book site work phone wait minut',\n",
              " 'virginamerica flight artisan chees wine pair',\n",
              " 'virginamerica virgin america fli direct seattl nyc boston',\n",
              " 'virginamerica classi',\n",
              " 'virginamerica sure lot jfk lhr flight go lot faster mph strong tailwind',\n",
              " 'virginamerica minu minut elev silver upgrad window open freeneversuck',\n",
              " 'virginamerica save tomorrow',\n",
              " 'virginamerica take year fli home dalla get shit togeth',\n",
              " 'virginamerica jezziegoldz club virgin bump new york http co haqc gdg c',\n",
              " 'virginamerica jezziegoldz would rough trip luckili virginamerica flight weather',\n",
              " 'virginamerica thestart',\n",
              " 'virginamerica pleas come minneapoli st paul',\n",
              " 'virginamerica ye fyi bff',\n",
              " 'virginamerica anoth perfect flight come plane sun visor stay carrier make rais',\n",
              " 'nice rt virginamerica man steel might faster wifi say sciencebehindtheexperi http co fgrbpazsix',\n",
              " 'virginamerica love danc littl richard cool bean',\n",
              " 'virginamerica use passbook still love though lt use email futur',\n",
              " 'virginamerica thank free birthday point right',\n",
              " 'virginamerica applic io look saw virgin mexico lt',\n",
              " 'virginamerica man steel fli citi though frequenc',\n",
              " 'virginamerica thank much share ad site http co tsvibtvt h',\n",
              " 'virginamerica good point',\n",
              " 'virginamerica heard virgin mobil hotspot',\n",
              " 'virginamerica got chees plate flight',\n",
              " 'virginamerica flight',\n",
              " 'virginamerica dad segway best part whole infograph',\n",
              " 'virginamerica plan short haul airlin europ would defiantli fli guy',\n",
              " 'virginamerica wifi better seat',\n",
              " 'virginamerica come abc one network channel',\n",
              " 'virginamerica start flight scold use overhead bin offer person seat next',\n",
              " 'virginamerica great return call day ask myvxexperi',\n",
              " 'virginamerica airlin cancel flight flight bo help custom get home virgin say good luck',\n",
              " 'virginamerica dear virgin custom strand sf day amp cost least accommod',\n",
              " 'virginamerica use next airlin commerci lol http co pxexilsjb',\n",
              " 'virginamerica group virgin other bo weather expos actual cu serv model never flight book problem virgin',\n",
              " 'virginamerica one travel affect boston storm shock virgin complet apathi toward custom',\n",
              " 'virginamerica umm reason someon differ contact contact get definit answer',\n",
              " 'virginamerica tri make chang advanc hour prior tri onlin earlier want chang fee',\n",
              " 'virginamerica loyal drive nyc pa fli virgin sinc cut philli flight',\n",
              " 'virginamerica way chang main cabin main cabin select flight without pay chang fee penalti',\n",
              " 'virginamerica guy perfect alway lt wervirgin',\n",
              " 'virginamerica thank best custom servic left industri',\n",
              " 'virginamerica give silver statu month',\n",
              " 'virginamerica realli wish fli fargo fargoairport fare amaz',\n",
              " 'virginamerica mood light point reclin seat kickin feet',\n",
              " 'virginamerica flight schedul pm departur still say time plane gate updat long delay',\n",
              " 'virginamerica group got cancel flightlat fee waiv ticket book rep help either',\n",
              " 'virginamerica sign bonus enrol elev',\n",
              " 'virginamerica got pm newark home la folk ewr incred letsgohom',\n",
              " 'virginamerica morn question regard elev point amp flight dm',\n",
              " 'virginamerica still wait see starryey dev',\n",
              " 'virginamerica wonder guy reciev dm abl potenti respond asap',\n",
              " 'virginamerica fli lax sfo look awesom movi lineup actual wish long haul',\n",
              " 'virginamerica book town fare way restr http co xrdtov nl http co byackc jenniferdawnpro',\n",
              " 'unit thank',\n",
              " 'unit thank take care mr happi custom',\n",
              " 'unit still refund word via dm pleas resolv issu cancel flightl flight useless assist trip',\n",
              " 'unit delay due lack crew delay long line deic still need improv servic unit',\n",
              " 'unit thank fill luck common',\n",
              " 'unit eri ord express connect huge popular could eri ewr hop',\n",
              " 'unit even intern flight glasgow u orlando newark min',\n",
              " 'unit think board flight au earli think',\n",
              " 'unit understand tough way get airport w seriou risk accid steep price',\n",
              " 'unit gate agent hook altern flight way prevent constant issu would rock',\n",
              " 'unit fli gla mco week long airport departur intern domest ta',\n",
              " 'unit thank',\n",
              " 'unit thank ticket',\n",
              " 'unit law polici',\n",
              " 'unit worst nonrefund first class ticket oh select global fc system auto select economi w upgrad',\n",
              " 'unit cheertymedad buy tix day flight transfer tix flaw secur logic flaw custom servic',\n",
              " 'unit start claim week unrealist realli suppos go long car seat child ridicul',\n",
              " 'unit follow pleas airlin beautiful',\n",
              " 'unit sure unit info system',\n",
              " 'unit car seat lost unit reimburs new one pair shoe necess child',\n",
              " 'unit submit respons link sent',\n",
              " 'unit ye david allan send email number kmm v l km case',\n",
              " 'unit highbuddyyi total suck cousin work phl said unit',\n",
              " 'unit want let know wonder rosetta gate agent work flight dan ase let know wasappreci',\n",
              " 'unit ye paper voucher got januari th',\n",
              " 'unit begin feb call unit said would send anoth voucher mail never got anyth tiredofwait',\n",
              " 'unit internet great thing email execut compani mayb respond time manner',\n",
              " 'unit need use chase unit club pass yr old son come pass',\n",
              " 'unit suppos number',\n",
              " 'unit that weak see ya hey virginamerica',\n",
              " 'unit flew back w compani sinc unit didnt earlier flight',\n",
              " 'unit lost voucher given miami aeroport jan use',\n",
              " 'unit tri book award septemb need flight aegeanairlin show even w mani award seat availab',\n",
              " 'unit sure drive total hour get bag like explain debacl one want talk',\n",
              " 'unit cheertymedad gee like almost care ppl think int trust adult w daughter',\n",
              " 'unit see told repeatedli pilot late flight kept get late flightr board defibril issu',\n",
              " 'unit prefer secur line anymor tsa pre check pull silverairway partner flight platinum spoil',\n",
              " 'unit newarkliberti airport need indic differ gate termin amp c flyingainteasi',\n",
              " 'unit ye pleas newli marri tri updat last name preexist intern flight seem easi',\n",
              " 'unit unit refus reissu lost voucher plane take due mechan badcustomerservic',\n",
              " 'unit also run instruct shatter comput http co oaflfr wxb',\n",
              " 'unit ye agent last minut one agent rude thank ladan nice',\n",
              " 'unit right overnight miami',\n",
              " 'unit client hr layov iah day claim amp recheck luggag taken care',\n",
              " 'unit tri find loaner seat new use use car seat illeg accord safeti regul',\n",
              " 'unit dmed detail',\n",
              " 'unit iah charlott baggag claim rep latric h customerservic non exist ignor custom inappropri touch custom',\n",
              " 'unit kewl also let know overhead bin row inop love good abbrev',\n",
              " 'unit thank help got need issu austrian guess sit awhil longer',\n",
              " 'unit uctraveladvisor would love respond websit saw realli long form busi new seat bad',\n",
              " 'unit refund flight voucher anoth flight differ airlin expens today hour drive inconveni',\n",
              " 'unit receiv call back day infant car seat suppos go anywher child',\n",
              " 'unit thank concern contact custom care upon return australia',\n",
              " 'unit well sit ground time wait gate tiredofthi',\n",
              " 'unit airport snow remov method keep good work folk cessna becom http co v tmusjvu',\n",
              " 'unit need guy book plane concern travel someon els move forward',\n",
              " 'unit measli e certif appreci loyal custom wait hr tarmac ua unaccept',\n",
              " 'unit email address usernam sign avail',\n",
              " 'unit thank abl claim interim expens cost stuff',\n",
              " 'unit rude rude',\n",
              " 'unit get board pass austrian airlin codeshar flight rebook incl hour layov amp stuck outsid sec',\n",
              " 'unit receiv flight unit truli break guitar unitedbreaksguitar wantmymoneyback',\n",
              " 'unit flew telaviv paid third suitcas even make plane besid impolit servic',\n",
              " 'unit bag still colo spring disabl search unfamiliar airport look bag good outcom',\n",
              " 'unit shame flex ticket transfer rule even call neurosurgeri icu enough',\n",
              " 'unit denver said handl baggag made colo spring gave number call help either',\n",
              " 'unit guy need seriou train custom servic mani better option put way guy handl ur mistak',\n",
              " 'unit ord dca',\n",
              " 'unit found problem avoid like plagu told find supervisor',\n",
              " 'unit zcc u cancel flight flight h advanc need connect flight reschedul link help help gf wait month see',\n",
              " 'unit fli',\n",
              " 'unit addit first flight delay hour arriv destin hr late flight',\n",
              " 'unit cancel flight flight rebook us ad flight drive denver kc thank',\n",
              " 'unit announc pre board address mobil disabl requir travel lot stuff preboard',\n",
              " 'unit flew unit last month experi awesom',\n",
              " 'unit travel book thru unit group dept okc ticket agent less will help connect lax',\n",
              " 'unit v upset disabl servic told one employe carri medic equip rude',\n",
              " 'unit thnx quick repli think assist intl grp put consider inconveni today',\n",
              " 'unit wont transfer flight ticket accompani yr old activ militari mom emerg brain surgeri wow',\n",
              " 'unit getmeontop week late flightr still receiv mile mileageplu gift card starbuck card hand',\n",
              " 'unit k alway hope improv',\n",
              " 'unit yet complain guy check luggag throw bag around unfortun coincid hope',\n",
              " 'unit okc ticket agent roger mclarren sp less help intl group travel problem find supervisor help',\n",
              " 'unit mobil app need construct ground os categori expens get right',\n",
              " 'unit anoth fail unit ticket agent okc less help could care less problem american come',\n",
              " 'unit also work wc coach good thing bird land ahead schedul use wc stat',\n",
              " 'unit os control rather verizonwireless app new',\n",
              " 'unit sent email custom care tell may break sincer hope help',\n",
              " 'unit silli fli delta today unit club staff attend surli unhelp alway seem bother peski folk',\n",
              " 'unit phone number find call flight reserv',\n",
              " 'unit well fix miss buddi th bday neglig attempt make',\n",
              " 'unit believ help custom servic like said want number someon fix',\n",
              " 'unit help baggag servic desk said bc tsa screen fll bag made bag ewr',\n",
              " 'unit mobil board pass disappear phone stand line board second time week hmm',\n",
              " 'unit record rozana newark love help choosekind',\n",
              " 'unit last night ord lga',\n",
              " 'unit thx updat',\n",
              " 'unit thank',\n",
              " 'unit dm nut',\n",
              " 'unit explain eager flight attend tri ask vision ccicanin guid dog',\n",
              " 'unit point ask detail servicedog book flight crew read continu',\n",
              " 'unit tri one avail bogota everyon rude houston stuck hour guy',\n",
              " 'unit worst unitedflightsev ua la iad mechan problem took land fix delay wtfodd',\n",
              " 'unit despit bag make newark good inform email track updat help',\n",
              " 'unit go ua outbound flight last thur delay hr long delay worst unitedflightsev',\n",
              " 'unit worst unitedflightsev ua iad la mechan problem switch aircraft delay hour',\n",
              " 'unit crash tri check',\n",
              " 'unit wow deal plu seat avail easi chang make custom happi',\n",
              " 'unit thank info alreadi knew',\n",
              " 'unit airlin troubl winter amp get good custom servic contact http co aqjn hwnac negoti resolut',\n",
              " 'unit logan board gong show due lax carri enforc bin full coat room bag u need better system',\n",
              " 'unit thank',\n",
              " 'unit blackmail pay extra return ticket nullifi san francisco airport terribl servic rep scam',\n",
              " 'unit email address reach long dm',\n",
              " 'unit disappoint u didnt honor credit given ur mistak take busi elsewher',\n",
              " 'unit ua still wait suppos depart',\n",
              " 'unit credit last trip never came mail',\n",
              " 'unit ok month wait hear airlin gave quit bit day request terribl servic',\n",
              " 'unit process ever end still wait repli sinc month pathet customerservic',\n",
              " 'unit go websit flight book problem three ticket today boot system umpteen time',\n",
              " 'unit get account number websit say email unavail',\n",
              " 'unit need book two one way order fli unaccompani minor',\n",
              " 'unit receiv bag last night still miss one',\n",
              " 'unit simonroesn need upgrad seat even economi plu like sit concret bench',\n",
              " 'unit pl help babi hannah get life save surgeri requir need help pl donat rt http co kqnrrp',\n",
              " 'unit bet wont honour like mine ey',\n",
              " 'unit nd flight also delay pilot board sit schedul',\n",
              " 'unit guess much ask huh',\n",
              " 'unit hard stay upset someon least tri show remors',\n",
              " 'unit way simpl apolog goe long way even hollow one obviou care well',\n",
              " 'unit one time thing either shock pattern repeat neglect disrespect',\n",
              " 'unit finger cross amp intact disappoint experi actual say enjoy use',\n",
              " 'unit incred easi fix would rather stay comfort zone get forc mine',\n",
              " 'unit juli zero excus date system caus problem like',\n",
              " 'unit everyon around us sit friend famili member book ticket octob decemb bought',\n",
              " 'unit sure talk go nonstop flight sna sfo sfo ewr',\n",
              " 'unit move americanair unit talk servic',\n",
              " 'unit pleas good weekend',\n",
              " 'unit ask legitim question systemwid vs local problem got back unrel flightd copi past better',\n",
              " 'unit time call need ski go airport get faith unit',\n",
              " 'unit see guy amaz one compani continu make mistak yet fail held account error',\n",
              " 'unit tourist wonder super tide tide centuri french u k coast http co gxdqortss',\n",
              " 'unit yeah sorri alway problem unit intern reput problem',\n",
              " 'unit yall probabl work',\n",
              " 'unit mayb bbbne sd ks ia would care hear went whoever listen issu caus',\n",
              " 'unit wonder share fb insta would produc number charact realli limit stori tell',\n",
              " 'unit tell number call left airport neglig pilot staff',\n",
              " 'unit could email resent doesnt appear arriv',\n",
              " 'unit ye pleas tri get pop newark',\n",
              " 'unit follow order dm come',\n",
              " 'unit unit coupon make broken entertain system hour flight serious ridicul learncustomerservic',\n",
              " 'unit drop bag overnight amp leav week suppos hold bag',\n",
              " 'unit dm detail still respons book today',\n",
              " 'unit know probabl way get cheaper airfar ticket flight leav hour',\n",
              " 'unit someon pleas explain process happen properti found plane passeng leav heathrow',\n",
              " 'unit abl dm confirm number',\n",
              " 'unit sent messag let know got twitter liter also realli go stuck hr',\n",
              " 'unit unhappi respons complaint email nd feb ref aw custom servic',\n",
              " 'unit dm work',\n",
              " 'unit privat jet would cool work tri',\n",
              " 'unit given option use unit travelbank recent flight book problem help use recoup fund thank',\n",
              " 'unit common keep paper work readi delay flight meet choosechicago',\n",
              " 'unit yul ord',\n",
              " 'unit yep correct got email flight cancel flightl matter flight atl delay thx',\n",
              " 'unit k problem get fll iah sent dm make connect pleas let know',\n",
              " 'unit done done',\n",
              " 'unit thank sent',\n",
              " 'unit ground montreal ua miss connect ua st loui help privat jet',\n",
              " 'unit frustrat nervou',\n",
              " 'unit one make difficult',\n",
              " 'unit child someon issu fli prepar ahead time reduc distress caus plane',\n",
              " 'unit get cancel flightl hour take',\n",
              " 'unit alway happen guy make travel incred stress uncomfort good busi',\n",
              " 'unit someon sever anxieti one person help next',\n",
              " 'unit seek go client b c u cant get need refund fill form confid work past indic',\n",
              " 'thnx respons unit bot seem improv could easili attain st class servic realli worth',\n",
              " 'unit unrival access california flight u uk airport nonstop one stop connect year round',\n",
              " 'unit book award tix thaiairway see conf unit flight book problem get get thai',\n",
              " 'unit luckili made flight time disappoint lack commun',\n",
              " 'unit check see flight atl ord got cancel flight',\n",
              " 'unit servic far horrid want end trip high note guess option',\n",
              " 'unit book flight home month ago request seat togeth fianc e got middl seat unaccept',\n",
              " 'unit guy horribl',\n",
              " 'unit thnx info',\n",
              " 'unit pay wifi intern busi ticket pennypinch',\n",
              " 'unit ok top thing lost luggag could get wors unitedairlin',\n",
              " 'unit kudo cancel flightl flight dfw morn unit usual first panic',\n",
              " 'unit luggag broken youcouldntmakethi brokenwheel',\n",
              " 'unit flight dfw ord current time see advisori dfw may affect weather',\n",
              " 'unit mayb one day one quot http co mjkpgvxmpc',\n",
              " 'unit flight delay one rememb turn heat flight leav ord serious',\n",
              " 'unit anoth awesom new plane flight extrem nice captain steve connolli',\n",
              " 'unit speak real person get resolv polit effici',\n",
              " 'unit file refund claim told charg dm disput bank henc would like',\n",
              " 'unit bag make flight iad second day without cloth pretti inconveni pretti curiou unitedairlin',\n",
              " 'unit everi unit flight saipan guam adventur never know capeair old plane oper',\n",
              " 'unit henc ask custom servic phone number speak real person get sort',\n",
              " 'unit bag leav washington yet would conveni see left day ago unitedairlin lostluggag',\n",
              " 'unit fli st class one leg chicago long flight china still abl use loung chicago',\n",
              " 'unit accord dm owe refund pleas may provid contact number go bank file claim',\n",
              " 'unit hour ago need work bag make hotel time need go elsewher',\n",
              " 'unit okay thank',\n",
              " 'unit file claim way call updat anoth way',\n",
              " 'unit pl properli train agent request speak k custom servic amp transfer dead end even open hr',\n",
              " 'unit thank rememb load bag onto connect flight oh wait forgot iceland fun cloth',\n",
              " 'unit thank chees platter abund entertain option time flew',\n",
              " 'unit custom servic atroci disrupt travel plan lost luggag imposs talk human',\n",
              " 'unit termin mia food open esp flight two hour earli like recommend eat',\n",
              " 'unit ua flight current stuck portland miss ride hour delay getmartyhom',\n",
              " 'unit respond variou request contact number anyon know uk custom servic number unitedairlin',\n",
              " 'unit look get bag lusaka',\n",
              " 'unit could updat suitcas pleas onlin phone track told noth told back yesterday',\n",
              " 'unit thank tri two day set',\n",
              " 'unit last thing u guy charg drink transatlant flight',\n",
              " 'unit lhr arriv loung fail wait min shower left find hotel u know mani passeng u carri plan',\n",
              " 'unit luck final reserv dm inform pleas let know els need want confirm asap thx',\n",
              " 'unit complet form doubt use ua care day vacat sure ua feel respons',\n",
              " 'unit definit compliment realli thought bag lost sent anoth airport end happi custom',\n",
              " 'unit thanx much follow email ticket voucher unitedairlin care',\n",
              " 'unit definit trip rememb ewr sti second season first seat pay loyal',\n",
              " 'unit nope told us time go home sleep airport even though assur us would get room',\n",
              " 'unit keep updat let know bag make flight j burg',\n",
              " 'unit back expens holiday work year pay ruin want compens amp origin case back',\n",
              " 'unit thank unit understand would actual like bag back done also want money',\n",
              " 'unit frankli wors custom servic ever problem happen deal defin compani never unit',\n",
              " 'unit still valid flight seem strang delay late flight inbound crew hour plane alreadi',\n",
              " 'unit thank lack help can respons k desk',\n",
              " 'unit bad ua anoth unforese oper issu return flight',\n",
              " 'unit would like know go current flight land',\n",
              " 'unit pay luggag deliv arriv wait addit day deliveri',\n",
              " 'unit hotel peopl feel like held hostag someon board pass leav fail',\n",
              " 'unit one great airlin',\n",
              " 'unit outbound bag lb bag return home bag lb logic write machin human help requir',\n",
              " 'lindaswc unit like hear poor experi pleas share detail w custom care team http co hisc ndmgz',\n",
              " 'unit cancel flightn left us fend flt came late flight get runaround hr employe blame previou',\n",
              " 'unit local unit number malaysia local unit airlin kuala lumpur kul',\n",
              " 'unit okay ase find luggag',\n",
              " 'unit agent met us gate said issu w delay ua would taken onlin',\n",
              " 'unit send urgent messag via eservic unit com bg kwm narayanan pleas respond asap also local unit tel kul',\n",
              " 'unit thank guy get anytim soon',\n",
              " 'unit ladi one phone say tel aviv tel aviv unit say newark one know noth',\n",
              " 'unit melaniespr see kn run plane run thank help',\n",
              " 'unit ye still answer mani luggag day unaccept',\n",
              " 'unit go noth like alway',\n",
              " 'unit sent feedback thank',\n",
              " 'unit plu food taxi',\n",
              " 'unit offer us room peopl fail',\n",
              " 'unit peopl get pretti tire action solv problem plu miss day vacat ski',\n",
              " 'unit bright side would keep promis made hope good night thank',\n",
              " 'unit ye',\n",
              " 'unit take back comment team work hard help us far solut hotel food anyth fail',\n",
              " 'unit arriv two hour late flight clt sit tarmac move plane gate unhappi custom',\n",
              " 'unit airlin absolut worst idea neveragain unitedairlin',\n",
              " 'unit thank might want fix line custom care team current respond inquiri within busi day',\n",
              " 'unit flew unit au austin bergstrom cancun intl best flight ever big small',\n",
              " 'unit frustrat frequent flyer loyal sinc continent upgrad equal pay time top purchas ticket',\n",
              " 'unit deep vein thrombosi',\n",
              " 'unit wors figur pack plane screw connectn claim hotl room san fran strand pax way go',\n",
              " 'unit passeng hour delay flight left hotel end night hou airport wtf http co zfqmpgxv',\n",
              " 'hey unit flight iah po leav late flight one back iah earli rather get po earlier',\n",
              " 'unit lost bag process broken agent promis call amp hold bag found wake w deliveri fail',\n",
              " 'unit peopl counter help see nobodi flight austin still sit',\n",
              " 'unit unfortun still tarmac fli ohar definit miss ride flypdx gonnabealongnight',\n",
              " 'unit darquenlov regret hear pleas let us know need assist kn final abl secur seat thx',\n",
              " 'unit time check open flight ua manchest newark today',\n",
              " 'unit good know open close door premier passeng safeti brief delay flight annoy',\n",
              " 'unit dm sent',\n",
              " 'unit yea get phoenix alreadi delay day peopl bullshit',\n",
              " 'unit consol staff stellar hour delay encount everi one flight',\n",
              " 'unit flight ua gate b tell ray somehow made flight iah wait one',\n",
              " 'unit unfortun tumitravel xma gift look like razor rip right front pocket pictur',\n",
              " 'unit thank ask',\n",
              " 'unit lost bag cancel flightl flight delhi call center poor unit staff spread thin stress name',\n",
              " 'unit ye make mistak less absurd chang fact inconveni miss luggag tonight',\n",
              " 'unit constantli challeng upgrad amp charg order prevent dvt pay addtl http co xc jq r b',\n",
              " 'unit ord wait min crew member left gate item came flight attend sarcast said good luck walk away',\n",
              " 'unit follow back pleas happili dm link rather share travel plan publicli',\n",
              " 'unit',\n",
              " 'unit favorit airlin',\n",
              " 'unit serious fail make stranger share room',\n",
              " 'unit luke mcintosh nah',\n",
              " 'unit need asap make today flight',\n",
              " 'unit agent split reserv cancel flight refund credit wk',\n",
              " 'unit vacat go ruin w day rain chang fee us nearli cost origin flight help',\n",
              " 'unit sent messag let know asap',\n",
              " 'unit would make share room',\n",
              " 'unit tri call w min phn wait mean miss option anyway',\n",
              " 'unit ask guy flight bwi wait us get delay flight san diego pretti pleas',\n",
              " 'unit still wait find rep work hard upset wait tomorrow pm get mammoth',\n",
              " 'unit earli flt think call appropri ye review nada avail next day expect full refund',\n",
              " 'unit understand thank',\n",
              " 'unit ask call get fix tweet bs question stall make thing wors phone number pleas',\n",
              " 'unit yo yo yo stuck tarmac hour fli ohar go miss ride flypdx help pleas helpimstuck unit',\n",
              " 'unit highli unprofession overbook flight seat amp feel rearrang schedul mismanag',\n",
              " 'unit well consid everi agent claim unabl help everyth els wast time hear call corp',\n",
              " 'unit man wait book ticket thank jp life sabe',\n",
              " 'unit ice total understand larg number us face hour time overnight cancel flightat seem like',\n",
              " 'unit flt cancel flightl get email happen courtesi phn call book diff airlin amp citi',\n",
              " 'unit tag number let find bag',\n",
              " 'unit better train support staff appropri decorum consid revisit terribl provid death certif polici',\n",
              " 'unit well bar set low guy realli good apolog game chang u guy learn',\n",
              " 'unit post disappoint frequent unit flyer simpl bad appl spoil bunch',\n",
              " 'unit guy continu impress houston http co cih qnllcm',\n",
              " 'unit way make phone call need handl via twitter email web thank',\n",
              " 'unit pleas help ethiopia adopt two year old child exist confirm need add child reserv',\n",
              " 'unit question onboad volt outlet plane',\n",
              " 'unit websit deserv new design html ftw',\n",
              " 'unit thank ef holiday miss full day ski due baggag team incompet flyyow',\n",
              " 'unit twitter let dm',\n",
              " 'unit hope',\n",
              " 'unit agent help person front finish walk away guy behind shock',\n",
              " 'unit connect ord exact plane check carri appar taken amp left chicago pretti ridicul',\n",
              " 'unit encourag cpap tonight',\n",
              " 'unit ye file claim soon carousel stop without bag got email found sched deliveri',\n",
              " 'unit idea monitor mileag member travel pattern enough know chang job lose statu make transit easier',\n",
              " 'unit delay den cle manual enter baggag tag realli worst cust servic day ker friendlyski',\n",
              " 'unit tell us flight delay tell us time min spare say delay unless sure',\n",
              " 'unit ye lusaka zambia guess bag never made plane iad',\n",
              " 'unit flight voucher',\n",
              " 'unit late flight denver late flight newark let even get disast check bag unaccept',\n",
              " 'unit let think ever flown problem worst airlin period',\n",
              " 'unit ye file claim amp hope receiv luggag ridicul purchas item go sleep amp reimburs',\n",
              " 'unit ua ord lhr bag load min late flight frigid air cabin plane feel like fall apart upgrad long haul fleet',\n",
              " 'unit flight attend never serv beverag tea check give ua notcool',\n",
              " 'unit load balanc system appar systemwid major impact unit airlin flight cyberattack',\n",
              " 'unit unschedul refuel stop miss connect flight r home n look ward bed big pb amp j sandwich',\n",
              " 'unit americanair spent hundr rectifi situat guy go quiet',\n",
              " 'unit ua sit ewr nearli hour sked pilot say comput clue leav help',\n",
              " 'unit americanair end come travel liter extra day half',\n",
              " 'unit made upgrad list fli st tomorrow min first time ever statusmatchpaidoff http co atfrkp goy',\n",
              " 'unit refund us vacat get free room night make make us sleep dia',\n",
              " 'unit thank remind fun ride http co ppva rch f',\n",
              " 'unit receiv luggag also look left snow arriv ask peopl refund',\n",
              " 'unit updat aircraft wifi devic entertain outlet get charg devic',\n",
              " 'unit one scan insid plane ask peopl line around plane go',\n",
              " 'unit gate chang two delay even crew think airlin suck',\n",
              " 'unit frustrat wast day due equip failur',\n",
              " 'unit comput stop give updat took flight info app ridicul keep peopl updat',\n",
              " 'unit soooo day offer respons assum poor treatment gate agent norm',\n",
              " 'unit terrif mani thank look forward back ua tomorrow great flight vancouv',\n",
              " 'unit call result hr hold time amp day wait check suspect code share fare noth investig time wast',\n",
              " 'unit taken week cust care respond case request refund wi fi work get updat',\n",
              " 'unit appreci effort get home',\n",
              " 'unit correct spent hour tri book onlin receiv error click final purchas button',\n",
              " 'unit today finest could prevent one gate agent advis passeng',\n",
              " 'unit real deal delay flight ua denver vega',\n",
              " 'unit ua madrid arriv agent mass confus sent fro ua employe maryjo rude unhelp',\n",
              " 'unit system failur bad trend softwar project like fli airplan thing emerg takeoff',\n",
              " 'unit lot report system failur delay flight last week current sit tarmac ogg hour',\n",
              " 'unit reboot chicago dispatch system need pivotalcf tire sit plane',\n",
              " 'unit despit shaki connect look like get home tonight great job unit touch go',\n",
              " 'unit http co hj kq chn howev complet control price still display http co hj kq chn',\n",
              " 'unit aircraft closest gate flight one closest gate go chicago',\n",
              " 'unit tell file claim cloth purchas',\n",
              " 'unit comic return flight ase two unit flight board adjac gate clear plane board',\n",
              " 'unit grk file refer',\n",
              " 'unit would contact discuss poor experi custom servic would give shot',\n",
              " 'unit ua pacif rim date night cut constantli randomli one spot repeat',\n",
              " 'unit tri sinc file report',\n",
              " 'unit send email bad experi send back gener respons yet anoth reason never fli',\n",
              " 'unit mom left kindl flight today burgundi case light seat anyon find',\n",
              " 'unit ticket pleas refund unnecessari upgrad fee',\n",
              " 'unit horribl lost carseat expect us use loner carseat safeti regul say illeg use use car seat',\n",
              " 'unit thank',\n",
              " 'decis decis mandarinjourney unit love tri servic offer statu match http co xbqqqbrgvf kp',\n",
              " 'need info unit momsgoodeat great amen kit pj includ statu match aa kp',\n",
              " 'unit care thehipmunk link show wrong price site site amp respons ensur correct',\n",
              " 'unit flight lie flat seat stl pdx around date march',\n",
              " 'unit need get home th tell th night compens anyth done',\n",
              " 'unit mllovelac baggag fee waiv premier member pleas see http co u duw mde jp point membership',\n",
              " 'unit wonder bag claim peopl final bag catch earlier flight origin flight land wastedtim',\n",
              " 'unit dmed thank',\n",
              " 'unit thank touch',\n",
              " 'unit thank karen salisburi iah amaz custom servic found daughter bag lost ua made day',\n",
              " 'unit day late flightr bag left iad unit help everyon tell differ stori',\n",
              " 'unit renoairport hi direct flight houston reno begin see day march',\n",
              " 'unit like continent chicken feat fair',\n",
              " 'unit assist current flight statu flt dfw tomorrow',\n",
              " 'unit left comment custom care thank contact',\n",
              " 'unit lose gate check bag den ord direct flight ugh',\n",
              " 'unit caught earlier flight ord gate check bag lost hare origin flight land minut frustrat',\n",
              " 'ye thank much unit whitterbug see spoke reserv team reinstat flight thank ey',\n",
              " 'unit captain behalf front offic welcom board never heard laugh hard funnycaptain',\n",
              " 'unit pleas follow dm miss bag',\n",
              " 'unit clear luggag comment referenc photo attach flight jac http co pnbajfkmhg',\n",
              " 'unit great fare',\n",
              " 'unit left item plane call non stop one answer pleas help',\n",
              " 'unit awesom book next christma vacatinn decemb way want devalu mileag plu',\n",
              " 'unit good number call speak someon fix peopl luggag saturday',\n",
              " 'unit thank u secur room night thx help custom servic rep n dorn thank u goodenoughmoth',\n",
              " 'unit damn bag',\n",
              " 'unit well someon tell employe denver baggag claim still bag',\n",
              " 'unit greet ua club member idea use air canada loung yvr fli ua tomorrow',\n",
              " 'unit mexico intern us',\n",
              " 'unit divert miss connect flight told bag way msi peopl care',\n",
              " 'unit male agnt la threaten canadian cust cust take pic gate agent announc help rebook friendlyski',\n",
              " 'unit apollochplay want go home tonight cancel flight last leg reserv w permiss ph rp',\n",
              " 'unit stress rude agent overwhelm delyd flight la den yell sever peopl pretti friendlyski',\n",
              " 'unit land boston last night hour travel rough tho',\n",
              " 'unit fail cancel flightl flight frm gjt use reserv home iah sea reflight book problem w permiss ph rp',\n",
              " 'sent thank u rt unit goodenufmoth pleas dm confirm number reflight book problem need thank ey',\n",
              " 'unit made fli list airlin wait connector late flight stuck iah',\n",
              " 'unit deal u provid voucher overnight cozi floor ohar gross helpmepleas anyonether',\n",
              " 'unit also mere fact go onlin issu statement vice call talk directli one good exampl',\n",
              " 'unit thank flew newark vail eagl',\n",
              " 'unit weekend deal compani would say otherwis',\n",
              " 'unit http co hpsqvrjk flight gone got plane businesstravel goodenoughmoth',\n",
              " 'unit proper respons sorri wait flight look issu delta would handl',\n",
              " 'unit custom servic terribl stood inlin hour flight hour late flightr still bag disgutedindenv',\n",
              " 'unit pleas upload march demand entertain list websit',\n",
              " 'unit inadequ accid',\n",
              " 'unit reebok rockinwel denver intern airport http co tkvmhbkec',\n",
              " 'unit thank respond quickli help tool dustyob',\n",
              " 'unit board time show min gate agent start show check bag http co zcbjyo lsn',\n",
              " 'unit agent la let custom know help rebook delay flight den unfriendlyski http co quzvmk rtr',\n",
              " 'unit empath w disappoint stclass flight w nonwork entertainmnt worth unfriendlyski http co loeco gmvd',\n",
              " 'unit work',\n",
              " 'unit seen messag today mcdonnel dougla dc model hear read goodnight',\n",
              " 'unit search mileag ticket bom find singl one saver award see play earn mile use',\n",
              " 'unit flight arriv minut earli wait hour bag',\n",
              " 'unit issu fact one even call despit promis confirm bag locat',\n",
              " 'unit girl gotta get flight name chang bought one mean ex boyfriend need girl trip stat',\n",
              " 'unit thank sign notif shall watch wait',\n",
              " 'unit still wait hear back wallet stolen one plane would appreci resolut',\n",
              " 'unit would love someon could get back austin tonight wish wait til tomorrow morn',\n",
              " 'unit flysaa lost baggag heard differ thing differ employe unit flysaa said noth',\n",
              " 'unit cs think mile repair damag done interest travel unit exp worst flight ever',\n",
              " 'unit flight dfw tuesday far advanc give notic cancel flightl',\n",
              " 'unit sign notif first trip updat sure happen',\n",
              " 'unit thank took care everyth made right experi use open app find flight chang',\n",
              " 'unit line respons wait tomorrow morn flight overbook',\n",
              " 'unit took exact aircraft lax day ago fit problem agent today told nonsens polici chang',\n",
              " 'unit help agent club help baggag fee night life stop busi silverairway',\n",
              " 'unit never heard http co qdebyahqfm',\n",
              " 'southwestair charg ticket chang fee incur mysteri cost incur unit',\n",
              " 'unit exhaust amp frustrat link fb post abt travel issu http co larkc vc',\n",
              " 'unit deni get plane w get chanc prove fit rooki read bio',\n",
              " 'unit exactli point fit premier access board group return ticket yr',\n",
              " 'unit never experienc worst custom servic place blame codeshar partner assum respons unaccept',\n",
              " 'unit current board check terribl staff rude expens luggag thrown around etc',\n",
              " 'unit fuck void ticket kept money even apolog never fli airlin unitedairlin',\n",
              " 'unit worst custom svc kevin rep call center must investig baggag lost help argument',\n",
              " 'unit sell ticket silverairway http co onhxhco bk terribl servic ua staff cannot reach silver',\n",
              " 'unit got demot gold cuz hubbi got pqd tho enuf spent gold spousal discrimin angri',\n",
              " 'unit thank',\n",
              " 'unit direct flight belfast intl newark resum winter break thank',\n",
              " 'unit favorit way travel thank http co vgn x ckg',\n",
              " 'unit ye aw weather appear get home',\n",
              " 'unit ye lot terribl custom servic newark despit rais complaint ignor henc tweet',\n",
              " 'unit love new plane lga ord power outlet',\n",
              " 'unit tweet id number reveal home address anyon web',\n",
              " 'unit file delay bag report saturday flight cancel flightl never went anywher',\n",
              " 'unit person current bettween gate lax',\n",
              " 'unit need land ewr baggag claim file sent employe droppeditoffyet',\n",
              " 'unit rare ceas amaz wors hope last time fli',\n",
              " 'unit thank quick respons cannot dm follow well',\n",
              " 'unit icloud yet pleas help',\n",
              " 'unit need phone number baggag claim lax mom left phone someon call say would put',\n",
              " 'unit respons back',\n",
              " 'unit atroci custom servic',\n",
              " 'unit honor absurdli low mistak fare http co z jv ilw v usatoday',\n",
              " 'unit albanyairport delay departur check bag gate claim space fill walk open space delay poorcustomerservic',\n",
              " 'unit cancel flight flight reason amp phone hour vacat',\n",
              " 'unit dfpietra respons shake head back forth tsk better custom servic apolog',\n",
              " 'unit thank k mile rtb europ multipl destin could stop us way way back mileag diff',\n",
              " 'unit cours bag frustrat',\n",
              " 'unit worst avoid like plagu',\n",
              " 'unit worst airlin world',\n",
              " 'unit someon need dm resolv correctli extrem disappoint servic receiv terribl manag',\n",
              " 'unit premier gold desk chang flight waiv fee give wrong flight jana acosta salt lake refus servic angri',\n",
              " 'unit give one thing consist unfortun consist job well alwaysdelayedonunit',\n",
              " 'unit right angri',\n",
              " 'unit first time fli unit also last time terribl back virginatlant branson virginatlant unitedairlin',\n",
              " 'unit use commit continentalairlin flyer merger rememb switch southwestair communicationfail',\n",
              " 'unit least could offer ticket coach instead cancel flight reserv glitch notfair',\n",
              " 'unit say made flight poor non commun unaccount lost time amp lot frustrat flyer stand around',\n",
              " 'unit think dm would better',\n",
              " 'unit gate announc state delay due mainten yet app say late flight arriv aircraft tell truth unfriendli',\n",
              " 'unit easili worst compani ever experienc lost someon person possess amp care less',\n",
              " 'unit app show arriv aircraft earli depart flight delay due late flight arriv aircraft unfriendli',\n",
              " 'unit alreadi airport hr late flightr still guy realli kill today tri stay posit',\n",
              " 'unit unit servic level reach etihad let realist lufthansa ill consid',\n",
              " 'unit realli someon call sick someon forgot call replac hour late flight take theworst',\n",
              " 'unit ask flight attend typic compens would amp say might get free tv unaccept',\n",
              " 'unit done',\n",
              " 'unit thank jh appreci prompt respons passeng',\n",
              " 'unit disappoint today simpli put rather unpleas thing current flight delay cant wait get home',\n",
              " 'unit round trip non english speak friend strand twice hour time staff member rude',\n",
              " 'unit found group peopl actual hate peopl isi that right unit airlin',\n",
              " 'unit nope walk amp orf termin amp unit agent found show last minut board us mani panick peopl',\n",
              " 'unit thank',\n",
              " 'unit time final get dalla could driven less frustrat cheaper',\n",
              " 'unit tri get final destin need compens hr person time wast',\n",
              " 'unit guy realli custom servic clue could spent effort clear bin rollerboard instead art project mine',\n",
              " 'unit prioriti iov',\n",
              " 'unit pleas premier platinum',\n",
              " ...]"
            ]
          },
          "metadata": {},
          "execution_count": 61
        }
      ]
    },
    {
      "cell_type": "markdown",
      "source": [
        "# **Feature Extraction**"
      ],
      "metadata": {
        "id": "LzFeSxmRXgo3"
      }
    },
    {
      "cell_type": "markdown",
      "source": [
        "**Bag of Words Model**"
      ],
      "metadata": {
        "id": "jLjHp7b8Xidx"
      }
    },
    {
      "cell_type": "code",
      "source": [
        "# Create the bag of words model\n",
        "from sklearn.feature_extraction.text import CountVectorizer\n",
        "cv = CountVectorizer(max_features= 1500)# We restrict the words to 1500 which keeps the most frequent words"
      ],
      "metadata": {
        "id": "oqio2OjdXpmx"
      },
      "execution_count": 62,
      "outputs": []
    },
    {
      "cell_type": "code",
      "source": [
        "X = cv.fit_transform(corpus).toarray()# independent variables"
      ],
      "metadata": {
        "id": "bs3vUNpsXwWr"
      },
      "execution_count": 63,
      "outputs": []
    },
    {
      "cell_type": "code",
      "source": [
        "X"
      ],
      "metadata": {
        "colab": {
          "base_uri": "https://localhost:8080/"
        },
        "id": "nWc1JbU_Xxcr",
        "outputId": "a315d171-4d91-4189-adab-f93b3c530d8b"
      },
      "execution_count": 64,
      "outputs": [
        {
          "output_type": "execute_result",
          "data": {
            "text/plain": [
              "array([[0, 0, 0, ..., 0, 0, 0],\n",
              "       [0, 0, 0, ..., 0, 0, 0],\n",
              "       [0, 0, 0, ..., 0, 0, 0],\n",
              "       ...,\n",
              "       [0, 0, 0, ..., 0, 0, 0],\n",
              "       [0, 0, 0, ..., 0, 0, 0],\n",
              "       [0, 0, 0, ..., 0, 0, 0]])"
            ]
          },
          "metadata": {},
          "execution_count": 64
        }
      ]
    },
    {
      "cell_type": "code",
      "source": [
        "X.shape"
      ],
      "metadata": {
        "colab": {
          "base_uri": "https://localhost:8080/"
        },
        "id": "OXuLdAj5X15V",
        "outputId": "1514657f-e75a-4fb0-ab31-5a3c516da53e"
      },
      "execution_count": 65,
      "outputs": [
        {
          "output_type": "execute_result",
          "data": {
            "text/plain": [
              "(11541, 1500)"
            ]
          },
          "metadata": {},
          "execution_count": 65
        }
      ]
    },
    {
      "cell_type": "code",
      "source": [
        "y = new_df.iloc[:, 1].values"
      ],
      "metadata": {
        "id": "nUULNKQwX50f"
      },
      "execution_count": 66,
      "outputs": []
    },
    {
      "cell_type": "code",
      "source": [
        "y.shape"
      ],
      "metadata": {
        "colab": {
          "base_uri": "https://localhost:8080/"
        },
        "id": "uZUO_JnfX87-",
        "outputId": "7107d180-3a06-4b8e-adaa-005e5dcf59a2"
      },
      "execution_count": 67,
      "outputs": [
        {
          "output_type": "execute_result",
          "data": {
            "text/plain": [
              "(11541,)"
            ]
          },
          "metadata": {},
          "execution_count": 67
        }
      ]
    },
    {
      "cell_type": "markdown",
      "source": [
        "# **Modeling**"
      ],
      "metadata": {
        "id": "bgd7om_3YBRh"
      }
    },
    {
      "cell_type": "markdown",
      "source": [
        "**Naive Bayes Model **"
      ],
      "metadata": {
        "id": "bqlbugFJYDRf"
      }
    },
    {
      "cell_type": "code",
      "source": [
        "# Splitting the dataset into the Training set and Test set\n",
        "\n",
        "from sklearn.model_selection import train_test_split\n",
        "X_train,X_test,y_train,y_test = train_test_split(X,y,test_size = 0.2,random_state = 420)\n",
        "# Fitting classifier to the Training set\n",
        "\n",
        "from sklearn.naive_bayes import GaussianNB\n",
        "cf_naive = GaussianNB()\n",
        "cf_naive.fit(X_train,y_train)\n",
        "\n",
        "# Predicting the Test set results \n",
        "y_pred = cf_naive.predict(X_test)\n",
        "\n",
        "\n",
        "# Make the Confusion Matrix\n",
        "\n",
        "from sklearn.metrics import confusion_matrix,accuracy_score,precision_score,recall_score,f1_score\n",
        "cm = confusion_matrix(y_test,y_pred)\n",
        "df_cm = pd.DataFrame(cm, index = (0, 1), columns = (0, 1))\n",
        "plt.figure(figsize = (10, 7))\n",
        "sns.heatmap(df_cm, annot = True, fmt ='g')\n",
        "print(cm)\n",
        "\n",
        "\n",
        "\n",
        "# Evaluate the results\n",
        "print('Accuracy Score:',accuracy_score(y_test,y_pred))\n",
        "print('Precision Score:',precision_score(y_test,y_pred))\n",
        "print('Recall Score:',recall_score(y_test,y_pred))\n",
        "print('F1 Score:',f1_score(y_test,y_pred))"
      ],
      "metadata": {
        "colab": {
          "base_uri": "https://localhost:8080/",
          "height": 532
        },
        "id": "10abzlrsYO5q",
        "outputId": "63ee734f-c487-4c24-d2a9-7a9cf312d369"
      },
      "execution_count": 68,
      "outputs": [
        {
          "output_type": "stream",
          "name": "stdout",
          "text": [
            "[[ 312 1555]\n",
            " [  44  398]]\n",
            "Accuracy Score: 0.3074924209614552\n",
            "Precision Score: 0.20378904249871993\n",
            "Recall Score: 0.9004524886877828\n",
            "F1 Score: 0.3323590814196242\n"
          ]
        },
        {
          "output_type": "display_data",
          "data": {
            "text/plain": [
              "<Figure size 720x504 with 2 Axes>"
            ],
            "image/png": "[encoded data removed]"
          },
          "metadata": {
            "needs_background": "light"
          }
        }
      ]
    },
    {
      "cell_type": "markdown",
      "source": [
        "**KNN Model**"
      ],
      "metadata": {
        "id": "Mln71xsNYVE7"
      }
    },
    {
      "cell_type": "code",
      "source": [
        "# Splitting the dataset into the Training set and Test set\n",
        "from sklearn.model_selection import train_test_split\n",
        "X_train,X_test,y_train,y_test = train_test_split(X,y,test_size = 0.2,random_state = 421)\n",
        "\n",
        "# Fitting classifier to the Training set\n",
        "\n",
        "from sklearn.neighbors import KNeighborsClassifier\n",
        "cf_knn = KNeighborsClassifier(n_neighbors=2)\n",
        "cf_knn.fit(X_train, y_train)  \n",
        "\n",
        "\n",
        "# Predicting the Test set results \n",
        "\n",
        "y_pred = cf_knn.predict(X_test)\n",
        "\n",
        "\n",
        "# Make the Confusion Matrix\n",
        "\n",
        "from sklearn.metrics import confusion_matrix,accuracy_score,precision_score,recall_score,f1_score\n",
        "cm = confusion_matrix(y_test,y_pred)\n",
        "df_cm = pd.DataFrame(cm, index = (0, 1), columns = (0, 1))\n",
        "plt.figure(figsize = (10, 7))\n",
        "sns.heatmap(df_cm, annot = True, fmt ='g')\n",
        "\n",
        "\n",
        "# Evaluate the results\n",
        "\n",
        "print('Accuracy Score:',accuracy_score(y_test,y_pred))\n",
        "print('Precision Score:',precision_score(y_test,y_pred))\n",
        "print('Recall Score:',recall_score(y_test,y_pred))\n",
        "print('F1 Score:',f1_score(y_test,y_pred))"
      ],
      "metadata": {
        "colab": {
          "base_uri": "https://localhost:8080/",
          "height": 497
        },
        "id": "xjk7iz3AYWe7",
        "outputId": "8910de45-c341-42ca-e79b-ffd50ecedad3"
      },
      "execution_count": 69,
      "outputs": [
        {
          "output_type": "stream",
          "name": "stdout",
          "text": [
            "Accuracy Score: 0.7553053269813772\n",
            "Precision Score: 0.2655367231638418\n",
            "Recall Score: 0.0975103734439834\n",
            "F1 Score: 0.1426403641881639\n"
          ]
        },
        {
          "output_type": "display_data",
          "data": {
            "text/plain": [
              "<Figure size 720x504 with 2 Axes>"
            ],
            "image/png": "[encoded data removed]"
          },
          "metadata": {
            "needs_background": "light"
          }
        }
      ]
    },
    {
      "cell_type": "markdown",
      "source": [
        "**Support Vector Machine SVM Model**"
      ],
      "metadata": {
        "id": "QzQsFK-8Yd2H"
      }
    },
    {
      "cell_type": "code",
      "source": [
        "# Splitting the dataset into the Training set and Test set\n",
        "\n",
        "from sklearn.model_selection import train_test_split\n",
        "X_train,X_test,y_train,y_test = train_test_split(X,y,test_size = 0.2,random_state = 422)\n",
        "\n",
        "# Fitting classifier to the Training set\n",
        "from sklearn.svm import SVC\n",
        "cf_svc = SVC(kernel='linear', random_state=0)\n",
        "cf_svc.fit(X_train, y_train) \n",
        "\n",
        "# Predicting the Test set results \n",
        "y_pred = cf_svc.predict(X_test)\n",
        "\n",
        "# Make the Confusion Matrix\n",
        "from sklearn.metrics import confusion_matrix,accuracy_score,precision_score,recall_score,f1_score\n",
        "cm = confusion_matrix(y_test,y_pred)\n",
        "df_cm = pd.DataFrame(cm, index = (0, 1), columns = (0, 1))\n",
        "plt.figure(figsize = (10, 7))\n",
        "sns.heatmap(df_cm, annot = True, fmt ='g')\n",
        "\n",
        "# Evaluate the results\n",
        "print('Accuracy Score:',accuracy_score(y_test,y_pred))\n",
        "print('Precision Score:',precision_score(y_test,y_pred))\n",
        "print('Recall Score:',recall_score(y_test,y_pred))\n",
        "print('F1 Score:',f1_score(y_test,y_pred))"
      ],
      "metadata": {
        "colab": {
          "base_uri": "https://localhost:8080/",
          "height": 497
        },
        "id": "iS3RyDKVYfXr",
        "outputId": "af05a887-cdaa-4f4f-beac-4d9878267b26"
      },
      "execution_count": 70,
      "outputs": [
        {
          "output_type": "stream",
          "name": "stdout",
          "text": [
            "Accuracy Score: 0.7756604590731918\n",
            "Precision Score: 0.21428571428571427\n",
            "Recall Score: 0.018218623481781375\n",
            "F1 Score: 0.033582089552238806\n"
          ]
        },
        {
          "output_type": "display_data",
          "data": {
            "text/plain": [
              "<Figure size 720x504 with 2 Axes>"
            ],
            "image/png": "[encoded data removed]"
          },
          "metadata": {
            "needs_background": "light"
          }
        }
      ]
    },
    {
      "cell_type": "markdown",
      "source": [
        "**Decision Tree Classification Model**"
      ],
      "metadata": {
        "id": "Y_Zgr2UpY_Ae"
      }
    },
    {
      "cell_type": "code",
      "source": [
        "# Splitting the dataset into the Training set and Test set\n",
        "from sklearn.model_selection import train_test_split\n",
        "X_train,X_test,y_train,y_test = train_test_split(X,y,test_size = 0.2,random_state = 423)\n",
        "\n",
        "# Fitting classifier to the Training set\n",
        "\n",
        "from sklearn.tree import DecisionTreeClassifier \n",
        "cf_dt = DecisionTreeClassifier()\n",
        "cf_dt.fit(X_train, y_train) \n",
        "\n",
        "# Predicting the Test set results \n",
        "y_pred = cf_dt.predict(X_test)\n",
        "\n",
        "# Make the Confusion Matrix\n",
        "from sklearn.metrics import confusion_matrix,accuracy_score,precision_score,recall_score,f1_score\n",
        "cm = confusion_matrix(y_test,y_pred)\n",
        "df_cm = pd.DataFrame(cm, index = (0, 1), columns = (0, 1))\n",
        "plt.figure(figsize = (10, 7))\n",
        "sns.heatmap(df_cm, annot = True, fmt ='g')\n",
        "\n",
        "\n",
        "# Evaluate the results\n",
        "print('Accuracy Score:',accuracy_score(y_test,y_pred))\n",
        "print('Precision Score:',precision_score(y_test,y_pred))\n",
        "print('Recall Score:',recall_score(y_test,y_pred))\n",
        "print('F1 Score:',f1_score(y_test,y_pred))"
      ],
      "metadata": {
        "colab": {
          "base_uri": "https://localhost:8080/",
          "height": 497
        },
        "id": "XLBqkkTCYkY1",
        "outputId": "6e722ca0-e4ae-4893-b98c-40d29d5d5dd5"
      },
      "execution_count": 71,
      "outputs": [
        {
          "output_type": "stream",
          "name": "stdout",
          "text": [
            "Accuracy Score: 0.6868774361195322\n",
            "Precision Score: 0.25865580448065173\n",
            "Recall Score: 0.2613168724279835\n",
            "F1 Score: 0.2599795291709314\n"
          ]
        },
        {
          "output_type": "display_data",
          "data": {
            "text/plain": [
              "<Figure size 720x504 with 2 Axes>"
            ],
            "image/png": "[encoded data removed]"
          },
          "metadata": {
            "needs_background": "light"
          }
        }
      ]
    },
    {
      "cell_type": "markdown",
      "source": [
        "**Random Forest Model**"
      ],
      "metadata": {
        "id": "ZTugn_uwZT0N"
      }
    },
    {
      "cell_type": "code",
      "source": [
        "# Splitting the dataset into the Training set and Test set\n",
        "from sklearn.model_selection import train_test_split\n",
        "X_train,X_test,y_train,y_test = train_test_split(X,y,test_size = 0.2,random_state = 424)\n",
        "\n",
        "# Fitting classifier to the Training set\n",
        "\n",
        "from sklearn.ensemble import RandomForestClassifier\n",
        "cf_rf = RandomForestClassifier(n_estimators=100)\n",
        "cf_rf.fit(X_train, y_train)  \n",
        "\n",
        "# Predicting the Test set results \n",
        "y_pred = cf_rf.predict(X_test)\n",
        "\n",
        "# Make the Confusion Matrix\n",
        "from sklearn.metrics import confusion_matrix,accuracy_score,precision_score,recall_score,f1_score\n",
        "cm = confusion_matrix(y_test,y_pred)\n",
        "df_cm = pd.DataFrame(cm, index = (0, 1), columns = (0, 1))\n",
        "plt.figure(figsize = (10, 7))\n",
        "sns.heatmap(df_cm, annot = True, fmt ='g')\n",
        "\n",
        "# Evaluate the results\n",
        "print('Accuracy Score:',accuracy_score(y_test,y_pred))\n",
        "print('Precision Score:',precision_score(y_test,y_pred))\n",
        "print('Recall Score:',recall_score(y_test,y_pred))\n",
        "print('F1 Score:',f1_score(y_test,y_pred))"
      ],
      "metadata": {
        "colab": {
          "base_uri": "https://localhost:8080/",
          "height": 497
        },
        "id": "Ec1kxgtvZVFG",
        "outputId": "668da290-6db4-4939-b25d-484452e1c16e"
      },
      "execution_count": 72,
      "outputs": [
        {
          "output_type": "stream",
          "name": "stdout",
          "text": [
            "Accuracy Score: 0.7570376786487657\n",
            "Precision Score: 0.2978723404255319\n",
            "Recall Score: 0.08333333333333333\n",
            "F1 Score: 0.13023255813953488\n"
          ]
        },
        {
          "output_type": "display_data",
          "data": {
            "text/plain": [
              "<Figure size 720x504 with 2 Axes>"
            ],
            "image/png": "[encoded data removed]"
          },
          "metadata": {
            "needs_background": "light"
          }
        }
      ]
    },
    {
      "cell_type": "markdown",
      "source": [
        "**Feature Extraction**"
      ],
      "metadata": {
        "id": "KFukjEhNZdlt"
      }
    },
    {
      "cell_type": "markdown",
      "source": [
        "TF IDF"
      ],
      "metadata": {
        "id": "cGp704trZe6K"
      }
    },
    {
      "cell_type": "code",
      "source": [
        "from sklearn.feature_extraction.text import TfidfVectorizer\n",
        "\n",
        "vectorizer = TfidfVectorizer (max_features=2500, min_df=7, max_df=0.8, stop_words=stopwords.words('english'))"
      ],
      "metadata": {
        "id": "5CpT29wnZid9"
      },
      "execution_count": 73,
      "outputs": []
    },
    {
      "cell_type": "code",
      "source": [
        "corpus = vectorizer.fit_transform(corpus).toarray()"
      ],
      "metadata": {
        "id": "uXpztfNUZmVm"
      },
      "execution_count": 74,
      "outputs": []
    },
    {
      "cell_type": "code",
      "source": [
        "X =corpus"
      ],
      "metadata": {
        "id": "01xCgiyvZo2L"
      },
      "execution_count": 75,
      "outputs": []
    },
    {
      "cell_type": "code",
      "source": [
        "X.shape"
      ],
      "metadata": {
        "colab": {
          "base_uri": "https://localhost:8080/"
        },
        "id": "xddXwAPqZrJh",
        "outputId": "946d222c-5f38-4459-d028-898d8636ad6a"
      },
      "execution_count": 76,
      "outputs": [
        {
          "output_type": "execute_result",
          "data": {
            "text/plain": [
              "(11541, 1646)"
            ]
          },
          "metadata": {},
          "execution_count": 76
        }
      ]
    },
    {
      "cell_type": "markdown",
      "source": [
        "**Modeling**"
      ],
      "metadata": {
        "id": "lPCxS9pSZwZ2"
      }
    },
    {
      "cell_type": "markdown",
      "source": [
        "Random Forest Model"
      ],
      "metadata": {
        "id": "J8a0PciAZyut"
      }
    },
    {
      "cell_type": "code",
      "source": [
        "from sklearn.model_selection import train_test_split\n",
        "from sklearn.metrics import f1_score,confusion_matrix,accuracy_score,precision_score,recall_score\n",
        "from sklearn.ensemble import RandomForestClassifier\n",
        "\n",
        "# Splitting the dataset into the Training set and Test set\n",
        "X_train, X_test, y_train, y_test = train_test_split(X, y, test_size=0.5, random_state=0)\n",
        "\n",
        "# Fitting classifier to the Training set\n",
        "rfc = RandomForestClassifier(max_depth=2, random_state=0)\n",
        "rfc.fit(X_train, y_train)\n",
        "\n",
        "# Predicting the Test set results \n",
        "y_pred = rfc.predict(X_test)\n",
        "\n",
        "# Make the Confusion Matrix\n",
        "cm = confusion_matrix(y_test, y_pred)\n",
        "df_cm = pd.DataFrame(cm, index = (0, 1), columns = (0, 1))\n",
        "plt.figure(figsize = (10, 7))\n",
        "sns.heatmap(df_cm, annot = True, fmt ='g')\n",
        "\n",
        "# Evaluate the results\n",
        "print(f\"Accuracy Score: {accuracy_score(y_test, y_pred)}\")\n",
        "print(f\"F1 Score: {f1_score(y_test, y_pred)}\")\n",
        "print(f\"Recall Score: {recall_score(y_test, y_pred)}\")\n",
        "print(f\"Precision Score: {precision_score(y_test, y_pred)}\")"
      ],
      "metadata": {
        "colab": {
          "base_uri": "https://localhost:8080/",
          "height": 552
        },
        "id": "lAyyspyBZx5i",
        "outputId": "8678185d-d3bb-4278-86cd-acac8f257046"
      },
      "execution_count": 77,
      "outputs": [
        {
          "output_type": "stream",
          "name": "stdout",
          "text": [
            "Accuracy Score: 0.7918904869173453\n",
            "F1 Score: 0.0\n",
            "Recall Score: 0.0\n",
            "Precision Score: 0.0\n"
          ]
        },
        {
          "output_type": "stream",
          "name": "stderr",
          "text": [
            "/usr/local/lib/python3.7/dist-packages/sklearn/metrics/_classification.py:1318: UndefinedMetricWarning: Precision is ill-defined and being set to 0.0 due to no predicted samples. Use `zero_division` parameter to control this behavior.\n",
            "  _warn_prf(average, modifier, msg_start, len(result))\n"
          ]
        },
        {
          "output_type": "display_data",
          "data": {
            "text/plain": [
              "<Figure size 720x504 with 2 Axes>"
            ],
            "image/png": "[encoded data removed]"
          },
          "metadata": {
            "needs_background": "light"
          }
        }
      ]
    },
    {
      "cell_type": "markdown",
      "source": [
        "**Decision Tree Model**"
      ],
      "metadata": {
        "id": "2JSDhXeEaD7h"
      }
    },
    {
      "cell_type": "code",
      "source": [
        "from sklearn.model_selection import train_test_split\n",
        "from sklearn.tree import DecisionTreeClassifier\n",
        "from sklearn.metrics import f1_score,confusion_matrix,accuracy_score,precision_score,recall_score\n",
        "\n",
        "# Splitting the dataset into the Training set and Test set\n",
        "X_train, X_test, y_train, y_test = train_test_split(X, y, test_size=0.5, random_state=0)\n",
        "\n",
        "# Fitting classifier to the Training set\n",
        "model_tree = DecisionTreeClassifier(random_state = 2)\n",
        "model_tree.fit(X_train, y_train)\n",
        "\n",
        "# Predicting the Test set results \n",
        "y_pred = model_tree.predict(X_test)\n",
        "\n",
        "# Make the Confusion Matrix\n",
        "cm = confusion_matrix(y_test, y_pred)\n",
        "df_cm = pd.DataFrame(cm, index = (0, 1), columns = (0, 1))\n",
        "plt.figure(figsize = (10, 7))\n",
        "sns.heatmap(df_cm, annot = True, fmt ='g')\n",
        "\n",
        "# Evaluate the results\n",
        "print(f\"Accuracy Score: {accuracy_score(y_test, y_pred)}\")\n",
        "print(f\"F1 Score: {f1_score(y_test, y_pred)}\")\n",
        "print(f\"Recall Score: {recall_score(y_test, y_pred)}\")\n",
        "print(f\"Precision Score: {precision_score(y_test, y_pred)}\")"
      ],
      "metadata": {
        "colab": {
          "base_uri": "https://localhost:8080/",
          "height": 497
        },
        "id": "9SVTDzbLZ85u",
        "outputId": "7f6df3a8-1961-4a67-aa25-3de4e9758ac7"
      },
      "execution_count": 78,
      "outputs": [
        {
          "output_type": "stream",
          "name": "stdout",
          "text": [
            "Accuracy Score: 0.7094091145382083\n",
            "F1 Score: 0.24831913939937247\n",
            "Recall Score: 0.23064113238967526\n",
            "Precision Score: 0.2689320388349515\n"
          ]
        },
        {
          "output_type": "display_data",
          "data": {
            "text/plain": [
              "<Figure size 720x504 with 2 Axes>"
            ],
            "image/png": "[encoded data removed]"
          },
          "metadata": {
            "needs_background": "light"
          }
        }
      ]
    },
    {
      "cell_type": "markdown",
      "source": [
        "**Support Vector Machine SVM Model**"
      ],
      "metadata": {
        "id": "AUuITDu9aNth"
      }
    },
    {
      "cell_type": "code",
      "source": [
        "from sklearn.model_selection import train_test_split\n",
        "from sklearn.metrics import f1_score,confusion_matrix,accuracy_score,precision_score,recall_score\n",
        "from sklearn import svm\n",
        "\n",
        "# Splitting the dataset into the Training set and Test set\n",
        "X_train, X_test, y_train, y_test = train_test_split(X, y, test_size=0.5, random_state=0)\n",
        "\n",
        "# Fitting classifier to the Training set\n",
        "# C = 1.0 # SVM regularization parameter\n",
        "svc = svm.SVC(kernel='linear', C=1,gamma='auto').fit(X_train, y_train) # we can use rbf, poly instead of linear too.\n",
        "\n",
        "# Predicting the Test set results \n",
        "y_pred = svc.predict(X_test)\n",
        "\n",
        "# Make the Confusion Matrix\n",
        "cm = confusion_matrix(y_test, y_pred)\n",
        "df_cm = pd.DataFrame(cm, index = (0, 1), columns = (0, 1))\n",
        "plt.figure(figsize = (10, 7))\n",
        "sns.heatmap(df_cm, annot = True, fmt ='g')\n",
        "\n",
        "# Evaluate the results\n",
        "print(f\"Accuracy Score: {accuracy_score(y_test, y_pred)}\")\n",
        "print(f\"F1 Score: {f1_score(y_test, y_pred)}\")\n",
        "print(f\"Recall Score: {recall_score(y_test, y_pred)}\")\n",
        "print(f\"Precision Score: {precision_score(y_test, y_pred)}\")"
      ],
      "metadata": {
        "colab": {
          "base_uri": "https://localhost:8080/",
          "height": 497
        },
        "id": "-RfvxGFuZ9L-",
        "outputId": "8ce40078-39ac-485e-f7d0-969f652fbf97"
      },
      "execution_count": 79,
      "outputs": [
        {
          "output_type": "stream",
          "name": "stdout",
          "text": [
            "Accuracy Score: 0.7915439265291977\n",
            "F1 Score: 0.0033140016570008283\n",
            "Recall Score: 0.0016652789342214821\n",
            "Precision Score: 0.3333333333333333\n"
          ]
        },
        {
          "output_type": "display_data",
          "data": {
            "text/plain": [
              "<Figure size 720x504 with 2 Axes>"
            ],
            "image/png": "[encoded data removed]"
          },
          "metadata": {
            "needs_background": "light"
          }
        }
      ]
    },
    {
      "cell_type": "markdown",
      "source": [
        "**KNN Model**"
      ],
      "metadata": {
        "id": "FJZLh4eCaTPw"
      }
    },
    {
      "cell_type": "code",
      "source": [
        "from sklearn.model_selection import train_test_split\n",
        "from sklearn.neighbors import KNeighborsClassifier\n",
        "from sklearn.metrics import f1_score,confusion_matrix,accuracy_score,precision_score,recall_score\n",
        "\n",
        "# Splitting the dataset into the Training set and Test set\n",
        "X_train, X_test, y_train, y_test = train_test_split(X, y, test_size=0.5, random_state=0)\n",
        "\n",
        "# Fitting classifier to the Training set\n",
        "neigh = KNeighborsClassifier(n_neighbors=3)\n",
        "neigh.fit(X_train, y_train)\n",
        "\n",
        "# Predicting the Test set results \n",
        "y_pred = neigh.predict(X_test)\n",
        "\n",
        "# Make the Confusion Matrix\n",
        "cm = confusion_matrix(y_test, y_pred)\n",
        "df_cm = pd.DataFrame(cm, index = (0, 1), columns = (0, 1))\n",
        "plt.figure(figsize = (10, 7))\n",
        "sns.heatmap(df_cm, annot = True, fmt ='g')\n",
        "\n",
        "# Evaluate the results\n",
        "print(f\"Accuracy Score: {accuracy_score(y_test, y_pred)}\")\n",
        "print(f\"F1 Score: {f1_score(y_test, y_pred)}\")\n",
        "print(f\"Recall Score: {recall_score(y_test, y_pred)}\")\n",
        "print(f\"Precision Score: {precision_score(y_test, y_pred)}\")"
      ],
      "metadata": {
        "colab": {
          "base_uri": "https://localhost:8080/",
          "height": 497
        },
        "id": "SyAAyMdrZ9IU",
        "outputId": "0b42c485-99f0-44a6-aa75-469bdbe4d6fd"
      },
      "execution_count": 80,
      "outputs": [
        {
          "output_type": "stream",
          "name": "stdout",
          "text": [
            "Accuracy Score: 0.7367873852018715\n",
            "F1 Score: 0.15187046342825236\n",
            "Recall Score: 0.11323896752706078\n",
            "Precision Score: 0.2305084745762712\n"
          ]
        },
        {
          "output_type": "display_data",
          "data": {
            "text/plain": [
              "<Figure size 720x504 with 2 Axes>"
            ],
            "image/png": "[encoded data removed]"
          },
          "metadata": {
            "needs_background": "light"
          }
        }
      ]
    },
    {
      "cell_type": "markdown",
      "source": [
        "**Naive Bayes Model**"
      ],
      "metadata": {
        "id": "3uZEG81Ma9gq"
      }
    },
    {
      "cell_type": "code",
      "source": [
        "from sklearn.model_selection import train_test_split\n",
        "from sklearn.naive_bayes import GaussianNB\n",
        "from sklearn.metrics import f1_score,confusion_matrix,accuracy_score,precision_score,recall_score\n",
        "\n",
        "# Splitting the dataset into the Training set and Test set\n",
        "X_train, X_test, y_train, y_test = train_test_split(X, y, test_size=0.5, random_state=0)\n",
        "gnb = GaussianNB()\n",
        "\n",
        "# Fitting classifier to the Training set\n",
        "gnb.fit(X_train, y_train)\n",
        "\n",
        "# Predicting the Test set results \n",
        "y_pred = gnb.predict(X_test)\n",
        "\n",
        "# Make the Confusion Matrix\n",
        "cm = confusion_matrix(y_test, y_pred)\n",
        "df_cm = pd.DataFrame(cm, index = (0, 1), columns = (0, 1))\n",
        "plt.figure(figsize = (10, 7))\n",
        "sns.heatmap(df_cm, annot = True, fmt ='g')\n",
        "\n",
        "# Evaluate the results\n",
        "print(f\"Accuracy Score: {accuracy_score(y_test, y_pred)}\")\n",
        "print(f\"F1 Score: {f1_score(y_test, y_pred)}\")\n",
        "print(f\"Recall Score: {recall_score(y_test, y_pred)}\")\n",
        "print(f\"Precision Score: {precision_score(y_test, y_pred)}\")"
      ],
      "metadata": {
        "colab": {
          "base_uri": "https://localhost:8080/",
          "height": 497
        },
        "id": "G7HJEyjda-24",
        "outputId": "2f5e29d3-efd8-4776-d6a5-7d00cfe7e445"
      },
      "execution_count": 81,
      "outputs": [
        {
          "output_type": "stream",
          "name": "stdout",
          "text": [
            "Accuracy Score: 0.3782706636631433\n",
            "F1 Score: 0.3285928143712575\n",
            "Recall Score: 0.7310574521232306\n",
            "Precision Score: 0.21192372676804247\n"
          ]
        },
        {
          "output_type": "display_data",
          "data": {
            "text/plain": [
              "<Figure size 720x504 with 2 Axes>"
            ],
            "image/png": "[encoded data removed]"
          },
          "metadata": {
            "needs_background": "light"
          }
        }
      ]
    },
    {
      "cell_type": "markdown",
      "source": [
        "**Compare the various models on both the approaches.**\n",
        "\n",
        "\n",
        "Performance of each model based on accuracy\n",
        "\n",
        "\n",
        "\n",
        " |Model| Bag of Words | TF IDF |\n",
        "  |-------|:----------------:|:----------:|\n",
        "  |Naive Bayes| 0.29|0.30|\n",
        "  |KNN |0.76|0.75|\n",
        "  |SVM|0.79|0.79|\n",
        "  |Decision Tree|0.70|0.70|\n",
        "  |Random Forest|0.77|0.78|\n",
        "\n",
        "---\n",
        "\n",
        "\n",
        "\n",
        "---\n",
        "\n"
      ],
      "metadata": {
        "id": "tMt-bf_wbENj"
      }
    },
    {
      "cell_type": "markdown",
      "source": [
        "**Which model predicts the best?**\n",
        "\n",
        "SVM predicts better results after features extraction"
      ],
      "metadata": {
        "id": "6qpEFXiFbGgL"
      }
    },
    {
      "cell_type": "markdown",
      "source": [],
      "metadata": {
        "id": "lMEcFyhpZ72b"
      }
    }
  ]
}